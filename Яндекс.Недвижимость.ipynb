{
 "cells": [
  {
   "cell_type": "markdown",
   "metadata": {
    "toc": true
   },
   "source": [
    "<h1>Содержание<span class=\"tocSkip\"></span></h1>\n",
    "<div class=\"toc\"><ul class=\"toc-item\"><li><span><a href=\"#Изучение-данных-из-файла\" data-toc-modified-id=\"Изучение-данных-из-файла-1\"><span class=\"toc-item-num\">1&nbsp;&nbsp;</span>Изучение данных из файла</a></span><ul class=\"toc-item\"><li><span><a href=\"#Вывод\" data-toc-modified-id=\"Вывод-1.1\"><span class=\"toc-item-num\">1.1&nbsp;&nbsp;</span>Вывод</a></span></li><li><span><a href=\"#Вывод\" data-toc-modified-id=\"Вывод-1.2\"><span class=\"toc-item-num\">1.2&nbsp;&nbsp;</span>Вывод</a></span></li></ul></li><li><span><a href=\"#Расчёты-и-добавление-результатов-в-таблицу\" data-toc-modified-id=\"Расчёты-и-добавление-результатов-в-таблицу-2\"><span class=\"toc-item-num\">2&nbsp;&nbsp;</span>Расчёты и добавление результатов в таблицу</a></span><ul class=\"toc-item\"><li><span><a href=\"#Вывод\" data-toc-modified-id=\"Вывод-2.1\"><span class=\"toc-item-num\">2.1&nbsp;&nbsp;</span>Вывод</a></span></li></ul></li><li><span><a href=\"#Исследовательский-анализ-данных\" data-toc-modified-id=\"Исследовательский-анализ-данных-3\"><span class=\"toc-item-num\">3&nbsp;&nbsp;</span>Исследовательский анализ данных</a></span></li><li><span><a href=\"#Общий-вывод\" data-toc-modified-id=\"Общий-вывод-4\"><span class=\"toc-item-num\">4&nbsp;&nbsp;</span>Общий вывод</a></span><ul class=\"toc-item\"><li><span><a href=\"#Обобщенный-вывод(рекомендация):\" data-toc-modified-id=\"Обобщенный-вывод(рекомендация):-4.1\"><span class=\"toc-item-num\">4.1&nbsp;&nbsp;</span>Обобщенный вывод(рекомендация):</a></span></li></ul></li><li><span><a href=\"#Чек-лист-готовности-проекта\" data-toc-modified-id=\"Чек-лист-готовности-проекта-5\"><span class=\"toc-item-num\">5&nbsp;&nbsp;</span>Чек-лист готовности проекта</a></span></li></ul></div>"
   ]
  },
  {
   "cell_type": "markdown",
   "metadata": {},
   "source": [
    "# Исследование объявлений о продаже квартир\n",
    "\n",
    "В вашем распоряжении данные сервиса Яндекс.Недвижимость — архив объявлений о продаже квартир в Санкт-Петербурге и соседних населённых пунктах за несколько лет. Нужно научиться определять рыночную стоимость объектов недвижимости. Ваша задача — установить параметры. Это позволит построить автоматизированную систему: она отследит аномалии и мошенническую деятельность. \n",
    "\n",
    "По каждой квартире на продажу доступны два вида данных. Первые вписаны пользователем, вторые получены автоматически на основе картографических данных. Например, расстояние до центра, аэропорта, ближайшего парка и водоёма. "
   ]
  },
  {
   "cell_type": "markdown",
   "metadata": {},
   "source": [
    "## Изучение данных из файла"
   ]
  },
  {
   "cell_type": "code",
   "execution_count": 1,
   "metadata": {},
   "outputs": [
    {
     "name": "stdout",
     "output_type": "stream",
     "text": [
      "<class 'pandas.core.frame.DataFrame'>\n",
      "RangeIndex: 23699 entries, 0 to 23698\n",
      "Data columns (total 22 columns):\n",
      "total_images            23699 non-null int64\n",
      "last_price              23699 non-null float64\n",
      "total_area              23699 non-null float64\n",
      "first_day_exposition    23699 non-null object\n",
      "rooms                   23699 non-null int64\n",
      "ceiling_height          14504 non-null float64\n",
      "floors_total            23613 non-null float64\n",
      "living_area             21796 non-null float64\n",
      "floor                   23699 non-null int64\n",
      "is_apartment            2775 non-null object\n",
      "studio                  23699 non-null bool\n",
      "open_plan               23699 non-null bool\n",
      "kitchen_area            21421 non-null float64\n",
      "balcony                 12180 non-null float64\n",
      "locality_name           23650 non-null object\n",
      "airports_nearest        18157 non-null float64\n",
      "cityCenters_nearest     18180 non-null float64\n",
      "parks_around3000        18181 non-null float64\n",
      "parks_nearest           8079 non-null float64\n",
      "ponds_around3000        18181 non-null float64\n",
      "ponds_nearest           9110 non-null float64\n",
      "days_exposition         20518 non-null float64\n",
      "dtypes: bool(2), float64(14), int64(3), object(3)\n",
      "memory usage: 3.7+ MB\n"
     ]
    },
    {
     "data": {
      "text/html": [
       "<div>\n",
       "<style scoped>\n",
       "    .dataframe tbody tr th:only-of-type {\n",
       "        vertical-align: middle;\n",
       "    }\n",
       "\n",
       "    .dataframe tbody tr th {\n",
       "        vertical-align: top;\n",
       "    }\n",
       "\n",
       "    .dataframe thead th {\n",
       "        text-align: right;\n",
       "    }\n",
       "</style>\n",
       "<table border=\"1\" class=\"dataframe\">\n",
       "  <thead>\n",
       "    <tr style=\"text-align: right;\">\n",
       "      <th></th>\n",
       "      <th>total_images</th>\n",
       "      <th>last_price</th>\n",
       "      <th>total_area</th>\n",
       "      <th>first_day_exposition</th>\n",
       "      <th>rooms</th>\n",
       "      <th>ceiling_height</th>\n",
       "      <th>floors_total</th>\n",
       "      <th>living_area</th>\n",
       "      <th>floor</th>\n",
       "      <th>is_apartment</th>\n",
       "      <th>...</th>\n",
       "      <th>kitchen_area</th>\n",
       "      <th>balcony</th>\n",
       "      <th>locality_name</th>\n",
       "      <th>airports_nearest</th>\n",
       "      <th>cityCenters_nearest</th>\n",
       "      <th>parks_around3000</th>\n",
       "      <th>parks_nearest</th>\n",
       "      <th>ponds_around3000</th>\n",
       "      <th>ponds_nearest</th>\n",
       "      <th>days_exposition</th>\n",
       "    </tr>\n",
       "  </thead>\n",
       "  <tbody>\n",
       "    <tr>\n",
       "      <td>0</td>\n",
       "      <td>20</td>\n",
       "      <td>13000000.0</td>\n",
       "      <td>108.00</td>\n",
       "      <td>2019-03-07T00:00:00</td>\n",
       "      <td>3</td>\n",
       "      <td>2.70</td>\n",
       "      <td>16.0</td>\n",
       "      <td>51.00</td>\n",
       "      <td>8</td>\n",
       "      <td>NaN</td>\n",
       "      <td>...</td>\n",
       "      <td>25.00</td>\n",
       "      <td>NaN</td>\n",
       "      <td>Санкт-Петербург</td>\n",
       "      <td>18863.0</td>\n",
       "      <td>16028.0</td>\n",
       "      <td>1.0</td>\n",
       "      <td>482.0</td>\n",
       "      <td>2.0</td>\n",
       "      <td>755.0</td>\n",
       "      <td>NaN</td>\n",
       "    </tr>\n",
       "    <tr>\n",
       "      <td>1</td>\n",
       "      <td>7</td>\n",
       "      <td>3350000.0</td>\n",
       "      <td>40.40</td>\n",
       "      <td>2018-12-04T00:00:00</td>\n",
       "      <td>1</td>\n",
       "      <td>NaN</td>\n",
       "      <td>11.0</td>\n",
       "      <td>18.60</td>\n",
       "      <td>1</td>\n",
       "      <td>NaN</td>\n",
       "      <td>...</td>\n",
       "      <td>11.00</td>\n",
       "      <td>2.0</td>\n",
       "      <td>посёлок Шушары</td>\n",
       "      <td>12817.0</td>\n",
       "      <td>18603.0</td>\n",
       "      <td>0.0</td>\n",
       "      <td>NaN</td>\n",
       "      <td>0.0</td>\n",
       "      <td>NaN</td>\n",
       "      <td>81.0</td>\n",
       "    </tr>\n",
       "    <tr>\n",
       "      <td>2</td>\n",
       "      <td>10</td>\n",
       "      <td>5196000.0</td>\n",
       "      <td>56.00</td>\n",
       "      <td>2015-08-20T00:00:00</td>\n",
       "      <td>2</td>\n",
       "      <td>NaN</td>\n",
       "      <td>5.0</td>\n",
       "      <td>34.30</td>\n",
       "      <td>4</td>\n",
       "      <td>NaN</td>\n",
       "      <td>...</td>\n",
       "      <td>8.30</td>\n",
       "      <td>0.0</td>\n",
       "      <td>Санкт-Петербург</td>\n",
       "      <td>21741.0</td>\n",
       "      <td>13933.0</td>\n",
       "      <td>1.0</td>\n",
       "      <td>90.0</td>\n",
       "      <td>2.0</td>\n",
       "      <td>574.0</td>\n",
       "      <td>558.0</td>\n",
       "    </tr>\n",
       "    <tr>\n",
       "      <td>3</td>\n",
       "      <td>0</td>\n",
       "      <td>64900000.0</td>\n",
       "      <td>159.00</td>\n",
       "      <td>2015-07-24T00:00:00</td>\n",
       "      <td>3</td>\n",
       "      <td>NaN</td>\n",
       "      <td>14.0</td>\n",
       "      <td>NaN</td>\n",
       "      <td>9</td>\n",
       "      <td>NaN</td>\n",
       "      <td>...</td>\n",
       "      <td>NaN</td>\n",
       "      <td>0.0</td>\n",
       "      <td>Санкт-Петербург</td>\n",
       "      <td>28098.0</td>\n",
       "      <td>6800.0</td>\n",
       "      <td>2.0</td>\n",
       "      <td>84.0</td>\n",
       "      <td>3.0</td>\n",
       "      <td>234.0</td>\n",
       "      <td>424.0</td>\n",
       "    </tr>\n",
       "    <tr>\n",
       "      <td>4</td>\n",
       "      <td>2</td>\n",
       "      <td>10000000.0</td>\n",
       "      <td>100.00</td>\n",
       "      <td>2018-06-19T00:00:00</td>\n",
       "      <td>2</td>\n",
       "      <td>3.03</td>\n",
       "      <td>14.0</td>\n",
       "      <td>32.00</td>\n",
       "      <td>13</td>\n",
       "      <td>NaN</td>\n",
       "      <td>...</td>\n",
       "      <td>41.00</td>\n",
       "      <td>NaN</td>\n",
       "      <td>Санкт-Петербург</td>\n",
       "      <td>31856.0</td>\n",
       "      <td>8098.0</td>\n",
       "      <td>2.0</td>\n",
       "      <td>112.0</td>\n",
       "      <td>1.0</td>\n",
       "      <td>48.0</td>\n",
       "      <td>121.0</td>\n",
       "    </tr>\n",
       "    <tr>\n",
       "      <td>5</td>\n",
       "      <td>10</td>\n",
       "      <td>2890000.0</td>\n",
       "      <td>30.40</td>\n",
       "      <td>2018-09-10T00:00:00</td>\n",
       "      <td>1</td>\n",
       "      <td>NaN</td>\n",
       "      <td>12.0</td>\n",
       "      <td>14.40</td>\n",
       "      <td>5</td>\n",
       "      <td>NaN</td>\n",
       "      <td>...</td>\n",
       "      <td>9.10</td>\n",
       "      <td>NaN</td>\n",
       "      <td>городской посёлок Янино-1</td>\n",
       "      <td>NaN</td>\n",
       "      <td>NaN</td>\n",
       "      <td>NaN</td>\n",
       "      <td>NaN</td>\n",
       "      <td>NaN</td>\n",
       "      <td>NaN</td>\n",
       "      <td>55.0</td>\n",
       "    </tr>\n",
       "    <tr>\n",
       "      <td>6</td>\n",
       "      <td>6</td>\n",
       "      <td>3700000.0</td>\n",
       "      <td>37.30</td>\n",
       "      <td>2017-11-02T00:00:00</td>\n",
       "      <td>1</td>\n",
       "      <td>NaN</td>\n",
       "      <td>26.0</td>\n",
       "      <td>10.60</td>\n",
       "      <td>6</td>\n",
       "      <td>NaN</td>\n",
       "      <td>...</td>\n",
       "      <td>14.40</td>\n",
       "      <td>1.0</td>\n",
       "      <td>посёлок Парголово</td>\n",
       "      <td>52996.0</td>\n",
       "      <td>19143.0</td>\n",
       "      <td>0.0</td>\n",
       "      <td>NaN</td>\n",
       "      <td>0.0</td>\n",
       "      <td>NaN</td>\n",
       "      <td>155.0</td>\n",
       "    </tr>\n",
       "    <tr>\n",
       "      <td>7</td>\n",
       "      <td>5</td>\n",
       "      <td>7915000.0</td>\n",
       "      <td>71.60</td>\n",
       "      <td>2019-04-18T00:00:00</td>\n",
       "      <td>2</td>\n",
       "      <td>NaN</td>\n",
       "      <td>24.0</td>\n",
       "      <td>NaN</td>\n",
       "      <td>22</td>\n",
       "      <td>NaN</td>\n",
       "      <td>...</td>\n",
       "      <td>18.90</td>\n",
       "      <td>2.0</td>\n",
       "      <td>Санкт-Петербург</td>\n",
       "      <td>23982.0</td>\n",
       "      <td>11634.0</td>\n",
       "      <td>0.0</td>\n",
       "      <td>NaN</td>\n",
       "      <td>0.0</td>\n",
       "      <td>NaN</td>\n",
       "      <td>NaN</td>\n",
       "    </tr>\n",
       "    <tr>\n",
       "      <td>8</td>\n",
       "      <td>20</td>\n",
       "      <td>2900000.0</td>\n",
       "      <td>33.16</td>\n",
       "      <td>2018-05-23T00:00:00</td>\n",
       "      <td>1</td>\n",
       "      <td>NaN</td>\n",
       "      <td>27.0</td>\n",
       "      <td>15.43</td>\n",
       "      <td>26</td>\n",
       "      <td>NaN</td>\n",
       "      <td>...</td>\n",
       "      <td>8.81</td>\n",
       "      <td>NaN</td>\n",
       "      <td>посёлок Мурино</td>\n",
       "      <td>NaN</td>\n",
       "      <td>NaN</td>\n",
       "      <td>NaN</td>\n",
       "      <td>NaN</td>\n",
       "      <td>NaN</td>\n",
       "      <td>NaN</td>\n",
       "      <td>189.0</td>\n",
       "    </tr>\n",
       "    <tr>\n",
       "      <td>9</td>\n",
       "      <td>18</td>\n",
       "      <td>5400000.0</td>\n",
       "      <td>61.00</td>\n",
       "      <td>2017-02-26T00:00:00</td>\n",
       "      <td>3</td>\n",
       "      <td>2.50</td>\n",
       "      <td>9.0</td>\n",
       "      <td>43.60</td>\n",
       "      <td>7</td>\n",
       "      <td>NaN</td>\n",
       "      <td>...</td>\n",
       "      <td>6.50</td>\n",
       "      <td>2.0</td>\n",
       "      <td>Санкт-Петербург</td>\n",
       "      <td>50898.0</td>\n",
       "      <td>15008.0</td>\n",
       "      <td>0.0</td>\n",
       "      <td>NaN</td>\n",
       "      <td>0.0</td>\n",
       "      <td>NaN</td>\n",
       "      <td>289.0</td>\n",
       "    </tr>\n",
       "    <tr>\n",
       "      <td>10</td>\n",
       "      <td>5</td>\n",
       "      <td>5050000.0</td>\n",
       "      <td>39.60</td>\n",
       "      <td>2017-11-16T00:00:00</td>\n",
       "      <td>1</td>\n",
       "      <td>2.67</td>\n",
       "      <td>12.0</td>\n",
       "      <td>20.30</td>\n",
       "      <td>3</td>\n",
       "      <td>NaN</td>\n",
       "      <td>...</td>\n",
       "      <td>8.50</td>\n",
       "      <td>NaN</td>\n",
       "      <td>Санкт-Петербург</td>\n",
       "      <td>38357.0</td>\n",
       "      <td>13878.0</td>\n",
       "      <td>1.0</td>\n",
       "      <td>310.0</td>\n",
       "      <td>2.0</td>\n",
       "      <td>553.0</td>\n",
       "      <td>137.0</td>\n",
       "    </tr>\n",
       "    <tr>\n",
       "      <td>11</td>\n",
       "      <td>9</td>\n",
       "      <td>3300000.0</td>\n",
       "      <td>44.00</td>\n",
       "      <td>2018-08-27T00:00:00</td>\n",
       "      <td>2</td>\n",
       "      <td>NaN</td>\n",
       "      <td>5.0</td>\n",
       "      <td>31.00</td>\n",
       "      <td>4</td>\n",
       "      <td>False</td>\n",
       "      <td>...</td>\n",
       "      <td>6.00</td>\n",
       "      <td>1.0</td>\n",
       "      <td>Ломоносов</td>\n",
       "      <td>48252.0</td>\n",
       "      <td>51677.0</td>\n",
       "      <td>0.0</td>\n",
       "      <td>NaN</td>\n",
       "      <td>0.0</td>\n",
       "      <td>NaN</td>\n",
       "      <td>7.0</td>\n",
       "    </tr>\n",
       "    <tr>\n",
       "      <td>12</td>\n",
       "      <td>10</td>\n",
       "      <td>3890000.0</td>\n",
       "      <td>54.00</td>\n",
       "      <td>2016-06-30T00:00:00</td>\n",
       "      <td>2</td>\n",
       "      <td>NaN</td>\n",
       "      <td>5.0</td>\n",
       "      <td>30.00</td>\n",
       "      <td>5</td>\n",
       "      <td>NaN</td>\n",
       "      <td>...</td>\n",
       "      <td>9.00</td>\n",
       "      <td>0.0</td>\n",
       "      <td>Сертолово</td>\n",
       "      <td>NaN</td>\n",
       "      <td>NaN</td>\n",
       "      <td>NaN</td>\n",
       "      <td>NaN</td>\n",
       "      <td>NaN</td>\n",
       "      <td>NaN</td>\n",
       "      <td>90.0</td>\n",
       "    </tr>\n",
       "    <tr>\n",
       "      <td>13</td>\n",
       "      <td>20</td>\n",
       "      <td>3550000.0</td>\n",
       "      <td>42.80</td>\n",
       "      <td>2017-07-01T00:00:00</td>\n",
       "      <td>2</td>\n",
       "      <td>2.56</td>\n",
       "      <td>5.0</td>\n",
       "      <td>27.00</td>\n",
       "      <td>5</td>\n",
       "      <td>NaN</td>\n",
       "      <td>...</td>\n",
       "      <td>5.20</td>\n",
       "      <td>1.0</td>\n",
       "      <td>Петергоф</td>\n",
       "      <td>37868.0</td>\n",
       "      <td>33058.0</td>\n",
       "      <td>1.0</td>\n",
       "      <td>294.0</td>\n",
       "      <td>3.0</td>\n",
       "      <td>298.0</td>\n",
       "      <td>366.0</td>\n",
       "    </tr>\n",
       "    <tr>\n",
       "      <td>14</td>\n",
       "      <td>1</td>\n",
       "      <td>4400000.0</td>\n",
       "      <td>36.00</td>\n",
       "      <td>2016-06-23T00:00:00</td>\n",
       "      <td>1</td>\n",
       "      <td>NaN</td>\n",
       "      <td>6.0</td>\n",
       "      <td>17.00</td>\n",
       "      <td>1</td>\n",
       "      <td>NaN</td>\n",
       "      <td>...</td>\n",
       "      <td>8.00</td>\n",
       "      <td>0.0</td>\n",
       "      <td>Пушкин</td>\n",
       "      <td>20782.0</td>\n",
       "      <td>30759.0</td>\n",
       "      <td>0.0</td>\n",
       "      <td>NaN</td>\n",
       "      <td>1.0</td>\n",
       "      <td>96.0</td>\n",
       "      <td>203.0</td>\n",
       "    </tr>\n",
       "    <tr>\n",
       "      <td>15</td>\n",
       "      <td>16</td>\n",
       "      <td>4650000.0</td>\n",
       "      <td>39.00</td>\n",
       "      <td>2017-11-18T00:00:00</td>\n",
       "      <td>1</td>\n",
       "      <td>NaN</td>\n",
       "      <td>14.0</td>\n",
       "      <td>20.50</td>\n",
       "      <td>5</td>\n",
       "      <td>NaN</td>\n",
       "      <td>...</td>\n",
       "      <td>7.60</td>\n",
       "      <td>1.0</td>\n",
       "      <td>Санкт-Петербург</td>\n",
       "      <td>12900.0</td>\n",
       "      <td>14259.0</td>\n",
       "      <td>1.0</td>\n",
       "      <td>590.0</td>\n",
       "      <td>1.0</td>\n",
       "      <td>296.0</td>\n",
       "      <td>19.0</td>\n",
       "    </tr>\n",
       "    <tr>\n",
       "      <td>16</td>\n",
       "      <td>11</td>\n",
       "      <td>6700000.0</td>\n",
       "      <td>82.00</td>\n",
       "      <td>2017-11-23T00:00:00</td>\n",
       "      <td>3</td>\n",
       "      <td>3.05</td>\n",
       "      <td>5.0</td>\n",
       "      <td>55.60</td>\n",
       "      <td>1</td>\n",
       "      <td>NaN</td>\n",
       "      <td>...</td>\n",
       "      <td>9.00</td>\n",
       "      <td>NaN</td>\n",
       "      <td>Санкт-Петербург</td>\n",
       "      <td>22108.0</td>\n",
       "      <td>10698.0</td>\n",
       "      <td>3.0</td>\n",
       "      <td>420.0</td>\n",
       "      <td>0.0</td>\n",
       "      <td>NaN</td>\n",
       "      <td>397.0</td>\n",
       "    </tr>\n",
       "    <tr>\n",
       "      <td>17</td>\n",
       "      <td>6</td>\n",
       "      <td>4180000.0</td>\n",
       "      <td>36.00</td>\n",
       "      <td>2016-09-09T00:00:00</td>\n",
       "      <td>1</td>\n",
       "      <td>NaN</td>\n",
       "      <td>17.0</td>\n",
       "      <td>16.50</td>\n",
       "      <td>7</td>\n",
       "      <td>NaN</td>\n",
       "      <td>...</td>\n",
       "      <td>11.00</td>\n",
       "      <td>1.0</td>\n",
       "      <td>Санкт-Петербург</td>\n",
       "      <td>33564.0</td>\n",
       "      <td>14616.0</td>\n",
       "      <td>0.0</td>\n",
       "      <td>NaN</td>\n",
       "      <td>1.0</td>\n",
       "      <td>859.0</td>\n",
       "      <td>571.0</td>\n",
       "    </tr>\n",
       "    <tr>\n",
       "      <td>18</td>\n",
       "      <td>8</td>\n",
       "      <td>3250000.0</td>\n",
       "      <td>31.00</td>\n",
       "      <td>2017-01-27T00:00:00</td>\n",
       "      <td>1</td>\n",
       "      <td>2.50</td>\n",
       "      <td>5.0</td>\n",
       "      <td>19.40</td>\n",
       "      <td>2</td>\n",
       "      <td>NaN</td>\n",
       "      <td>...</td>\n",
       "      <td>5.60</td>\n",
       "      <td>1.0</td>\n",
       "      <td>Санкт-Петербург</td>\n",
       "      <td>44060.0</td>\n",
       "      <td>10842.0</td>\n",
       "      <td>1.0</td>\n",
       "      <td>759.0</td>\n",
       "      <td>0.0</td>\n",
       "      <td>NaN</td>\n",
       "      <td>168.0</td>\n",
       "    </tr>\n",
       "    <tr>\n",
       "      <td>19</td>\n",
       "      <td>16</td>\n",
       "      <td>14200000.0</td>\n",
       "      <td>121.00</td>\n",
       "      <td>2019-01-09T00:00:00</td>\n",
       "      <td>3</td>\n",
       "      <td>2.75</td>\n",
       "      <td>16.0</td>\n",
       "      <td>76.00</td>\n",
       "      <td>8</td>\n",
       "      <td>NaN</td>\n",
       "      <td>...</td>\n",
       "      <td>12.00</td>\n",
       "      <td>NaN</td>\n",
       "      <td>Санкт-Петербург</td>\n",
       "      <td>38900.0</td>\n",
       "      <td>12843.0</td>\n",
       "      <td>0.0</td>\n",
       "      <td>NaN</td>\n",
       "      <td>0.0</td>\n",
       "      <td>NaN</td>\n",
       "      <td>97.0</td>\n",
       "    </tr>\n",
       "    <tr>\n",
       "      <td>20</td>\n",
       "      <td>12</td>\n",
       "      <td>6120000.0</td>\n",
       "      <td>80.00</td>\n",
       "      <td>2017-09-28T00:00:00</td>\n",
       "      <td>3</td>\n",
       "      <td>2.70</td>\n",
       "      <td>27.0</td>\n",
       "      <td>48.00</td>\n",
       "      <td>11</td>\n",
       "      <td>NaN</td>\n",
       "      <td>...</td>\n",
       "      <td>12.00</td>\n",
       "      <td>2.0</td>\n",
       "      <td>посёлок Парголово</td>\n",
       "      <td>53134.0</td>\n",
       "      <td>19311.0</td>\n",
       "      <td>0.0</td>\n",
       "      <td>NaN</td>\n",
       "      <td>0.0</td>\n",
       "      <td>NaN</td>\n",
       "      <td>74.0</td>\n",
       "    </tr>\n",
       "    <tr>\n",
       "      <td>21</td>\n",
       "      <td>13</td>\n",
       "      <td>3200000.0</td>\n",
       "      <td>31.60</td>\n",
       "      <td>2018-03-14T00:00:00</td>\n",
       "      <td>1</td>\n",
       "      <td>NaN</td>\n",
       "      <td>5.0</td>\n",
       "      <td>16.90</td>\n",
       "      <td>2</td>\n",
       "      <td>NaN</td>\n",
       "      <td>...</td>\n",
       "      <td>5.70</td>\n",
       "      <td>1.0</td>\n",
       "      <td>Санкт-Петербург</td>\n",
       "      <td>36064.0</td>\n",
       "      <td>9722.0</td>\n",
       "      <td>1.0</td>\n",
       "      <td>248.0</td>\n",
       "      <td>0.0</td>\n",
       "      <td>NaN</td>\n",
       "      <td>310.0</td>\n",
       "    </tr>\n",
       "    <tr>\n",
       "      <td>22</td>\n",
       "      <td>20</td>\n",
       "      <td>5000000.0</td>\n",
       "      <td>58.00</td>\n",
       "      <td>2017-04-24T00:00:00</td>\n",
       "      <td>2</td>\n",
       "      <td>2.75</td>\n",
       "      <td>25.0</td>\n",
       "      <td>30.00</td>\n",
       "      <td>15</td>\n",
       "      <td>NaN</td>\n",
       "      <td>...</td>\n",
       "      <td>11.00</td>\n",
       "      <td>2.0</td>\n",
       "      <td>деревня Кудрово</td>\n",
       "      <td>NaN</td>\n",
       "      <td>NaN</td>\n",
       "      <td>NaN</td>\n",
       "      <td>NaN</td>\n",
       "      <td>NaN</td>\n",
       "      <td>NaN</td>\n",
       "      <td>60.0</td>\n",
       "    </tr>\n",
       "    <tr>\n",
       "      <td>23</td>\n",
       "      <td>11</td>\n",
       "      <td>2950000.0</td>\n",
       "      <td>32.00</td>\n",
       "      <td>2016-10-29T00:00:00</td>\n",
       "      <td>1</td>\n",
       "      <td>2.60</td>\n",
       "      <td>9.0</td>\n",
       "      <td>17.70</td>\n",
       "      <td>9</td>\n",
       "      <td>NaN</td>\n",
       "      <td>...</td>\n",
       "      <td>6.10</td>\n",
       "      <td>NaN</td>\n",
       "      <td>Санкт-Петербург</td>\n",
       "      <td>15414.0</td>\n",
       "      <td>14211.0</td>\n",
       "      <td>2.0</td>\n",
       "      <td>517.0</td>\n",
       "      <td>1.0</td>\n",
       "      <td>190.0</td>\n",
       "      <td>615.0</td>\n",
       "    </tr>\n",
       "    <tr>\n",
       "      <td>24</td>\n",
       "      <td>8</td>\n",
       "      <td>6500000.0</td>\n",
       "      <td>97.20</td>\n",
       "      <td>2015-10-31T00:00:00</td>\n",
       "      <td>2</td>\n",
       "      <td>NaN</td>\n",
       "      <td>3.0</td>\n",
       "      <td>46.50</td>\n",
       "      <td>1</td>\n",
       "      <td>NaN</td>\n",
       "      <td>...</td>\n",
       "      <td>19.60</td>\n",
       "      <td>0.0</td>\n",
       "      <td>Санкт-Петербург</td>\n",
       "      <td>20052.0</td>\n",
       "      <td>2336.0</td>\n",
       "      <td>3.0</td>\n",
       "      <td>411.0</td>\n",
       "      <td>3.0</td>\n",
       "      <td>124.0</td>\n",
       "      <td>265.0</td>\n",
       "    </tr>\n",
       "    <tr>\n",
       "      <td>25</td>\n",
       "      <td>3</td>\n",
       "      <td>6800000.0</td>\n",
       "      <td>76.00</td>\n",
       "      <td>2015-10-01T00:00:00</td>\n",
       "      <td>2</td>\n",
       "      <td>2.75</td>\n",
       "      <td>23.0</td>\n",
       "      <td>39.00</td>\n",
       "      <td>18</td>\n",
       "      <td>False</td>\n",
       "      <td>...</td>\n",
       "      <td>15.00</td>\n",
       "      <td>2.0</td>\n",
       "      <td>Санкт-Петербург</td>\n",
       "      <td>34967.0</td>\n",
       "      <td>14640.0</td>\n",
       "      <td>0.0</td>\n",
       "      <td>NaN</td>\n",
       "      <td>1.0</td>\n",
       "      <td>564.0</td>\n",
       "      <td>300.0</td>\n",
       "    </tr>\n",
       "    <tr>\n",
       "      <td>26</td>\n",
       "      <td>6</td>\n",
       "      <td>4050000.0</td>\n",
       "      <td>60.00</td>\n",
       "      <td>2017-04-28T00:00:00</td>\n",
       "      <td>4</td>\n",
       "      <td>NaN</td>\n",
       "      <td>5.0</td>\n",
       "      <td>43.00</td>\n",
       "      <td>4</td>\n",
       "      <td>NaN</td>\n",
       "      <td>...</td>\n",
       "      <td>7.00</td>\n",
       "      <td>NaN</td>\n",
       "      <td>Санкт-Петербург</td>\n",
       "      <td>11580.0</td>\n",
       "      <td>10510.0</td>\n",
       "      <td>0.0</td>\n",
       "      <td>NaN</td>\n",
       "      <td>1.0</td>\n",
       "      <td>95.0</td>\n",
       "      <td>265.0</td>\n",
       "    </tr>\n",
       "    <tr>\n",
       "      <td>27</td>\n",
       "      <td>20</td>\n",
       "      <td>7100000.0</td>\n",
       "      <td>70.00</td>\n",
       "      <td>2017-05-12T00:00:00</td>\n",
       "      <td>3</td>\n",
       "      <td>2.60</td>\n",
       "      <td>17.0</td>\n",
       "      <td>49.00</td>\n",
       "      <td>11</td>\n",
       "      <td>NaN</td>\n",
       "      <td>...</td>\n",
       "      <td>9.20</td>\n",
       "      <td>0.0</td>\n",
       "      <td>Санкт-Петербург</td>\n",
       "      <td>29197.0</td>\n",
       "      <td>11456.0</td>\n",
       "      <td>2.0</td>\n",
       "      <td>452.0</td>\n",
       "      <td>1.0</td>\n",
       "      <td>779.0</td>\n",
       "      <td>151.0</td>\n",
       "    </tr>\n",
       "    <tr>\n",
       "      <td>28</td>\n",
       "      <td>8</td>\n",
       "      <td>4170000.0</td>\n",
       "      <td>44.00</td>\n",
       "      <td>2017-12-13T00:00:00</td>\n",
       "      <td>1</td>\n",
       "      <td>2.90</td>\n",
       "      <td>6.0</td>\n",
       "      <td>20.80</td>\n",
       "      <td>1</td>\n",
       "      <td>NaN</td>\n",
       "      <td>...</td>\n",
       "      <td>11.70</td>\n",
       "      <td>1.0</td>\n",
       "      <td>Пушкин</td>\n",
       "      <td>18557.0</td>\n",
       "      <td>30710.0</td>\n",
       "      <td>0.0</td>\n",
       "      <td>NaN</td>\n",
       "      <td>1.0</td>\n",
       "      <td>118.0</td>\n",
       "      <td>74.0</td>\n",
       "    </tr>\n",
       "    <tr>\n",
       "      <td>29</td>\n",
       "      <td>9</td>\n",
       "      <td>8600000.0</td>\n",
       "      <td>100.00</td>\n",
       "      <td>2016-04-09T00:00:00</td>\n",
       "      <td>3</td>\n",
       "      <td>NaN</td>\n",
       "      <td>19.0</td>\n",
       "      <td>52.00</td>\n",
       "      <td>15</td>\n",
       "      <td>False</td>\n",
       "      <td>...</td>\n",
       "      <td>11.00</td>\n",
       "      <td>0.0</td>\n",
       "      <td>Санкт-Петербург</td>\n",
       "      <td>30394.0</td>\n",
       "      <td>11526.0</td>\n",
       "      <td>1.0</td>\n",
       "      <td>532.0</td>\n",
       "      <td>1.0</td>\n",
       "      <td>896.0</td>\n",
       "      <td>125.0</td>\n",
       "    </tr>\n",
       "    <tr>\n",
       "      <td>30</td>\n",
       "      <td>12</td>\n",
       "      <td>2200000.0</td>\n",
       "      <td>32.80</td>\n",
       "      <td>2018-02-19T00:00:00</td>\n",
       "      <td>1</td>\n",
       "      <td>NaN</td>\n",
       "      <td>9.0</td>\n",
       "      <td>NaN</td>\n",
       "      <td>2</td>\n",
       "      <td>NaN</td>\n",
       "      <td>...</td>\n",
       "      <td>NaN</td>\n",
       "      <td>NaN</td>\n",
       "      <td>Коммунар</td>\n",
       "      <td>NaN</td>\n",
       "      <td>NaN</td>\n",
       "      <td>NaN</td>\n",
       "      <td>NaN</td>\n",
       "      <td>NaN</td>\n",
       "      <td>NaN</td>\n",
       "      <td>63.0</td>\n",
       "    </tr>\n",
       "    <tr>\n",
       "      <td>31</td>\n",
       "      <td>8</td>\n",
       "      <td>7200000.0</td>\n",
       "      <td>67.90</td>\n",
       "      <td>2017-10-26T00:00:00</td>\n",
       "      <td>2</td>\n",
       "      <td>2.80</td>\n",
       "      <td>16.0</td>\n",
       "      <td>38.10</td>\n",
       "      <td>4</td>\n",
       "      <td>NaN</td>\n",
       "      <td>...</td>\n",
       "      <td>13.40</td>\n",
       "      <td>2.0</td>\n",
       "      <td>Санкт-Петербург</td>\n",
       "      <td>32888.0</td>\n",
       "      <td>12944.0</td>\n",
       "      <td>0.0</td>\n",
       "      <td>NaN</td>\n",
       "      <td>0.0</td>\n",
       "      <td>NaN</td>\n",
       "      <td>112.0</td>\n",
       "    </tr>\n",
       "    <tr>\n",
       "      <td>32</td>\n",
       "      <td>7</td>\n",
       "      <td>4990000.0</td>\n",
       "      <td>60.00</td>\n",
       "      <td>2016-05-22T00:00:00</td>\n",
       "      <td>3</td>\n",
       "      <td>NaN</td>\n",
       "      <td>5.0</td>\n",
       "      <td>39.00</td>\n",
       "      <td>4</td>\n",
       "      <td>NaN</td>\n",
       "      <td>...</td>\n",
       "      <td>6.00</td>\n",
       "      <td>0.0</td>\n",
       "      <td>Санкт-Петербург</td>\n",
       "      <td>11349.0</td>\n",
       "      <td>12889.0</td>\n",
       "      <td>0.0</td>\n",
       "      <td>NaN</td>\n",
       "      <td>1.0</td>\n",
       "      <td>426.0</td>\n",
       "      <td>224.0</td>\n",
       "    </tr>\n",
       "    <tr>\n",
       "      <td>33</td>\n",
       "      <td>8</td>\n",
       "      <td>4800000.0</td>\n",
       "      <td>73.00</td>\n",
       "      <td>2018-10-15T00:00:00</td>\n",
       "      <td>4</td>\n",
       "      <td>NaN</td>\n",
       "      <td>9.0</td>\n",
       "      <td>51.60</td>\n",
       "      <td>5</td>\n",
       "      <td>NaN</td>\n",
       "      <td>...</td>\n",
       "      <td>6.50</td>\n",
       "      <td>NaN</td>\n",
       "      <td>Колпино</td>\n",
       "      <td>26535.0</td>\n",
       "      <td>32321.0</td>\n",
       "      <td>0.0</td>\n",
       "      <td>NaN</td>\n",
       "      <td>0.0</td>\n",
       "      <td>NaN</td>\n",
       "      <td>92.0</td>\n",
       "    </tr>\n",
       "    <tr>\n",
       "      <td>34</td>\n",
       "      <td>3</td>\n",
       "      <td>3290000.0</td>\n",
       "      <td>33.00</td>\n",
       "      <td>2018-02-04T00:00:00</td>\n",
       "      <td>1</td>\n",
       "      <td>2.55</td>\n",
       "      <td>16.0</td>\n",
       "      <td>14.00</td>\n",
       "      <td>3</td>\n",
       "      <td>NaN</td>\n",
       "      <td>...</td>\n",
       "      <td>8.00</td>\n",
       "      <td>NaN</td>\n",
       "      <td>Санкт-Петербург</td>\n",
       "      <td>13943.0</td>\n",
       "      <td>12739.0</td>\n",
       "      <td>0.0</td>\n",
       "      <td>NaN</td>\n",
       "      <td>0.0</td>\n",
       "      <td>NaN</td>\n",
       "      <td>15.0</td>\n",
       "    </tr>\n",
       "    <tr>\n",
       "      <td>35</td>\n",
       "      <td>6</td>\n",
       "      <td>15500000.0</td>\n",
       "      <td>149.00</td>\n",
       "      <td>2017-06-26T00:00:00</td>\n",
       "      <td>5</td>\n",
       "      <td>NaN</td>\n",
       "      <td>5.0</td>\n",
       "      <td>104.00</td>\n",
       "      <td>4</td>\n",
       "      <td>NaN</td>\n",
       "      <td>...</td>\n",
       "      <td>17.00</td>\n",
       "      <td>NaN</td>\n",
       "      <td>Санкт-Петербург</td>\n",
       "      <td>23670.0</td>\n",
       "      <td>3502.0</td>\n",
       "      <td>0.0</td>\n",
       "      <td>NaN</td>\n",
       "      <td>1.0</td>\n",
       "      <td>779.0</td>\n",
       "      <td>644.0</td>\n",
       "    </tr>\n",
       "    <tr>\n",
       "      <td>36</td>\n",
       "      <td>13</td>\n",
       "      <td>3790000.0</td>\n",
       "      <td>45.00</td>\n",
       "      <td>2017-01-25T00:00:00</td>\n",
       "      <td>2</td>\n",
       "      <td>NaN</td>\n",
       "      <td>9.0</td>\n",
       "      <td>27.00</td>\n",
       "      <td>9</td>\n",
       "      <td>False</td>\n",
       "      <td>...</td>\n",
       "      <td>6.30</td>\n",
       "      <td>2.0</td>\n",
       "      <td>Санкт-Петербург</td>\n",
       "      <td>49574.0</td>\n",
       "      <td>16461.0</td>\n",
       "      <td>1.0</td>\n",
       "      <td>459.0</td>\n",
       "      <td>0.0</td>\n",
       "      <td>NaN</td>\n",
       "      <td>139.0</td>\n",
       "    </tr>\n",
       "    <tr>\n",
       "      <td>37</td>\n",
       "      <td>10</td>\n",
       "      <td>1990000.0</td>\n",
       "      <td>45.80</td>\n",
       "      <td>2017-10-28T00:00:00</td>\n",
       "      <td>2</td>\n",
       "      <td>2.50</td>\n",
       "      <td>5.0</td>\n",
       "      <td>NaN</td>\n",
       "      <td>1</td>\n",
       "      <td>NaN</td>\n",
       "      <td>...</td>\n",
       "      <td>NaN</td>\n",
       "      <td>NaN</td>\n",
       "      <td>поселок городского типа Красный Бор</td>\n",
       "      <td>NaN</td>\n",
       "      <td>NaN</td>\n",
       "      <td>NaN</td>\n",
       "      <td>NaN</td>\n",
       "      <td>NaN</td>\n",
       "      <td>NaN</td>\n",
       "      <td>196.0</td>\n",
       "    </tr>\n",
       "    <tr>\n",
       "      <td>38</td>\n",
       "      <td>10</td>\n",
       "      <td>3150000.0</td>\n",
       "      <td>40.00</td>\n",
       "      <td>2018-03-29T00:00:00</td>\n",
       "      <td>1</td>\n",
       "      <td>2.75</td>\n",
       "      <td>18.0</td>\n",
       "      <td>16.30</td>\n",
       "      <td>9</td>\n",
       "      <td>NaN</td>\n",
       "      <td>...</td>\n",
       "      <td>11.60</td>\n",
       "      <td>NaN</td>\n",
       "      <td>посёлок Мурино</td>\n",
       "      <td>NaN</td>\n",
       "      <td>NaN</td>\n",
       "      <td>NaN</td>\n",
       "      <td>NaN</td>\n",
       "      <td>NaN</td>\n",
       "      <td>NaN</td>\n",
       "      <td>103.0</td>\n",
       "    </tr>\n",
       "    <tr>\n",
       "      <td>39</td>\n",
       "      <td>15</td>\n",
       "      <td>5200000.0</td>\n",
       "      <td>54.40</td>\n",
       "      <td>2018-11-29T00:00:00</td>\n",
       "      <td>2</td>\n",
       "      <td>2.75</td>\n",
       "      <td>9.0</td>\n",
       "      <td>29.70</td>\n",
       "      <td>2</td>\n",
       "      <td>NaN</td>\n",
       "      <td>...</td>\n",
       "      <td>8.80</td>\n",
       "      <td>2.0</td>\n",
       "      <td>Санкт-Петербург</td>\n",
       "      <td>13413.0</td>\n",
       "      <td>12209.0</td>\n",
       "      <td>0.0</td>\n",
       "      <td>NaN</td>\n",
       "      <td>1.0</td>\n",
       "      <td>1175.0</td>\n",
       "      <td>29.0</td>\n",
       "    </tr>\n",
       "    <tr>\n",
       "      <td>40</td>\n",
       "      <td>9</td>\n",
       "      <td>3590000.0</td>\n",
       "      <td>36.00</td>\n",
       "      <td>2017-03-15T00:00:00</td>\n",
       "      <td>1</td>\n",
       "      <td>2.60</td>\n",
       "      <td>26.0</td>\n",
       "      <td>15.00</td>\n",
       "      <td>22</td>\n",
       "      <td>NaN</td>\n",
       "      <td>...</td>\n",
       "      <td>10.00</td>\n",
       "      <td>2.0</td>\n",
       "      <td>посёлок Парголово</td>\n",
       "      <td>52996.0</td>\n",
       "      <td>19143.0</td>\n",
       "      <td>0.0</td>\n",
       "      <td>NaN</td>\n",
       "      <td>0.0</td>\n",
       "      <td>NaN</td>\n",
       "      <td>430.0</td>\n",
       "    </tr>\n",
       "    <tr>\n",
       "      <td>41</td>\n",
       "      <td>16</td>\n",
       "      <td>7900000.0</td>\n",
       "      <td>74.00</td>\n",
       "      <td>2016-05-04T00:00:00</td>\n",
       "      <td>3</td>\n",
       "      <td>NaN</td>\n",
       "      <td>14.0</td>\n",
       "      <td>59.00</td>\n",
       "      <td>8</td>\n",
       "      <td>False</td>\n",
       "      <td>...</td>\n",
       "      <td>12.00</td>\n",
       "      <td>5.0</td>\n",
       "      <td>Санкт-Петербург</td>\n",
       "      <td>37715.0</td>\n",
       "      <td>12612.0</td>\n",
       "      <td>1.0</td>\n",
       "      <td>725.0</td>\n",
       "      <td>1.0</td>\n",
       "      <td>759.0</td>\n",
       "      <td>179.0</td>\n",
       "    </tr>\n",
       "    <tr>\n",
       "      <td>42</td>\n",
       "      <td>13</td>\n",
       "      <td>22000000.0</td>\n",
       "      <td>161.80</td>\n",
       "      <td>2015-07-08T00:00:00</td>\n",
       "      <td>4</td>\n",
       "      <td>2.80</td>\n",
       "      <td>4.0</td>\n",
       "      <td>80.90</td>\n",
       "      <td>2</td>\n",
       "      <td>False</td>\n",
       "      <td>...</td>\n",
       "      <td>17.60</td>\n",
       "      <td>5.0</td>\n",
       "      <td>Петергоф</td>\n",
       "      <td>35416.0</td>\n",
       "      <td>30605.0</td>\n",
       "      <td>2.0</td>\n",
       "      <td>47.0</td>\n",
       "      <td>1.0</td>\n",
       "      <td>907.0</td>\n",
       "      <td>987.0</td>\n",
       "    </tr>\n",
       "    <tr>\n",
       "      <td>43</td>\n",
       "      <td>13</td>\n",
       "      <td>9330000.0</td>\n",
       "      <td>48.00</td>\n",
       "      <td>2017-01-10T00:00:00</td>\n",
       "      <td>2</td>\n",
       "      <td>3.00</td>\n",
       "      <td>4.0</td>\n",
       "      <td>28.00</td>\n",
       "      <td>4</td>\n",
       "      <td>NaN</td>\n",
       "      <td>...</td>\n",
       "      <td>7.50</td>\n",
       "      <td>NaN</td>\n",
       "      <td>Санкт-Петербург</td>\n",
       "      <td>15016.0</td>\n",
       "      <td>10822.0</td>\n",
       "      <td>0.0</td>\n",
       "      <td>NaN</td>\n",
       "      <td>1.0</td>\n",
       "      <td>492.0</td>\n",
       "      <td>763.0</td>\n",
       "    </tr>\n",
       "    <tr>\n",
       "      <td>44</td>\n",
       "      <td>13</td>\n",
       "      <td>5350000.0</td>\n",
       "      <td>40.00</td>\n",
       "      <td>2018-11-18T00:00:00</td>\n",
       "      <td>1</td>\n",
       "      <td>NaN</td>\n",
       "      <td>22.0</td>\n",
       "      <td>NaN</td>\n",
       "      <td>3</td>\n",
       "      <td>NaN</td>\n",
       "      <td>...</td>\n",
       "      <td>NaN</td>\n",
       "      <td>1.0</td>\n",
       "      <td>Санкт-Петербург</td>\n",
       "      <td>30471.0</td>\n",
       "      <td>11603.0</td>\n",
       "      <td>1.0</td>\n",
       "      <td>620.0</td>\n",
       "      <td>1.0</td>\n",
       "      <td>1152.0</td>\n",
       "      <td>NaN</td>\n",
       "    </tr>\n",
       "    <tr>\n",
       "      <td>45</td>\n",
       "      <td>17</td>\n",
       "      <td>5200000.0</td>\n",
       "      <td>50.60</td>\n",
       "      <td>2018-12-02T00:00:00</td>\n",
       "      <td>2</td>\n",
       "      <td>2.65</td>\n",
       "      <td>9.0</td>\n",
       "      <td>30.30</td>\n",
       "      <td>7</td>\n",
       "      <td>NaN</td>\n",
       "      <td>...</td>\n",
       "      <td>7.00</td>\n",
       "      <td>NaN</td>\n",
       "      <td>Санкт-Петербург</td>\n",
       "      <td>30011.0</td>\n",
       "      <td>12872.0</td>\n",
       "      <td>0.0</td>\n",
       "      <td>NaN</td>\n",
       "      <td>0.0</td>\n",
       "      <td>NaN</td>\n",
       "      <td>NaN</td>\n",
       "    </tr>\n",
       "    <tr>\n",
       "      <td>46</td>\n",
       "      <td>17</td>\n",
       "      <td>6600000.0</td>\n",
       "      <td>52.10</td>\n",
       "      <td>2019-01-31T00:00:00</td>\n",
       "      <td>2</td>\n",
       "      <td>2.60</td>\n",
       "      <td>24.0</td>\n",
       "      <td>29.70</td>\n",
       "      <td>9</td>\n",
       "      <td>NaN</td>\n",
       "      <td>...</td>\n",
       "      <td>8.30</td>\n",
       "      <td>2.0</td>\n",
       "      <td>Санкт-Петербург</td>\n",
       "      <td>15114.0</td>\n",
       "      <td>12702.0</td>\n",
       "      <td>0.0</td>\n",
       "      <td>NaN</td>\n",
       "      <td>0.0</td>\n",
       "      <td>NaN</td>\n",
       "      <td>NaN</td>\n",
       "    </tr>\n",
       "    <tr>\n",
       "      <td>47</td>\n",
       "      <td>17</td>\n",
       "      <td>3600000.0</td>\n",
       "      <td>56.10</td>\n",
       "      <td>2018-10-18T00:00:00</td>\n",
       "      <td>3</td>\n",
       "      <td>NaN</td>\n",
       "      <td>4.0</td>\n",
       "      <td>42.50</td>\n",
       "      <td>3</td>\n",
       "      <td>NaN</td>\n",
       "      <td>...</td>\n",
       "      <td>5.70</td>\n",
       "      <td>1.0</td>\n",
       "      <td>Гатчина</td>\n",
       "      <td>NaN</td>\n",
       "      <td>NaN</td>\n",
       "      <td>NaN</td>\n",
       "      <td>NaN</td>\n",
       "      <td>NaN</td>\n",
       "      <td>NaN</td>\n",
       "      <td>179.0</td>\n",
       "    </tr>\n",
       "    <tr>\n",
       "      <td>48</td>\n",
       "      <td>10</td>\n",
       "      <td>3600000.0</td>\n",
       "      <td>33.83</td>\n",
       "      <td>2017-10-03T00:00:00</td>\n",
       "      <td>1</td>\n",
       "      <td>NaN</td>\n",
       "      <td>24.0</td>\n",
       "      <td>15.35</td>\n",
       "      <td>6</td>\n",
       "      <td>NaN</td>\n",
       "      <td>...</td>\n",
       "      <td>9.50</td>\n",
       "      <td>NaN</td>\n",
       "      <td>Санкт-Петербург</td>\n",
       "      <td>21460.0</td>\n",
       "      <td>16788.0</td>\n",
       "      <td>0.0</td>\n",
       "      <td>NaN</td>\n",
       "      <td>1.0</td>\n",
       "      <td>170.0</td>\n",
       "      <td>322.0</td>\n",
       "    </tr>\n",
       "    <tr>\n",
       "      <td>49</td>\n",
       "      <td>1</td>\n",
       "      <td>3050000.0</td>\n",
       "      <td>30.80</td>\n",
       "      <td>2018-11-22T00:00:00</td>\n",
       "      <td>1</td>\n",
       "      <td>2.50</td>\n",
       "      <td>9.0</td>\n",
       "      <td>18.00</td>\n",
       "      <td>7</td>\n",
       "      <td>NaN</td>\n",
       "      <td>...</td>\n",
       "      <td>6.00</td>\n",
       "      <td>NaN</td>\n",
       "      <td>Санкт-Петербург</td>\n",
       "      <td>45341.0</td>\n",
       "      <td>16603.0</td>\n",
       "      <td>1.0</td>\n",
       "      <td>675.0</td>\n",
       "      <td>0.0</td>\n",
       "      <td>NaN</td>\n",
       "      <td>NaN</td>\n",
       "    </tr>\n",
       "  </tbody>\n",
       "</table>\n",
       "<p>50 rows × 22 columns</p>\n",
       "</div>"
      ],
      "text/plain": [
       "    total_images  last_price  total_area first_day_exposition  rooms  \\\n",
       "0             20  13000000.0      108.00  2019-03-07T00:00:00      3   \n",
       "1              7   3350000.0       40.40  2018-12-04T00:00:00      1   \n",
       "2             10   5196000.0       56.00  2015-08-20T00:00:00      2   \n",
       "3              0  64900000.0      159.00  2015-07-24T00:00:00      3   \n",
       "4              2  10000000.0      100.00  2018-06-19T00:00:00      2   \n",
       "5             10   2890000.0       30.40  2018-09-10T00:00:00      1   \n",
       "6              6   3700000.0       37.30  2017-11-02T00:00:00      1   \n",
       "7              5   7915000.0       71.60  2019-04-18T00:00:00      2   \n",
       "8             20   2900000.0       33.16  2018-05-23T00:00:00      1   \n",
       "9             18   5400000.0       61.00  2017-02-26T00:00:00      3   \n",
       "10             5   5050000.0       39.60  2017-11-16T00:00:00      1   \n",
       "11             9   3300000.0       44.00  2018-08-27T00:00:00      2   \n",
       "12            10   3890000.0       54.00  2016-06-30T00:00:00      2   \n",
       "13            20   3550000.0       42.80  2017-07-01T00:00:00      2   \n",
       "14             1   4400000.0       36.00  2016-06-23T00:00:00      1   \n",
       "15            16   4650000.0       39.00  2017-11-18T00:00:00      1   \n",
       "16            11   6700000.0       82.00  2017-11-23T00:00:00      3   \n",
       "17             6   4180000.0       36.00  2016-09-09T00:00:00      1   \n",
       "18             8   3250000.0       31.00  2017-01-27T00:00:00      1   \n",
       "19            16  14200000.0      121.00  2019-01-09T00:00:00      3   \n",
       "20            12   6120000.0       80.00  2017-09-28T00:00:00      3   \n",
       "21            13   3200000.0       31.60  2018-03-14T00:00:00      1   \n",
       "22            20   5000000.0       58.00  2017-04-24T00:00:00      2   \n",
       "23            11   2950000.0       32.00  2016-10-29T00:00:00      1   \n",
       "24             8   6500000.0       97.20  2015-10-31T00:00:00      2   \n",
       "25             3   6800000.0       76.00  2015-10-01T00:00:00      2   \n",
       "26             6   4050000.0       60.00  2017-04-28T00:00:00      4   \n",
       "27            20   7100000.0       70.00  2017-05-12T00:00:00      3   \n",
       "28             8   4170000.0       44.00  2017-12-13T00:00:00      1   \n",
       "29             9   8600000.0      100.00  2016-04-09T00:00:00      3   \n",
       "30            12   2200000.0       32.80  2018-02-19T00:00:00      1   \n",
       "31             8   7200000.0       67.90  2017-10-26T00:00:00      2   \n",
       "32             7   4990000.0       60.00  2016-05-22T00:00:00      3   \n",
       "33             8   4800000.0       73.00  2018-10-15T00:00:00      4   \n",
       "34             3   3290000.0       33.00  2018-02-04T00:00:00      1   \n",
       "35             6  15500000.0      149.00  2017-06-26T00:00:00      5   \n",
       "36            13   3790000.0       45.00  2017-01-25T00:00:00      2   \n",
       "37            10   1990000.0       45.80  2017-10-28T00:00:00      2   \n",
       "38            10   3150000.0       40.00  2018-03-29T00:00:00      1   \n",
       "39            15   5200000.0       54.40  2018-11-29T00:00:00      2   \n",
       "40             9   3590000.0       36.00  2017-03-15T00:00:00      1   \n",
       "41            16   7900000.0       74.00  2016-05-04T00:00:00      3   \n",
       "42            13  22000000.0      161.80  2015-07-08T00:00:00      4   \n",
       "43            13   9330000.0       48.00  2017-01-10T00:00:00      2   \n",
       "44            13   5350000.0       40.00  2018-11-18T00:00:00      1   \n",
       "45            17   5200000.0       50.60  2018-12-02T00:00:00      2   \n",
       "46            17   6600000.0       52.10  2019-01-31T00:00:00      2   \n",
       "47            17   3600000.0       56.10  2018-10-18T00:00:00      3   \n",
       "48            10   3600000.0       33.83  2017-10-03T00:00:00      1   \n",
       "49             1   3050000.0       30.80  2018-11-22T00:00:00      1   \n",
       "\n",
       "    ceiling_height  floors_total  living_area  floor is_apartment  ...  \\\n",
       "0             2.70          16.0        51.00      8          NaN  ...   \n",
       "1              NaN          11.0        18.60      1          NaN  ...   \n",
       "2              NaN           5.0        34.30      4          NaN  ...   \n",
       "3              NaN          14.0          NaN      9          NaN  ...   \n",
       "4             3.03          14.0        32.00     13          NaN  ...   \n",
       "5              NaN          12.0        14.40      5          NaN  ...   \n",
       "6              NaN          26.0        10.60      6          NaN  ...   \n",
       "7              NaN          24.0          NaN     22          NaN  ...   \n",
       "8              NaN          27.0        15.43     26          NaN  ...   \n",
       "9             2.50           9.0        43.60      7          NaN  ...   \n",
       "10            2.67          12.0        20.30      3          NaN  ...   \n",
       "11             NaN           5.0        31.00      4        False  ...   \n",
       "12             NaN           5.0        30.00      5          NaN  ...   \n",
       "13            2.56           5.0        27.00      5          NaN  ...   \n",
       "14             NaN           6.0        17.00      1          NaN  ...   \n",
       "15             NaN          14.0        20.50      5          NaN  ...   \n",
       "16            3.05           5.0        55.60      1          NaN  ...   \n",
       "17             NaN          17.0        16.50      7          NaN  ...   \n",
       "18            2.50           5.0        19.40      2          NaN  ...   \n",
       "19            2.75          16.0        76.00      8          NaN  ...   \n",
       "20            2.70          27.0        48.00     11          NaN  ...   \n",
       "21             NaN           5.0        16.90      2          NaN  ...   \n",
       "22            2.75          25.0        30.00     15          NaN  ...   \n",
       "23            2.60           9.0        17.70      9          NaN  ...   \n",
       "24             NaN           3.0        46.50      1          NaN  ...   \n",
       "25            2.75          23.0        39.00     18        False  ...   \n",
       "26             NaN           5.0        43.00      4          NaN  ...   \n",
       "27            2.60          17.0        49.00     11          NaN  ...   \n",
       "28            2.90           6.0        20.80      1          NaN  ...   \n",
       "29             NaN          19.0        52.00     15        False  ...   \n",
       "30             NaN           9.0          NaN      2          NaN  ...   \n",
       "31            2.80          16.0        38.10      4          NaN  ...   \n",
       "32             NaN           5.0        39.00      4          NaN  ...   \n",
       "33             NaN           9.0        51.60      5          NaN  ...   \n",
       "34            2.55          16.0        14.00      3          NaN  ...   \n",
       "35             NaN           5.0       104.00      4          NaN  ...   \n",
       "36             NaN           9.0        27.00      9        False  ...   \n",
       "37            2.50           5.0          NaN      1          NaN  ...   \n",
       "38            2.75          18.0        16.30      9          NaN  ...   \n",
       "39            2.75           9.0        29.70      2          NaN  ...   \n",
       "40            2.60          26.0        15.00     22          NaN  ...   \n",
       "41             NaN          14.0        59.00      8        False  ...   \n",
       "42            2.80           4.0        80.90      2        False  ...   \n",
       "43            3.00           4.0        28.00      4          NaN  ...   \n",
       "44             NaN          22.0          NaN      3          NaN  ...   \n",
       "45            2.65           9.0        30.30      7          NaN  ...   \n",
       "46            2.60          24.0        29.70      9          NaN  ...   \n",
       "47             NaN           4.0        42.50      3          NaN  ...   \n",
       "48             NaN          24.0        15.35      6          NaN  ...   \n",
       "49            2.50           9.0        18.00      7          NaN  ...   \n",
       "\n",
       "    kitchen_area  balcony                        locality_name  \\\n",
       "0          25.00      NaN                      Санкт-Петербург   \n",
       "1          11.00      2.0                       посёлок Шушары   \n",
       "2           8.30      0.0                      Санкт-Петербург   \n",
       "3            NaN      0.0                      Санкт-Петербург   \n",
       "4          41.00      NaN                      Санкт-Петербург   \n",
       "5           9.10      NaN            городской посёлок Янино-1   \n",
       "6          14.40      1.0                    посёлок Парголово   \n",
       "7          18.90      2.0                      Санкт-Петербург   \n",
       "8           8.81      NaN                       посёлок Мурино   \n",
       "9           6.50      2.0                      Санкт-Петербург   \n",
       "10          8.50      NaN                      Санкт-Петербург   \n",
       "11          6.00      1.0                            Ломоносов   \n",
       "12          9.00      0.0                            Сертолово   \n",
       "13          5.20      1.0                             Петергоф   \n",
       "14          8.00      0.0                               Пушкин   \n",
       "15          7.60      1.0                      Санкт-Петербург   \n",
       "16          9.00      NaN                      Санкт-Петербург   \n",
       "17         11.00      1.0                      Санкт-Петербург   \n",
       "18          5.60      1.0                      Санкт-Петербург   \n",
       "19         12.00      NaN                      Санкт-Петербург   \n",
       "20         12.00      2.0                    посёлок Парголово   \n",
       "21          5.70      1.0                      Санкт-Петербург   \n",
       "22         11.00      2.0                      деревня Кудрово   \n",
       "23          6.10      NaN                      Санкт-Петербург   \n",
       "24         19.60      0.0                      Санкт-Петербург   \n",
       "25         15.00      2.0                      Санкт-Петербург   \n",
       "26          7.00      NaN                      Санкт-Петербург   \n",
       "27          9.20      0.0                      Санкт-Петербург   \n",
       "28         11.70      1.0                               Пушкин   \n",
       "29         11.00      0.0                      Санкт-Петербург   \n",
       "30           NaN      NaN                             Коммунар   \n",
       "31         13.40      2.0                      Санкт-Петербург   \n",
       "32          6.00      0.0                      Санкт-Петербург   \n",
       "33          6.50      NaN                              Колпино   \n",
       "34          8.00      NaN                      Санкт-Петербург   \n",
       "35         17.00      NaN                      Санкт-Петербург   \n",
       "36          6.30      2.0                      Санкт-Петербург   \n",
       "37           NaN      NaN  поселок городского типа Красный Бор   \n",
       "38         11.60      NaN                       посёлок Мурино   \n",
       "39          8.80      2.0                      Санкт-Петербург   \n",
       "40         10.00      2.0                    посёлок Парголово   \n",
       "41         12.00      5.0                      Санкт-Петербург   \n",
       "42         17.60      5.0                             Петергоф   \n",
       "43          7.50      NaN                      Санкт-Петербург   \n",
       "44           NaN      1.0                      Санкт-Петербург   \n",
       "45          7.00      NaN                      Санкт-Петербург   \n",
       "46          8.30      2.0                      Санкт-Петербург   \n",
       "47          5.70      1.0                              Гатчина   \n",
       "48          9.50      NaN                      Санкт-Петербург   \n",
       "49          6.00      NaN                      Санкт-Петербург   \n",
       "\n",
       "    airports_nearest cityCenters_nearest  parks_around3000  parks_nearest  \\\n",
       "0            18863.0             16028.0               1.0          482.0   \n",
       "1            12817.0             18603.0               0.0            NaN   \n",
       "2            21741.0             13933.0               1.0           90.0   \n",
       "3            28098.0              6800.0               2.0           84.0   \n",
       "4            31856.0              8098.0               2.0          112.0   \n",
       "5                NaN                 NaN               NaN            NaN   \n",
       "6            52996.0             19143.0               0.0            NaN   \n",
       "7            23982.0             11634.0               0.0            NaN   \n",
       "8                NaN                 NaN               NaN            NaN   \n",
       "9            50898.0             15008.0               0.0            NaN   \n",
       "10           38357.0             13878.0               1.0          310.0   \n",
       "11           48252.0             51677.0               0.0            NaN   \n",
       "12               NaN                 NaN               NaN            NaN   \n",
       "13           37868.0             33058.0               1.0          294.0   \n",
       "14           20782.0             30759.0               0.0            NaN   \n",
       "15           12900.0             14259.0               1.0          590.0   \n",
       "16           22108.0             10698.0               3.0          420.0   \n",
       "17           33564.0             14616.0               0.0            NaN   \n",
       "18           44060.0             10842.0               1.0          759.0   \n",
       "19           38900.0             12843.0               0.0            NaN   \n",
       "20           53134.0             19311.0               0.0            NaN   \n",
       "21           36064.0              9722.0               1.0          248.0   \n",
       "22               NaN                 NaN               NaN            NaN   \n",
       "23           15414.0             14211.0               2.0          517.0   \n",
       "24           20052.0              2336.0               3.0          411.0   \n",
       "25           34967.0             14640.0               0.0            NaN   \n",
       "26           11580.0             10510.0               0.0            NaN   \n",
       "27           29197.0             11456.0               2.0          452.0   \n",
       "28           18557.0             30710.0               0.0            NaN   \n",
       "29           30394.0             11526.0               1.0          532.0   \n",
       "30               NaN                 NaN               NaN            NaN   \n",
       "31           32888.0             12944.0               0.0            NaN   \n",
       "32           11349.0             12889.0               0.0            NaN   \n",
       "33           26535.0             32321.0               0.0            NaN   \n",
       "34           13943.0             12739.0               0.0            NaN   \n",
       "35           23670.0              3502.0               0.0            NaN   \n",
       "36           49574.0             16461.0               1.0          459.0   \n",
       "37               NaN                 NaN               NaN            NaN   \n",
       "38               NaN                 NaN               NaN            NaN   \n",
       "39           13413.0             12209.0               0.0            NaN   \n",
       "40           52996.0             19143.0               0.0            NaN   \n",
       "41           37715.0             12612.0               1.0          725.0   \n",
       "42           35416.0             30605.0               2.0           47.0   \n",
       "43           15016.0             10822.0               0.0            NaN   \n",
       "44           30471.0             11603.0               1.0          620.0   \n",
       "45           30011.0             12872.0               0.0            NaN   \n",
       "46           15114.0             12702.0               0.0            NaN   \n",
       "47               NaN                 NaN               NaN            NaN   \n",
       "48           21460.0             16788.0               0.0            NaN   \n",
       "49           45341.0             16603.0               1.0          675.0   \n",
       "\n",
       "    ponds_around3000  ponds_nearest  days_exposition  \n",
       "0                2.0          755.0              NaN  \n",
       "1                0.0            NaN             81.0  \n",
       "2                2.0          574.0            558.0  \n",
       "3                3.0          234.0            424.0  \n",
       "4                1.0           48.0            121.0  \n",
       "5                NaN            NaN             55.0  \n",
       "6                0.0            NaN            155.0  \n",
       "7                0.0            NaN              NaN  \n",
       "8                NaN            NaN            189.0  \n",
       "9                0.0            NaN            289.0  \n",
       "10               2.0          553.0            137.0  \n",
       "11               0.0            NaN              7.0  \n",
       "12               NaN            NaN             90.0  \n",
       "13               3.0          298.0            366.0  \n",
       "14               1.0           96.0            203.0  \n",
       "15               1.0          296.0             19.0  \n",
       "16               0.0            NaN            397.0  \n",
       "17               1.0          859.0            571.0  \n",
       "18               0.0            NaN            168.0  \n",
       "19               0.0            NaN             97.0  \n",
       "20               0.0            NaN             74.0  \n",
       "21               0.0            NaN            310.0  \n",
       "22               NaN            NaN             60.0  \n",
       "23               1.0          190.0            615.0  \n",
       "24               3.0          124.0            265.0  \n",
       "25               1.0          564.0            300.0  \n",
       "26               1.0           95.0            265.0  \n",
       "27               1.0          779.0            151.0  \n",
       "28               1.0          118.0             74.0  \n",
       "29               1.0          896.0            125.0  \n",
       "30               NaN            NaN             63.0  \n",
       "31               0.0            NaN            112.0  \n",
       "32               1.0          426.0            224.0  \n",
       "33               0.0            NaN             92.0  \n",
       "34               0.0            NaN             15.0  \n",
       "35               1.0          779.0            644.0  \n",
       "36               0.0            NaN            139.0  \n",
       "37               NaN            NaN            196.0  \n",
       "38               NaN            NaN            103.0  \n",
       "39               1.0         1175.0             29.0  \n",
       "40               0.0            NaN            430.0  \n",
       "41               1.0          759.0            179.0  \n",
       "42               1.0          907.0            987.0  \n",
       "43               1.0          492.0            763.0  \n",
       "44               1.0         1152.0              NaN  \n",
       "45               0.0            NaN              NaN  \n",
       "46               0.0            NaN              NaN  \n",
       "47               NaN            NaN            179.0  \n",
       "48               1.0          170.0            322.0  \n",
       "49               0.0            NaN              NaN  \n",
       "\n",
       "[50 rows x 22 columns]"
      ]
     },
     "metadata": {},
     "output_type": "display_data"
    }
   ],
   "source": [
    "import pandas as pd\n",
    "df = pd.read_csv('/datasets/real_estate_data.csv', sep='\\t')\n",
    "df.info()\n",
    "display(df.head(50))"
   ]
  },
  {
   "cell_type": "markdown",
   "metadata": {},
   "source": [
    "### Вывод"
   ]
  },
  {
   "cell_type": "markdown",
   "metadata": {},
   "source": [
    "**Ознакомившись предварительно с предоставленными данными, обнаруживаем пропуски в важных для нас столбцах, а именно : жилая\n",
    "площадь, площадь кухни, расстояние до центра, количество дней размещения объявления, высота потолков. Также некоторые заголовки \n",
    "столбцов надо поменять на \"стильные\". В кое-каких столбцах немного неверный тип значений.**"
   ]
  },
  {
   "cell_type": "markdown",
   "metadata": {},
   "source": [
    "# Предобработка данных"
   ]
  },
  {
   "cell_type": "code",
   "execution_count": 2,
   "metadata": {},
   "outputs": [],
   "source": [
    "# убираем из таблицы типы населенных пунктов, чтобы не мешали при анализе дублями\n",
    "\n",
    "#print(df['locality_name'].unique())\n",
    "type_localitity_name = ['посёлок ','городской посёлок ','деревня ','поселок городского типа ',\n",
    "                        'поселок ','садовое товарищество ','село ','городской поселок ','поселок станции ',\n",
    "                        'посёлок городского типа ','коттеджный поселок ','посёлок при железнодорожной станции ','коттеджный  ',\n",
    "                        'при железнодорожной станции ','садоводческое некоммерческое товарищество ','городского типа ',\n",
    "                        'станции ','коттеджный ','городской ']\n",
    "    \n",
    "for name in type_localitity_name:\n",
    "    df['locality_name'] = df['locality_name'].str.replace(name, '')    \n",
    "    \n",
    "#print(df['locality_name'].value_counts().head(20))\n"
   ]
  },
  {
   "cell_type": "code",
   "execution_count": 3,
   "metadata": {},
   "outputs": [
    {
     "name": "stderr",
     "output_type": "stream",
     "text": [
      "/opt/conda/lib/python3.7/site-packages/numpy/lib/nanfunctions.py:1111: RuntimeWarning: Mean of empty slice\n",
      "  return np.nanmean(a, axis, out=out, keepdims=keepdims)\n"
     ]
    }
   ],
   "source": [
    "# заполняем пропуски до центра медианными значениями по населенным пунктам.\n",
    "for name in df['locality_name'].unique():\n",
    "    median = df.loc[df['locality_name'] == name, \n",
    "                    'cityCenters_nearest'].median()\n",
    "    #print(name, median)\n",
    "    df.loc[(df['cityCenters_nearest'].isna()) & (df['locality_name'] == name), 'cityCenters_nearest'] = median\n",
    "#print(df['cityCenters_nearest'].isna().sum())\n",
    "\n",
    "\n",
    "#видимо не во всех населеннных пунктах указано расстояние от объекта до центра Питера, оставшиеся пропуски заполняем медианными \n",
    "#значениями по всему фрейму\n",
    "df.loc[df['cityCenters_nearest'].isna(), 'cityCenters_nearest'] = df['cityCenters_nearest'].median()\n",
    "#print(df['cityCenters_nearest'].isna().sum())\n",
    "\n",
    "df = df.rename(columns = {'cityCenters_nearest':'city_centers_nearest'}) #меняем название столбца на \"стильное\""
   ]
  },
  {
   "cell_type": "code",
   "execution_count": 4,
   "metadata": {},
   "outputs": [],
   "source": [
    "#приводим дату размещения объявления к нужному формату\n",
    "df['first_day_exposition'] = pd.to_datetime(df['first_day_exposition'], format='%Y-%m-%d %H:%M')\n",
    "\n",
    "#пропуски в столбце по дням размещения заполняем разницей между датой размещения самого последнего объявления и датой объявления с пропуском\n",
    "max_date = df['first_day_exposition'].max()\n",
    "df.loc[df['days_exposition'].isna(), 'days_exposition'] = (max_date - df.loc[df['days_exposition'].isna(),'first_day_exposition']).dt.days \n",
    "df['days_exposition'] = df['days_exposition'].astype(int) # меняем значения столбца на целые\n",
    "#print('Пропуски после {}'.format(df['days_exposition'].isna().sum()))\n",
    "#display(df.head())"
   ]
  },
  {
   "cell_type": "code",
   "execution_count": 5,
   "metadata": {
    "scrolled": true
   },
   "outputs": [],
   "source": [
    "#меняем пропуски в столбце балконы на 0, предполагая, что их нет\n",
    "df.loc[df['balcony'].isna(), 'balcony'] = 0\n",
    "df['balcony'] = df['balcony'].astype(int) # меняем значения столбца на целые\n",
    "\n",
    "\n",
    "#меняем пропуски в столбце апартаменты на False, предполагая, что это не апартаменты\n",
    "df.loc[df['is_apartment'].isna(), 'is_apartment'] = 0\n",
    "df['is_apartment'] = df['is_apartment'].astype(bool) # меняем значения столбца на булевы\n",
    "#print(df['is_apartment'].unique())\n",
    "\n",
    "\n",
    "df.loc[df['ceiling_height'].isna(), 'ceiling_height'] = df['ceiling_height'].median() #заполняем пропуски высоты потолков медианным значением\n",
    "#print('Пропуски после:', df['ceiling_height'].isna().sum())\n",
    "\n",
    "\n",
    "df.loc[df['kitchen_area'].isna(), 'kitchen_area'] = df['kitchen_area'].median() #заполняем пропуски площадей кухни медианным значением\n",
    "#print('Пропуски после:', df['kitchen_area'].isna().sum())\n",
    "\n",
    "\n",
    "df.dropna(subset = ['locality_name'], inplace=True) #т.к. количество объектов, где не указано название города слишком мало, просто удаляем эти строки \n",
    "\n",
    "\n",
    "\n",
    "df.dropna(subset = ['floors_total'], inplace=True) #т.к. количество объектов, где не указана этажность домов слишком мало, просто удаляем эти строки \n",
    "df['floors_total'] = df['floors_total'].astype(int) # и меняем значения на целые\n",
    "\n",
    "\n",
    "\n",
    "#заполняем пропуски жилой площади по формуле \"общая площадь\" - \"площадь кухни\" - \"площадь служебных помещений(которые в среднем 25% от общей площади)\"\n",
    "df.loc[df['living_area'].isna(), 'living_area'] = df['total_area'] - df['total_area']*0.25 - df['kitchen_area']\n",
    "#print('Пропуски после:', df['living_area'].isna().sum())\n",
    "\n",
    "\n",
    "#меняем пропуски в столбце парки в округе на 0, предполагая, что их нет\n",
    "df.loc[df['parks_around3000'].isna(), 'parks_around3000'] = 0\n",
    "df['parks_around3000'] = df['parks_around3000'].astype(int) # меняем значения столбца парки в округе на целые\n",
    "df = df.rename(columns = {'parks_around3000':'parks_around_3000'}) #меняем название столбца на \"стильное\"\n",
    "\n",
    "\n",
    "#меняем пропуски в столбце водоемы в округе на 0, предполагая, что их нет\n",
    "df.loc[df['ponds_around3000'].isna(), 'ponds_around3000'] = 0\n",
    "df['ponds_around3000'] = df['ponds_around3000'].astype(int)# меняем значения столбца водоемы в округе на целые\n",
    "df = df.rename(columns = {'ponds_around3000':'ponds_around_3000'}) #меняем название столбца на \"стильное\"\n",
    "\n",
    "\n",
    "#df.info()\n",
    "#display(df.head(10))\n"
   ]
  },
  {
   "cell_type": "markdown",
   "metadata": {},
   "source": [
    "###  Вывод"
   ]
  },
  {
   "cell_type": "markdown",
   "metadata": {},
   "source": [
    "**На этапе предобработки данных, я избавился в столбце \"locality_name\" от типов населенных пунктов, чтобы не было дублирующих названий типа \"село Петровка\" и \"деревня Петровка\". Затем заполнил пропуски расстояния до центра Питера по медианным значениям каждого населенного пункта, где была возможнось его посчитать. Где такой возможности не было, заполнил пропуски по медианному значению всего датафрейма.**"
   ]
  },
  {
   "cell_type": "markdown",
   "metadata": {},
   "source": [
    "**Заполнил пропуски дней размещения объяления по формуле: разница между датой размещения самого последнего объявления и датой объявления с пропуском.**"
   ]
  },
  {
   "cell_type": "markdown",
   "metadata": {},
   "source": [
    "**Пропуски высоты потолков заменил медианным значением, также как и пропуски в площади кухни.**"
   ]
  },
  {
   "cell_type": "markdown",
   "metadata": {},
   "source": [
    "**Небольшое количество квартир было без указания населенного пункта и этажности здания, принял решение удалить такие строки методом \"dropna\".**"
   ]
  },
  {
   "cell_type": "markdown",
   "metadata": {},
   "source": [
    "**Пропуски значений \"жилая площадь\" заменил по формуле: \"общая площадь\" - \"площадь кухни\" - \"площадь служебных помещений(которые в среднем 25% от общей площади)\".**"
   ]
  },
  {
   "cell_type": "markdown",
   "metadata": {},
   "source": [
    "**Попутно заменил на 0 пропуски в столбцах : балконы, водоемы в округе, парки в округе, предполагая, что их нет, здесь же значения поменял на целые.**"
   ]
  },
  {
   "cell_type": "markdown",
   "metadata": {},
   "source": [
    "**Пропуски в столбце \"is_apartment\" заменил на 0 , предполагая, что это не апартаменты, и тип значений сделал булевым.**"
   ]
  },
  {
   "cell_type": "markdown",
   "metadata": {},
   "source": [
    "**Названия столбцов 'cityCenters_nearest', 'ponds_around3000', 'parks_around3000' привел к \"стильному\" виду соответственно 'city_centers_nearest', 'ponds_around_3000', 'parks_around_3000'.**"
   ]
  },
  {
   "cell_type": "markdown",
   "metadata": {},
   "source": [
    "## Расчёты и добавление результатов в таблицу"
   ]
  },
  {
   "cell_type": "code",
   "execution_count": 6,
   "metadata": {},
   "outputs": [],
   "source": [
    "df['price_sq_m'] = df['last_price'] / df['total_area']#добавляем в таблицу цену кв.м\n"
   ]
  },
  {
   "cell_type": "code",
   "execution_count": 7,
   "metadata": {},
   "outputs": [],
   "source": [
    "df['day_of_week_of_publication'] = df['first_day_exposition'].dt.weekday #добавляем в таблицу день недели публикации\n",
    "df['month_of_publication'] = df['first_day_exposition'].dt.month #добавляем в таблицу месяц публикации\n",
    "df['year_of_publication'] = df['first_day_exposition'].dt.year #добавляем в таблицу год публикации\n"
   ]
  },
  {
   "cell_type": "code",
   "execution_count": 8,
   "metadata": {},
   "outputs": [],
   "source": [
    "def floors(row): #создаем функцию для распределения этажей по группам\n",
    "    if row['floor'] == 1:\n",
    "        return 'первый'\n",
    "    if row['floor'] == row['floors_total']:\n",
    "        return 'последний'\n",
    "    else:\n",
    "        return 'другой'\n",
    "df['floor_group'] = df.apply(floors, axis=1)  \n"
   ]
  },
  {
   "cell_type": "code",
   "execution_count": 9,
   "metadata": {},
   "outputs": [],
   "source": [
    "df['ratio_living_total'] = df['living_area'] / df['total_area'] #добавляем соотношение жилой площади к общей\n",
    "df['ratio_kitchen_total'] = df['kitchen_area'] / df['total_area'] # добавляем соотношение площади кухни к общей\n",
    "#display(df.head())"
   ]
  },
  {
   "cell_type": "markdown",
   "metadata": {},
   "source": [
    "### Вывод"
   ]
  },
  {
   "cell_type": "markdown",
   "metadata": {},
   "source": [
    "**Согласно ТЗ добавил в таблицу цену кв.м, день недели, месяц, год публикации объявления, распределение этажей по группам, соотношение жилой площади к общей и соотношение площади кухни к общей площади.**  "
   ]
  },
  {
   "cell_type": "markdown",
   "metadata": {},
   "source": [
    "## Исследовательский анализ данных"
   ]
  },
  {
   "cell_type": "code",
   "execution_count": 10,
   "metadata": {
    "collapsed": true
   },
   "outputs": [
    {
     "data": {
      "text/plain": [
       "count    23565.000000\n",
       "mean         2.070656\n",
       "std          1.078591\n",
       "min          0.000000\n",
       "25%          1.000000\n",
       "50%          2.000000\n",
       "75%          3.000000\n",
       "max         19.000000\n",
       "Name: rooms, dtype: float64"
      ]
     },
     "metadata": {},
     "output_type": "display_data"
    },
    {
     "data": {
      "image/png": "[encoded data removed]",
      "text/plain": [
       "<Figure size 432x288 with 1 Axes>"
      ]
     },
     "metadata": {
      "needs_background": "light"
     },
     "output_type": "display_data"
    }
   ],
   "source": [
    "import matplotlib.pyplot as plt \n",
    " \n",
    "display(df['rooms'].describe())\n",
    "df.plot(y='rooms', kind='hist', title='Общие значения числа комнат', bins=20)\n",
    "plt.show()"
   ]
  },
  {
   "cell_type": "markdown",
   "metadata": {},
   "source": [
    "**Почти очевидно, что пиковые значения - это 1,2,3-х комнатные квартиры**"
   ]
  },
  {
   "cell_type": "code",
   "execution_count": 11,
   "metadata": {
    "scrolled": false
   },
   "outputs": [
    {
     "data": {
      "text/plain": [
       "count    23565.000000\n",
       "mean        60.322824\n",
       "std         35.657060\n",
       "min         12.000000\n",
       "25%         40.000000\n",
       "50%         52.000000\n",
       "75%         69.700000\n",
       "max        900.000000\n",
       "Name: total_area, dtype: float64"
      ]
     },
     "metadata": {},
     "output_type": "display_data"
    },
    {
     "data": {
      "image/png": "[encoded data removed]",
      "text/plain": [
       "<Figure size 432x288 with 1 Axes>"
      ]
     },
     "metadata": {
      "needs_background": "light"
     },
     "output_type": "display_data"
    }
   ],
   "source": [
    "display(df['total_area'].describe())\n",
    "df.plot(y='total_area', kind='hist', title='Общие значения площади',bins=50)\n",
    "plt.show()"
   ]
  },
  {
   "cell_type": "markdown",
   "metadata": {},
   "source": [
    "**Пиковые значения - это 30-60 кв.м , довольно большой массив 60-90 кв.м, заметное количество 18-30 кв.м и 90-100 кв.м,\n",
    "квартиры площадью более 113 кв.м, согласно диаграмме размаха , являются выбросами .**"
   ]
  },
  {
   "cell_type": "code",
   "execution_count": 12,
   "metadata": {
    "scrolled": false
   },
   "outputs": [
    {
     "data": {
      "text/plain": [
       "count        23565.0\n",
       "mean       6540058.0\n",
       "std       10910935.0\n",
       "min          12190.0\n",
       "25%        3400000.0\n",
       "50%        4646000.0\n",
       "75%        6790000.0\n",
       "max      763000000.0\n",
       "Name: last_price, dtype: float64"
      ]
     },
     "metadata": {},
     "output_type": "display_data"
    },
    {
     "data": {
      "image/png": "[encoded data removed]",
      "text/plain": [
       "<Figure size 432x288 with 1 Axes>"
      ]
     },
     "metadata": {
      "needs_background": "light"
     },
     "output_type": "display_data"
    }
   ],
   "source": [
    "display(df['last_price'].describe().round(0))\n",
    "df.plot(y='last_price', kind='hist', title='Общие значения цены', bins=50)\n",
    "plt.show()"
   ]
  },
  {
   "cell_type": "markdown",
   "metadata": {},
   "source": [
    "**Среднее значение почти в 1,5 раза больше медианы, значит есть длинный хвост с высокими значениями или несколько очень больших значений.\n",
    "Разница между Q1 и Q3 3390000, значит квартиры стоимостью более 11875000р. являются выбросами. \n",
    "По значению цены довольно сложно что-то понять, думаю лучше обратиться к цене квадратного метра.**"
   ]
  },
  {
   "cell_type": "code",
   "execution_count": 13,
   "metadata": {
    "scrolled": false
   },
   "outputs": [
    {
     "data": {
      "text/plain": [
       "count    23565.000000\n",
       "mean         2.724530\n",
       "std          0.991026\n",
       "min          1.000000\n",
       "25%          2.600000\n",
       "50%          2.650000\n",
       "75%          2.700000\n",
       "max        100.000000\n",
       "Name: ceiling_height, dtype: float64"
      ]
     },
     "metadata": {},
     "output_type": "display_data"
    },
    {
     "data": {
      "image/png": "[encoded data removed]",
      "text/plain": [
       "<Figure size 432x288 with 1 Axes>"
      ]
     },
     "metadata": {
      "needs_background": "light"
     },
     "output_type": "display_data"
    }
   ],
   "source": [
    "display(df['ceiling_height'].describe())\n",
    "df.plot(y='ceiling_height', kind='hist', title='Общие значения высоты потолков', bins=100)\n",
    "plt.show()"
   ]
  },
  {
   "cell_type": "markdown",
   "metadata": {},
   "source": [
    "**Пик значений 2,6-2,7 м, Разница между Q1 и Q3 0,1м, значит согласно диаграмме рассеивания , потолки выше 2,85 и ниже 2,45 это выбросы.**"
   ]
  },
  {
   "cell_type": "code",
   "execution_count": 14,
   "metadata": {},
   "outputs": [
    {
     "data": {
      "text/plain": [
       "count      23565.0\n",
       "mean       99406.0\n",
       "std        50389.0\n",
       "min          112.0\n",
       "25%        76566.0\n",
       "50%        95000.0\n",
       "75%       114213.0\n",
       "max      1907500.0\n",
       "Name: price_sq_m, dtype: float64"
      ]
     },
     "metadata": {},
     "output_type": "display_data"
    },
    {
     "data": {
      "image/png": "[encoded data removed]",
      "text/plain": [
       "<Figure size 432x288 with 1 Axes>"
      ]
     },
     "metadata": {
      "needs_background": "light"
     },
     "output_type": "display_data"
    }
   ],
   "source": [
    "display(df['price_sq_m'].describe().round(0))\n",
    "df.plot(y='price_sq_m', kind='hist', title='Общие значения цены кв.м', bins=100)\n",
    "plt.show()"
   ]
  },
  {
   "cell_type": "markdown",
   "metadata": {},
   "source": [
    "**Основной разбег цены за кв.м от 75000 р. до 120000 р.Согласно диаграмме рассеивания, выбросы начинаются до цены 20096р. за кв.м и после цены 170683р. за кв.м**"
   ]
  },
  {
   "cell_type": "code",
   "execution_count": 15,
   "metadata": {},
   "outputs": [
    {
     "data": {
      "text/plain": [
       "count    23565.000000\n",
       "mean       185.759728\n",
       "std        233.492930\n",
       "min          0.000000\n",
       "25%         43.000000\n",
       "50%         94.000000\n",
       "75%        237.000000\n",
       "max       1618.000000\n",
       "Name: days_exposition, dtype: float64"
      ]
     },
     "metadata": {},
     "output_type": "display_data"
    },
    {
     "data": {
      "image/png": "[encoded data removed]",
      "text/plain": [
       "<Figure size 432x288 with 1 Axes>"
      ]
     },
     "metadata": {
      "needs_background": "light"
     },
     "output_type": "display_data"
    }
   ],
   "source": [
    "display(df['days_exposition'].describe())\n",
    "df.plot(y='days_exposition', kind='hist', title='Общие значения времени продажи квартиры', bins=100)\n",
    "plt.show()"
   ]
  },
  {
   "cell_type": "markdown",
   "metadata": {},
   "source": [
    "**Среднее в 2,5 раза больше медианы,значит есть длинный хвост с высокими значениями или несколько очень больших значений.\n",
    "Обычно продажи занимают от 0 до 528 дней согласно \"диаграмме размаха\". Все что больше, можно считать выбросами, т.е. необычно долго.Быстрыми ,возможно, можно считать продажи в пределах 1-го квартиля, т.е. до 43 дней.**"
   ]
  },
  {
   "cell_type": "code",
   "execution_count": 16,
   "metadata": {},
   "outputs": [
    {
     "data": {
      "text/html": [
       "<div>\n",
       "<style scoped>\n",
       "    .dataframe tbody tr th:only-of-type {\n",
       "        vertical-align: middle;\n",
       "    }\n",
       "\n",
       "    .dataframe tbody tr th {\n",
       "        vertical-align: top;\n",
       "    }\n",
       "\n",
       "    .dataframe thead th {\n",
       "        text-align: right;\n",
       "    }\n",
       "</style>\n",
       "<table border=\"1\" class=\"dataframe\">\n",
       "  <thead>\n",
       "    <tr style=\"text-align: right;\">\n",
       "      <th></th>\n",
       "      <th>total_images</th>\n",
       "      <th>last_price</th>\n",
       "      <th>total_area</th>\n",
       "      <th>first_day_exposition</th>\n",
       "      <th>rooms</th>\n",
       "      <th>ceiling_height</th>\n",
       "      <th>floors_total</th>\n",
       "      <th>living_area</th>\n",
       "      <th>floor</th>\n",
       "      <th>is_apartment</th>\n",
       "      <th>...</th>\n",
       "      <th>days_exposition</th>\n",
       "      <th>price_sq_m</th>\n",
       "      <th>day_of_week_of_publication</th>\n",
       "      <th>month_of_publication</th>\n",
       "      <th>year_of_publication</th>\n",
       "      <th>floor_group</th>\n",
       "      <th>ratio_living_total</th>\n",
       "      <th>ratio_kitchen_total</th>\n",
       "      <th>too_fast_sale</th>\n",
       "      <th>too_slow_sale</th>\n",
       "    </tr>\n",
       "  </thead>\n",
       "  <tbody>\n",
       "    <tr>\n",
       "      <td>0</td>\n",
       "      <td>20</td>\n",
       "      <td>13000000.0</td>\n",
       "      <td>108.0</td>\n",
       "      <td>2019-03-07</td>\n",
       "      <td>3</td>\n",
       "      <td>2.70</td>\n",
       "      <td>16</td>\n",
       "      <td>51.00</td>\n",
       "      <td>8</td>\n",
       "      <td>False</td>\n",
       "      <td>...</td>\n",
       "      <td>57</td>\n",
       "      <td>120370.370370</td>\n",
       "      <td>3</td>\n",
       "      <td>3</td>\n",
       "      <td>2019</td>\n",
       "      <td>другой</td>\n",
       "      <td>0.472222</td>\n",
       "      <td>0.231481</td>\n",
       "      <td>False</td>\n",
       "      <td>False</td>\n",
       "    </tr>\n",
       "    <tr>\n",
       "      <td>1</td>\n",
       "      <td>7</td>\n",
       "      <td>3350000.0</td>\n",
       "      <td>40.4</td>\n",
       "      <td>2018-12-04</td>\n",
       "      <td>1</td>\n",
       "      <td>2.65</td>\n",
       "      <td>11</td>\n",
       "      <td>18.60</td>\n",
       "      <td>1</td>\n",
       "      <td>False</td>\n",
       "      <td>...</td>\n",
       "      <td>81</td>\n",
       "      <td>82920.792079</td>\n",
       "      <td>1</td>\n",
       "      <td>12</td>\n",
       "      <td>2018</td>\n",
       "      <td>первый</td>\n",
       "      <td>0.460396</td>\n",
       "      <td>0.272277</td>\n",
       "      <td>False</td>\n",
       "      <td>False</td>\n",
       "    </tr>\n",
       "    <tr>\n",
       "      <td>2</td>\n",
       "      <td>10</td>\n",
       "      <td>5196000.0</td>\n",
       "      <td>56.0</td>\n",
       "      <td>2015-08-20</td>\n",
       "      <td>2</td>\n",
       "      <td>2.65</td>\n",
       "      <td>5</td>\n",
       "      <td>34.30</td>\n",
       "      <td>4</td>\n",
       "      <td>False</td>\n",
       "      <td>...</td>\n",
       "      <td>558</td>\n",
       "      <td>92785.714286</td>\n",
       "      <td>3</td>\n",
       "      <td>8</td>\n",
       "      <td>2015</td>\n",
       "      <td>другой</td>\n",
       "      <td>0.612500</td>\n",
       "      <td>0.148214</td>\n",
       "      <td>False</td>\n",
       "      <td>True</td>\n",
       "    </tr>\n",
       "    <tr>\n",
       "      <td>3</td>\n",
       "      <td>0</td>\n",
       "      <td>64900000.0</td>\n",
       "      <td>159.0</td>\n",
       "      <td>2015-07-24</td>\n",
       "      <td>3</td>\n",
       "      <td>2.65</td>\n",
       "      <td>14</td>\n",
       "      <td>110.15</td>\n",
       "      <td>9</td>\n",
       "      <td>False</td>\n",
       "      <td>...</td>\n",
       "      <td>424</td>\n",
       "      <td>408176.100629</td>\n",
       "      <td>4</td>\n",
       "      <td>7</td>\n",
       "      <td>2015</td>\n",
       "      <td>другой</td>\n",
       "      <td>0.692767</td>\n",
       "      <td>0.057233</td>\n",
       "      <td>False</td>\n",
       "      <td>False</td>\n",
       "    </tr>\n",
       "    <tr>\n",
       "      <td>4</td>\n",
       "      <td>2</td>\n",
       "      <td>10000000.0</td>\n",
       "      <td>100.0</td>\n",
       "      <td>2018-06-19</td>\n",
       "      <td>2</td>\n",
       "      <td>3.03</td>\n",
       "      <td>14</td>\n",
       "      <td>32.00</td>\n",
       "      <td>13</td>\n",
       "      <td>False</td>\n",
       "      <td>...</td>\n",
       "      <td>121</td>\n",
       "      <td>100000.000000</td>\n",
       "      <td>1</td>\n",
       "      <td>6</td>\n",
       "      <td>2018</td>\n",
       "      <td>другой</td>\n",
       "      <td>0.320000</td>\n",
       "      <td>0.410000</td>\n",
       "      <td>False</td>\n",
       "      <td>False</td>\n",
       "    </tr>\n",
       "  </tbody>\n",
       "</table>\n",
       "<p>5 rows × 31 columns</p>\n",
       "</div>"
      ],
      "text/plain": [
       "   total_images  last_price  total_area first_day_exposition  rooms  \\\n",
       "0            20  13000000.0       108.0           2019-03-07      3   \n",
       "1             7   3350000.0        40.4           2018-12-04      1   \n",
       "2            10   5196000.0        56.0           2015-08-20      2   \n",
       "3             0  64900000.0       159.0           2015-07-24      3   \n",
       "4             2  10000000.0       100.0           2018-06-19      2   \n",
       "\n",
       "   ceiling_height  floors_total  living_area  floor  is_apartment  ...  \\\n",
       "0            2.70            16        51.00      8         False  ...   \n",
       "1            2.65            11        18.60      1         False  ...   \n",
       "2            2.65             5        34.30      4         False  ...   \n",
       "3            2.65            14       110.15      9         False  ...   \n",
       "4            3.03            14        32.00     13         False  ...   \n",
       "\n",
       "   days_exposition     price_sq_m  day_of_week_of_publication  \\\n",
       "0               57  120370.370370                           3   \n",
       "1               81   82920.792079                           1   \n",
       "2              558   92785.714286                           3   \n",
       "3              424  408176.100629                           4   \n",
       "4              121  100000.000000                           1   \n",
       "\n",
       "   month_of_publication year_of_publication  floor_group  ratio_living_total  \\\n",
       "0                     3                2019       другой            0.472222   \n",
       "1                    12                2018       первый            0.460396   \n",
       "2                     8                2015       другой            0.612500   \n",
       "3                     7                2015       другой            0.692767   \n",
       "4                     6                2018       другой            0.320000   \n",
       "\n",
       "   ratio_kitchen_total  too_fast_sale  too_slow_sale  \n",
       "0             0.231481          False          False  \n",
       "1             0.272277          False          False  \n",
       "2             0.148214          False           True  \n",
       "3             0.057233          False          False  \n",
       "4             0.410000          False          False  \n",
       "\n",
       "[5 rows x 31 columns]"
      ]
     },
     "metadata": {},
     "output_type": "display_data"
    },
    {
     "name": "stdout",
     "output_type": "stream",
     "text": [
      "0.2480797793337577\n",
      "0.08253766178654785\n"
     ]
    }
   ],
   "source": [
    "df['too_fast_sale'] = (df['days_exposition'] < 43)# добавляем столбец со \"слишком быстрыми\" продажами\n",
    "df['too_slow_sale'] = (df['days_exposition'] > 528)# добавляем столбец с долгими продажами\n",
    "display(df.head())\n",
    "print(df['too_fast_sale'].mean())# считаем процент быстрых продаж\n",
    "print(df['too_slow_sale'].mean())# считаем процент долгих продаж"
   ]
  },
  {
   "cell_type": "markdown",
   "metadata": {},
   "source": [
    "**Процент долгих продаж очень небольшой, для анализа думаю можно проститься с ними без печали.**"
   ]
  },
  {
   "cell_type": "code",
   "execution_count": 17,
   "metadata": {
    "scrolled": false
   },
   "outputs": [
    {
     "name": "stdout",
     "output_type": "stream",
     "text": [
      "<class 'pandas.core.frame.DataFrame'>\n",
      "Int64Index: 17525 entries, 1 to 23696\n",
      "Data columns (total 31 columns):\n",
      "total_images                  17525 non-null int64\n",
      "last_price                    17525 non-null float64\n",
      "total_area                    17525 non-null float64\n",
      "first_day_exposition          17525 non-null datetime64[ns]\n",
      "rooms                         17525 non-null int64\n",
      "ceiling_height                17525 non-null float64\n",
      "floors_total                  17525 non-null int64\n",
      "living_area                   17525 non-null float64\n",
      "floor                         17525 non-null int64\n",
      "is_apartment                  17525 non-null bool\n",
      "studio                        17525 non-null bool\n",
      "open_plan                     17525 non-null bool\n",
      "kitchen_area                  17525 non-null float64\n",
      "balcony                       17525 non-null int64\n",
      "locality_name                 17525 non-null object\n",
      "airports_nearest              12945 non-null float64\n",
      "city_centers_nearest          17525 non-null float64\n",
      "parks_around_3000             17525 non-null int64\n",
      "parks_nearest                 4954 non-null float64\n",
      "ponds_around_3000             17525 non-null int64\n",
      "ponds_nearest                 5928 non-null float64\n",
      "days_exposition               17525 non-null int64\n",
      "price_sq_m                    17525 non-null float64\n",
      "day_of_week_of_publication    17525 non-null int64\n",
      "month_of_publication          17525 non-null int64\n",
      "year_of_publication           17525 non-null int64\n",
      "floor_group                   17525 non-null object\n",
      "ratio_living_total            17525 non-null float64\n",
      "ratio_kitchen_total           17525 non-null float64\n",
      "too_fast_sale                 17525 non-null bool\n",
      "too_slow_sale                 17525 non-null bool\n",
      "dtypes: bool(5), datetime64[ns](1), float64(12), int64(11), object(2)\n",
      "memory usage: 3.7+ MB\n"
     ]
    },
    {
     "data": {
      "text/html": [
       "<div>\n",
       "<style scoped>\n",
       "    .dataframe tbody tr th:only-of-type {\n",
       "        vertical-align: middle;\n",
       "    }\n",
       "\n",
       "    .dataframe tbody tr th {\n",
       "        vertical-align: top;\n",
       "    }\n",
       "\n",
       "    .dataframe thead th {\n",
       "        text-align: right;\n",
       "    }\n",
       "</style>\n",
       "<table border=\"1\" class=\"dataframe\">\n",
       "  <thead>\n",
       "    <tr style=\"text-align: right;\">\n",
       "      <th></th>\n",
       "      <th>total_images</th>\n",
       "      <th>last_price</th>\n",
       "      <th>total_area</th>\n",
       "      <th>first_day_exposition</th>\n",
       "      <th>rooms</th>\n",
       "      <th>ceiling_height</th>\n",
       "      <th>floors_total</th>\n",
       "      <th>living_area</th>\n",
       "      <th>floor</th>\n",
       "      <th>is_apartment</th>\n",
       "      <th>...</th>\n",
       "      <th>days_exposition</th>\n",
       "      <th>price_sq_m</th>\n",
       "      <th>day_of_week_of_publication</th>\n",
       "      <th>month_of_publication</th>\n",
       "      <th>year_of_publication</th>\n",
       "      <th>floor_group</th>\n",
       "      <th>ratio_living_total</th>\n",
       "      <th>ratio_kitchen_total</th>\n",
       "      <th>too_fast_sale</th>\n",
       "      <th>too_slow_sale</th>\n",
       "    </tr>\n",
       "  </thead>\n",
       "  <tbody>\n",
       "    <tr>\n",
       "      <td>1</td>\n",
       "      <td>7</td>\n",
       "      <td>3350000.0</td>\n",
       "      <td>40.40</td>\n",
       "      <td>2018-12-04</td>\n",
       "      <td>1</td>\n",
       "      <td>2.65</td>\n",
       "      <td>11</td>\n",
       "      <td>18.60</td>\n",
       "      <td>1</td>\n",
       "      <td>False</td>\n",
       "      <td>...</td>\n",
       "      <td>81</td>\n",
       "      <td>82920.792079</td>\n",
       "      <td>1</td>\n",
       "      <td>12</td>\n",
       "      <td>2018</td>\n",
       "      <td>первый</td>\n",
       "      <td>0.460396</td>\n",
       "      <td>0.272277</td>\n",
       "      <td>False</td>\n",
       "      <td>False</td>\n",
       "    </tr>\n",
       "    <tr>\n",
       "      <td>5</td>\n",
       "      <td>10</td>\n",
       "      <td>2890000.0</td>\n",
       "      <td>30.40</td>\n",
       "      <td>2018-09-10</td>\n",
       "      <td>1</td>\n",
       "      <td>2.65</td>\n",
       "      <td>12</td>\n",
       "      <td>14.40</td>\n",
       "      <td>5</td>\n",
       "      <td>False</td>\n",
       "      <td>...</td>\n",
       "      <td>55</td>\n",
       "      <td>95065.789474</td>\n",
       "      <td>0</td>\n",
       "      <td>9</td>\n",
       "      <td>2018</td>\n",
       "      <td>другой</td>\n",
       "      <td>0.473684</td>\n",
       "      <td>0.299342</td>\n",
       "      <td>False</td>\n",
       "      <td>False</td>\n",
       "    </tr>\n",
       "    <tr>\n",
       "      <td>6</td>\n",
       "      <td>6</td>\n",
       "      <td>3700000.0</td>\n",
       "      <td>37.30</td>\n",
       "      <td>2017-11-02</td>\n",
       "      <td>1</td>\n",
       "      <td>2.65</td>\n",
       "      <td>26</td>\n",
       "      <td>10.60</td>\n",
       "      <td>6</td>\n",
       "      <td>False</td>\n",
       "      <td>...</td>\n",
       "      <td>155</td>\n",
       "      <td>99195.710456</td>\n",
       "      <td>3</td>\n",
       "      <td>11</td>\n",
       "      <td>2017</td>\n",
       "      <td>другой</td>\n",
       "      <td>0.284182</td>\n",
       "      <td>0.386059</td>\n",
       "      <td>False</td>\n",
       "      <td>False</td>\n",
       "    </tr>\n",
       "    <tr>\n",
       "      <td>7</td>\n",
       "      <td>5</td>\n",
       "      <td>7915000.0</td>\n",
       "      <td>71.60</td>\n",
       "      <td>2019-04-18</td>\n",
       "      <td>2</td>\n",
       "      <td>2.65</td>\n",
       "      <td>24</td>\n",
       "      <td>34.80</td>\n",
       "      <td>22</td>\n",
       "      <td>False</td>\n",
       "      <td>...</td>\n",
       "      <td>15</td>\n",
       "      <td>110544.692737</td>\n",
       "      <td>3</td>\n",
       "      <td>4</td>\n",
       "      <td>2019</td>\n",
       "      <td>другой</td>\n",
       "      <td>0.486034</td>\n",
       "      <td>0.263966</td>\n",
       "      <td>True</td>\n",
       "      <td>False</td>\n",
       "    </tr>\n",
       "    <tr>\n",
       "      <td>8</td>\n",
       "      <td>20</td>\n",
       "      <td>2900000.0</td>\n",
       "      <td>33.16</td>\n",
       "      <td>2018-05-23</td>\n",
       "      <td>1</td>\n",
       "      <td>2.65</td>\n",
       "      <td>27</td>\n",
       "      <td>15.43</td>\n",
       "      <td>26</td>\n",
       "      <td>False</td>\n",
       "      <td>...</td>\n",
       "      <td>189</td>\n",
       "      <td>87454.764777</td>\n",
       "      <td>2</td>\n",
       "      <td>5</td>\n",
       "      <td>2018</td>\n",
       "      <td>другой</td>\n",
       "      <td>0.465320</td>\n",
       "      <td>0.265682</td>\n",
       "      <td>False</td>\n",
       "      <td>False</td>\n",
       "    </tr>\n",
       "  </tbody>\n",
       "</table>\n",
       "<p>5 rows × 31 columns</p>\n",
       "</div>"
      ],
      "text/plain": [
       "   total_images  last_price  total_area first_day_exposition  rooms  \\\n",
       "1             7   3350000.0       40.40           2018-12-04      1   \n",
       "5            10   2890000.0       30.40           2018-09-10      1   \n",
       "6             6   3700000.0       37.30           2017-11-02      1   \n",
       "7             5   7915000.0       71.60           2019-04-18      2   \n",
       "8            20   2900000.0       33.16           2018-05-23      1   \n",
       "\n",
       "   ceiling_height  floors_total  living_area  floor  is_apartment  ...  \\\n",
       "1            2.65            11        18.60      1         False  ...   \n",
       "5            2.65            12        14.40      5         False  ...   \n",
       "6            2.65            26        10.60      6         False  ...   \n",
       "7            2.65            24        34.80     22         False  ...   \n",
       "8            2.65            27        15.43     26         False  ...   \n",
       "\n",
       "   days_exposition     price_sq_m  day_of_week_of_publication  \\\n",
       "1               81   82920.792079                           1   \n",
       "5               55   95065.789474                           0   \n",
       "6              155   99195.710456                           3   \n",
       "7               15  110544.692737                           3   \n",
       "8              189   87454.764777                           2   \n",
       "\n",
       "   month_of_publication year_of_publication  floor_group  ratio_living_total  \\\n",
       "1                    12                2018       первый            0.460396   \n",
       "5                     9                2018       другой            0.473684   \n",
       "6                    11                2017       другой            0.284182   \n",
       "7                     4                2019       другой            0.486034   \n",
       "8                     5                2018       другой            0.465320   \n",
       "\n",
       "   ratio_kitchen_total  too_fast_sale  too_slow_sale  \n",
       "1             0.272277          False          False  \n",
       "5             0.299342          False          False  \n",
       "6             0.386059          False          False  \n",
       "7             0.263966           True          False  \n",
       "8             0.265682          False          False  \n",
       "\n",
       "[5 rows x 31 columns]"
      ]
     },
     "metadata": {},
     "output_type": "display_data"
    },
    {
     "data": {
      "text/plain": [
       "count    17525.000000\n",
       "mean       123.489986\n",
       "std        121.340082\n",
       "min          0.000000\n",
       "25%         36.000000\n",
       "50%         76.000000\n",
       "75%        175.000000\n",
       "max        527.000000\n",
       "Name: days_exposition, dtype: float64"
      ]
     },
     "metadata": {},
     "output_type": "display_data"
    },
    {
     "data": {
      "image/png": "[encoded data removed]",
      "text/plain": [
       "<Figure size 432x288 with 1 Axes>"
      ]
     },
     "metadata": {
      "needs_background": "light"
     },
     "output_type": "display_data"
    }
   ],
   "source": [
    "df = df.query('days_exposition<528') # оставляем в таблице данные без долгих продаж.\n",
    "df = df.query('0 < rooms < 5') #оставляем в таблице 1,2,3,4-комнатные квартиры.\n",
    "df = df.query('0 < total_area < 113') # оставляем в таблице квартиры площадью до 113 кв.м.\n",
    "df = df.query('0 < last_price < 11875000') # оставляем в таблиц квартиры с ценой до 11875000р.\n",
    "df = df.query('2.45 < ceiling_height < 2.85') # оставляем в таблице квартиры с потолками от 2,45 до 2,85 м.\n",
    "df = df.query('20096 < price_sq_m < 170683') # оставляем в таблице цену за кв.м от 20096р. за кв.м и до 170683р. за кв.м\n",
    "df.info()\n",
    "display(df.head())\n",
    "display(df['days_exposition'].describe())\n",
    "df.plot(y='days_exposition', kind='hist', title='Общие значения времени продажи квартиры', bins=20)\n",
    "plt.show()"
   ]
  },
  {
   "cell_type": "markdown",
   "metadata": {},
   "source": [
    "**В дальнейшем исследовании буду использовать цену кв.м, т.к. мне кажется это более правильный подход, а также совет преподавателя.**"
   ]
  },
  {
   "cell_type": "code",
   "execution_count": 18,
   "metadata": {},
   "outputs": [
    {
     "name": "stdout",
     "output_type": "stream",
     "text": [
      "-0.08449969931004578\n"
     ]
    },
    {
     "data": {
      "image/png": "[encoded data removed]",
      "text/plain": [
       "<Figure size 432x288 with 1 Axes>"
      ]
     },
     "metadata": {
      "needs_background": "light"
     },
     "output_type": "display_data"
    }
   ],
   "source": [
    "df.plot(x='total_area', y='price_sq_m', kind='scatter', grid=True)# строим график зависимости цены кв.м и\n",
    "                                                                            #  площади квартиры \n",
    "print(df['total_area'].corr(df['price_sq_m'])) # также проверяем кореляцию"
   ]
  },
  {
   "cell_type": "markdown",
   "metadata": {},
   "source": [
    "**В данном случае , по кореляции особой связи между площадью квартиры и цены кв.м не замечено. а по графику снижение после 80кв.м**"
   ]
  },
  {
   "cell_type": "code",
   "execution_count": 19,
   "metadata": {
    "scrolled": true
   },
   "outputs": [
    {
     "data": {
      "image/png": "[encoded data removed]",
      "text/plain": [
       "<Figure size 720x360 with 1 Axes>"
      ]
     },
     "metadata": {
      "needs_background": "light"
     },
     "output_type": "display_data"
    }
   ],
   "source": [
    "df.pivot_table(index = 'rooms', values = 'price_sq_m').plot(kind = 'bar', title = 'Количество комнат', figsize = (10,5))\n",
    "# строим график зависимости количества комнат цены кв.м \n",
    "plt.show()"
   ]
  },
  {
   "cell_type": "markdown",
   "metadata": {},
   "source": [
    "**В зависимости от количества комнат  цена кв.м с добавлением каждой комнаты снижается. У 2-х комнатных квартир снижение по отношению к однокомнатной на 10%, далее по 5% .**"
   ]
  },
  {
   "cell_type": "code",
   "execution_count": 20,
   "metadata": {},
   "outputs": [
    {
     "name": "stdout",
     "output_type": "stream",
     "text": [
      "-0.17960320075274885\n"
     ]
    },
    {
     "data": {
      "image/png": "[encoded data removed]",
      "text/plain": [
       "<Figure size 432x288 with 1 Axes>"
      ]
     },
     "metadata": {
      "needs_background": "light"
     },
     "output_type": "display_data"
    }
   ],
   "source": [
    "df.plot(x='city_centers_nearest', y='price_sq_m', kind='scatter', grid=True)# строим график зависимости удаленности от центра и\n",
    "                                                                            #  цены кв.м \n",
    "print(df['city_centers_nearest'].corr(df['price_sq_m'])) # также проверяем кореляцию"
   ]
  },
  {
   "cell_type": "markdown",
   "metadata": {},
   "source": [
    "**С увеличением дальности от центра , цена кв.м снижается.**"
   ]
  },
  {
   "cell_type": "code",
   "execution_count": 21,
   "metadata": {},
   "outputs": [
    {
     "data": {
      "image/png": "[encoded data removed]",
      "text/plain": [
       "<Figure size 720x360 with 1 Axes>"
      ]
     },
     "metadata": {
      "needs_background": "light"
     },
     "output_type": "display_data"
    },
    {
     "data": {
      "image/png": "[encoded data removed]",
      "text/plain": [
       "<Figure size 720x360 with 1 Axes>"
      ]
     },
     "metadata": {
      "needs_background": "light"
     },
     "output_type": "display_data"
    },
    {
     "data": {
      "image/png": "[encoded data removed]",
      "text/plain": [
       "<Figure size 720x360 with 1 Axes>"
      ]
     },
     "metadata": {
      "needs_background": "light"
     },
     "output_type": "display_data"
    }
   ],
   "source": [
    "df.pivot_table(index = 'day_of_week_of_publication', values = 'price_sq_m').plot(kind = 'bar', title = 'Дни недели публикации', figsize = (10,5))\n",
    "# строим график зависимости дня недели \n",
    "plt.show()\n",
    "\n",
    "df.pivot_table(index = 'month_of_publication', values = 'price_sq_m').plot(kind = 'bar', title = 'Месяцы публикации', figsize = (10,5))\n",
    "# строим график зависимости месяца размещения объявления и цены кв.м\n",
    "plt.show()\n",
    "\n",
    "df.pivot_table(index = 'year_of_publication', values = 'price_sq_m').plot(kind = 'bar', title = 'Годы публикации', figsize = (10,5))\n",
    "# строим график зависимости года размещения объявления и цены кв.м\n",
    "plt.show()"
   ]
  },
  {
   "cell_type": "markdown",
   "metadata": {},
   "source": [
    "**Цена кв.м почти не зависит от дня недели, месяца размещения объявления, но с 2016 года наблюдается с каждым годом рост цены примерно на 2%, и в 2019 году цены подросли примерно на 7%.**"
   ]
  },
  {
   "cell_type": "code",
   "execution_count": 22,
   "metadata": {
    "scrolled": true
   },
   "outputs": [
    {
     "data": {
      "image/png": "[encoded data removed]",
      "text/plain": [
       "<Figure size 720x360 with 1 Axes>"
      ]
     },
     "metadata": {
      "needs_background": "light"
     },
     "output_type": "display_data"
    }
   ],
   "source": [
    "# строим график зависимости этажа и цены кв.м \n",
    "\n",
    "df.pivot_table(index = 'floor_group', values = 'price_sq_m').plot(kind = 'bar', title = 'Группы этажей', figsize = (10,5))\n",
    "plt.show()"
   ]
  },
  {
   "cell_type": "markdown",
   "metadata": {},
   "source": [
    "**Судя по графику , на первых этажах цена кв.м ниже на 15%, а на последних на 10% чем на других этажах.**"
   ]
  },
  {
   "cell_type": "code",
   "execution_count": 23,
   "metadata": {},
   "outputs": [],
   "source": [
    "top_10 = df['locality_name'].value_counts().head(10) #находим населенные пункты, где больше всего объявлений\n",
    "#display(top_10)"
   ]
  },
  {
   "cell_type": "code",
   "execution_count": 24,
   "metadata": {
    "scrolled": true
   },
   "outputs": [
    {
     "data": {
      "text/html": [
       "<div>\n",
       "<style scoped>\n",
       "    .dataframe tbody tr th:only-of-type {\n",
       "        vertical-align: middle;\n",
       "    }\n",
       "\n",
       "    .dataframe tbody tr th {\n",
       "        vertical-align: top;\n",
       "    }\n",
       "\n",
       "    .dataframe thead th {\n",
       "        text-align: right;\n",
       "    }\n",
       "</style>\n",
       "<table border=\"1\" class=\"dataframe\">\n",
       "  <thead>\n",
       "    <tr style=\"text-align: right;\">\n",
       "      <th></th>\n",
       "      <th>price_sq_m</th>\n",
       "    </tr>\n",
       "    <tr>\n",
       "      <th>locality_name</th>\n",
       "      <th></th>\n",
       "    </tr>\n",
       "  </thead>\n",
       "  <tbody>\n",
       "    <tr>\n",
       "      <td>Санкт-Петербург</td>\n",
       "      <td>103692.273995</td>\n",
       "    </tr>\n",
       "    <tr>\n",
       "      <td>Пушкин</td>\n",
       "      <td>99349.476501</td>\n",
       "    </tr>\n",
       "    <tr>\n",
       "      <td>Кудрово</td>\n",
       "      <td>95158.409125</td>\n",
       "    </tr>\n",
       "    <tr>\n",
       "      <td>Парголово</td>\n",
       "      <td>90223.580262</td>\n",
       "    </tr>\n",
       "    <tr>\n",
       "      <td>Мурино</td>\n",
       "      <td>85646.412268</td>\n",
       "    </tr>\n",
       "    <tr>\n",
       "      <td>Шушары</td>\n",
       "      <td>78155.158559</td>\n",
       "    </tr>\n",
       "    <tr>\n",
       "      <td>Колпино</td>\n",
       "      <td>75325.618727</td>\n",
       "    </tr>\n",
       "    <tr>\n",
       "      <td>Гатчина</td>\n",
       "      <td>68771.595862</td>\n",
       "    </tr>\n",
       "    <tr>\n",
       "      <td>Всеволожск</td>\n",
       "      <td>66723.202631</td>\n",
       "    </tr>\n",
       "    <tr>\n",
       "      <td>Выборг</td>\n",
       "      <td>57881.332646</td>\n",
       "    </tr>\n",
       "  </tbody>\n",
       "</table>\n",
       "</div>"
      ],
      "text/plain": [
       "                    price_sq_m\n",
       "locality_name                 \n",
       "Санкт-Петербург  103692.273995\n",
       "Пушкин            99349.476501\n",
       "Кудрово           95158.409125\n",
       "Парголово         90223.580262\n",
       "Мурино            85646.412268\n",
       "Шушары            78155.158559\n",
       "Колпино           75325.618727\n",
       "Гатчина           68771.595862\n",
       "Всеволожск        66723.202631\n",
       "Выборг            57881.332646"
      ]
     },
     "metadata": {},
     "output_type": "display_data"
    }
   ],
   "source": [
    "df_top_10 = df.query('locality_name in (\"Санкт-Петербург\", \"Мурино\", \"Кудрово\", \"Шушары\", \"Всеволожск\", \"Пушкин\", \"Колпино\", \"Парголово\", \"Гатчина\", \"Выборг\")')\n",
    "\n",
    "#находим среднюю цену кв.м в выбраных населенных пунктах\n",
    "df_top_10 = df_top_10.pivot_table(index='locality_name', values='price_sq_m', aggfunc='mean')\n",
    "\n",
    "display(df_top_10.sort_values(by='price_sq_m', ascending = False))"
   ]
  },
  {
   "cell_type": "markdown",
   "metadata": {},
   "source": [
    "**В населенных пунктах, где больше всего обьявлений, самая высокая цена кв.м в Санкт-Петербурге(103692.273995 р. за кв.м).**  \n",
    "\n",
    "**Самая низкая цена в Выборге(57881.332646 р. за кв.м)**"
   ]
  },
  {
   "cell_type": "code",
   "execution_count": 25,
   "metadata": {
    "scrolled": false
   },
   "outputs": [
    {
     "name": "stderr",
     "output_type": "stream",
     "text": [
      "/opt/conda/lib/python3.7/site-packages/ipykernel_launcher.py:5: SettingWithCopyWarning: \n",
      "A value is trying to be set on a copy of a slice from a DataFrame.\n",
      "Try using .loc[row_indexer,col_indexer] = value instead\n",
      "\n",
      "See the caveats in the documentation: http://pandas.pydata.org/pandas-docs/stable/user_guide/indexing.html#returning-a-view-versus-a-copy\n",
      "  \"\"\"\n"
     ]
    },
    {
     "data": {
      "text/html": [
       "<div>\n",
       "<style scoped>\n",
       "    .dataframe tbody tr th:only-of-type {\n",
       "        vertical-align: middle;\n",
       "    }\n",
       "\n",
       "    .dataframe tbody tr th {\n",
       "        vertical-align: top;\n",
       "    }\n",
       "\n",
       "    .dataframe thead th {\n",
       "        text-align: right;\n",
       "    }\n",
       "</style>\n",
       "<table border=\"1\" class=\"dataframe\">\n",
       "  <thead>\n",
       "    <tr style=\"text-align: right;\">\n",
       "      <th></th>\n",
       "      <th>total_images</th>\n",
       "      <th>last_price</th>\n",
       "      <th>total_area</th>\n",
       "      <th>first_day_exposition</th>\n",
       "      <th>rooms</th>\n",
       "      <th>ceiling_height</th>\n",
       "      <th>floors_total</th>\n",
       "      <th>living_area</th>\n",
       "      <th>floor</th>\n",
       "      <th>is_apartment</th>\n",
       "      <th>...</th>\n",
       "      <th>days_exposition</th>\n",
       "      <th>price_sq_m</th>\n",
       "      <th>day_of_week_of_publication</th>\n",
       "      <th>month_of_publication</th>\n",
       "      <th>year_of_publication</th>\n",
       "      <th>floor_group</th>\n",
       "      <th>ratio_living_total</th>\n",
       "      <th>ratio_kitchen_total</th>\n",
       "      <th>too_fast_sale</th>\n",
       "      <th>too_slow_sale</th>\n",
       "    </tr>\n",
       "  </thead>\n",
       "  <tbody>\n",
       "    <tr>\n",
       "      <td>7</td>\n",
       "      <td>5</td>\n",
       "      <td>7915000.0</td>\n",
       "      <td>71.6</td>\n",
       "      <td>2019-04-18</td>\n",
       "      <td>2</td>\n",
       "      <td>2.65</td>\n",
       "      <td>24</td>\n",
       "      <td>34.8</td>\n",
       "      <td>22</td>\n",
       "      <td>False</td>\n",
       "      <td>...</td>\n",
       "      <td>15</td>\n",
       "      <td>110544.692737</td>\n",
       "      <td>3</td>\n",
       "      <td>4</td>\n",
       "      <td>2019</td>\n",
       "      <td>другой</td>\n",
       "      <td>0.486034</td>\n",
       "      <td>0.263966</td>\n",
       "      <td>True</td>\n",
       "      <td>False</td>\n",
       "    </tr>\n",
       "    <tr>\n",
       "      <td>9</td>\n",
       "      <td>18</td>\n",
       "      <td>5400000.0</td>\n",
       "      <td>61.0</td>\n",
       "      <td>2017-02-26</td>\n",
       "      <td>3</td>\n",
       "      <td>2.50</td>\n",
       "      <td>9</td>\n",
       "      <td>43.6</td>\n",
       "      <td>7</td>\n",
       "      <td>False</td>\n",
       "      <td>...</td>\n",
       "      <td>289</td>\n",
       "      <td>88524.590164</td>\n",
       "      <td>6</td>\n",
       "      <td>2</td>\n",
       "      <td>2017</td>\n",
       "      <td>другой</td>\n",
       "      <td>0.714754</td>\n",
       "      <td>0.106557</td>\n",
       "      <td>False</td>\n",
       "      <td>False</td>\n",
       "    </tr>\n",
       "    <tr>\n",
       "      <td>10</td>\n",
       "      <td>5</td>\n",
       "      <td>5050000.0</td>\n",
       "      <td>39.6</td>\n",
       "      <td>2017-11-16</td>\n",
       "      <td>1</td>\n",
       "      <td>2.67</td>\n",
       "      <td>12</td>\n",
       "      <td>20.3</td>\n",
       "      <td>3</td>\n",
       "      <td>False</td>\n",
       "      <td>...</td>\n",
       "      <td>137</td>\n",
       "      <td>127525.252525</td>\n",
       "      <td>3</td>\n",
       "      <td>11</td>\n",
       "      <td>2017</td>\n",
       "      <td>другой</td>\n",
       "      <td>0.512626</td>\n",
       "      <td>0.214646</td>\n",
       "      <td>False</td>\n",
       "      <td>False</td>\n",
       "    </tr>\n",
       "    <tr>\n",
       "      <td>15</td>\n",
       "      <td>16</td>\n",
       "      <td>4650000.0</td>\n",
       "      <td>39.0</td>\n",
       "      <td>2017-11-18</td>\n",
       "      <td>1</td>\n",
       "      <td>2.65</td>\n",
       "      <td>14</td>\n",
       "      <td>20.5</td>\n",
       "      <td>5</td>\n",
       "      <td>False</td>\n",
       "      <td>...</td>\n",
       "      <td>19</td>\n",
       "      <td>119230.769231</td>\n",
       "      <td>5</td>\n",
       "      <td>11</td>\n",
       "      <td>2017</td>\n",
       "      <td>другой</td>\n",
       "      <td>0.525641</td>\n",
       "      <td>0.194872</td>\n",
       "      <td>True</td>\n",
       "      <td>False</td>\n",
       "    </tr>\n",
       "    <tr>\n",
       "      <td>18</td>\n",
       "      <td>8</td>\n",
       "      <td>3250000.0</td>\n",
       "      <td>31.0</td>\n",
       "      <td>2017-01-27</td>\n",
       "      <td>1</td>\n",
       "      <td>2.50</td>\n",
       "      <td>5</td>\n",
       "      <td>19.4</td>\n",
       "      <td>2</td>\n",
       "      <td>False</td>\n",
       "      <td>...</td>\n",
       "      <td>168</td>\n",
       "      <td>104838.709677</td>\n",
       "      <td>4</td>\n",
       "      <td>1</td>\n",
       "      <td>2017</td>\n",
       "      <td>другой</td>\n",
       "      <td>0.625806</td>\n",
       "      <td>0.180645</td>\n",
       "      <td>False</td>\n",
       "      <td>False</td>\n",
       "    </tr>\n",
       "  </tbody>\n",
       "</table>\n",
       "<p>5 rows × 31 columns</p>\n",
       "</div>"
      ],
      "text/plain": [
       "    total_images  last_price  total_area first_day_exposition  rooms  \\\n",
       "7              5   7915000.0        71.6           2019-04-18      2   \n",
       "9             18   5400000.0        61.0           2017-02-26      3   \n",
       "10             5   5050000.0        39.6           2017-11-16      1   \n",
       "15            16   4650000.0        39.0           2017-11-18      1   \n",
       "18             8   3250000.0        31.0           2017-01-27      1   \n",
       "\n",
       "    ceiling_height  floors_total  living_area  floor  is_apartment  ...  \\\n",
       "7             2.65            24         34.8     22         False  ...   \n",
       "9             2.50             9         43.6      7         False  ...   \n",
       "10            2.67            12         20.3      3         False  ...   \n",
       "15            2.65            14         20.5      5         False  ...   \n",
       "18            2.50             5         19.4      2         False  ...   \n",
       "\n",
       "    days_exposition     price_sq_m  day_of_week_of_publication  \\\n",
       "7                15  110544.692737                           3   \n",
       "9               289   88524.590164                           6   \n",
       "10              137  127525.252525                           3   \n",
       "15               19  119230.769231                           5   \n",
       "18              168  104838.709677                           4   \n",
       "\n",
       "    month_of_publication year_of_publication  floor_group  ratio_living_total  \\\n",
       "7                      4                2019       другой            0.486034   \n",
       "9                      2                2017       другой            0.714754   \n",
       "10                    11                2017       другой            0.512626   \n",
       "15                    11                2017       другой            0.525641   \n",
       "18                     1                2017       другой            0.625806   \n",
       "\n",
       "    ratio_kitchen_total  too_fast_sale  too_slow_sale  \n",
       "7              0.263966           True          False  \n",
       "9              0.106557          False          False  \n",
       "10             0.214646          False          False  \n",
       "15             0.194872           True          False  \n",
       "18             0.180645          False          False  \n",
       "\n",
       "[5 rows x 31 columns]"
      ]
     },
     "metadata": {},
     "output_type": "display_data"
    },
    {
     "data": {
      "text/html": [
       "<div>\n",
       "<style scoped>\n",
       "    .dataframe tbody tr th:only-of-type {\n",
       "        vertical-align: middle;\n",
       "    }\n",
       "\n",
       "    .dataframe tbody tr th {\n",
       "        vertical-align: top;\n",
       "    }\n",
       "\n",
       "    .dataframe thead th {\n",
       "        text-align: right;\n",
       "    }\n",
       "</style>\n",
       "<table border=\"1\" class=\"dataframe\">\n",
       "  <thead>\n",
       "    <tr style=\"text-align: right;\">\n",
       "      <th></th>\n",
       "      <th>price_sq_m</th>\n",
       "    </tr>\n",
       "    <tr>\n",
       "      <th>city_centers_nearest</th>\n",
       "      <th></th>\n",
       "    </tr>\n",
       "  </thead>\n",
       "  <tbody>\n",
       "    <tr>\n",
       "      <td>0</td>\n",
       "      <td>113932.072819</td>\n",
       "    </tr>\n",
       "    <tr>\n",
       "      <td>1</td>\n",
       "      <td>114635.875108</td>\n",
       "    </tr>\n",
       "    <tr>\n",
       "      <td>2</td>\n",
       "      <td>111070.527169</td>\n",
       "    </tr>\n",
       "    <tr>\n",
       "      <td>3</td>\n",
       "      <td>108749.176375</td>\n",
       "    </tr>\n",
       "    <tr>\n",
       "      <td>4</td>\n",
       "      <td>118345.562036</td>\n",
       "    </tr>\n",
       "    <tr>\n",
       "      <td>5</td>\n",
       "      <td>117466.062282</td>\n",
       "    </tr>\n",
       "    <tr>\n",
       "      <td>6</td>\n",
       "      <td>119909.219188</td>\n",
       "    </tr>\n",
       "    <tr>\n",
       "      <td>7</td>\n",
       "      <td>116331.967741</td>\n",
       "    </tr>\n",
       "    <tr>\n",
       "      <td>8</td>\n",
       "      <td>109271.918208</td>\n",
       "    </tr>\n",
       "    <tr>\n",
       "      <td>9</td>\n",
       "      <td>105083.645884</td>\n",
       "    </tr>\n",
       "    <tr>\n",
       "      <td>10</td>\n",
       "      <td>105249.369896</td>\n",
       "    </tr>\n",
       "    <tr>\n",
       "      <td>11</td>\n",
       "      <td>103541.802428</td>\n",
       "    </tr>\n",
       "    <tr>\n",
       "      <td>12</td>\n",
       "      <td>105363.631017</td>\n",
       "    </tr>\n",
       "    <tr>\n",
       "      <td>13</td>\n",
       "      <td>105564.439832</td>\n",
       "    </tr>\n",
       "    <tr>\n",
       "      <td>14</td>\n",
       "      <td>103086.385849</td>\n",
       "    </tr>\n",
       "    <tr>\n",
       "      <td>15</td>\n",
       "      <td>100404.600935</td>\n",
       "    </tr>\n",
       "    <tr>\n",
       "      <td>16</td>\n",
       "      <td>98094.096540</td>\n",
       "    </tr>\n",
       "    <tr>\n",
       "      <td>17</td>\n",
       "      <td>94543.512830</td>\n",
       "    </tr>\n",
       "    <tr>\n",
       "      <td>18</td>\n",
       "      <td>93807.283187</td>\n",
       "    </tr>\n",
       "    <tr>\n",
       "      <td>19</td>\n",
       "      <td>93687.109133</td>\n",
       "    </tr>\n",
       "    <tr>\n",
       "      <td>20</td>\n",
       "      <td>102029.093124</td>\n",
       "    </tr>\n",
       "    <tr>\n",
       "      <td>21</td>\n",
       "      <td>90821.758784</td>\n",
       "    </tr>\n",
       "    <tr>\n",
       "      <td>22</td>\n",
       "      <td>87061.814945</td>\n",
       "    </tr>\n",
       "    <tr>\n",
       "      <td>23</td>\n",
       "      <td>92536.061289</td>\n",
       "    </tr>\n",
       "    <tr>\n",
       "      <td>24</td>\n",
       "      <td>82440.343912</td>\n",
       "    </tr>\n",
       "    <tr>\n",
       "      <td>25</td>\n",
       "      <td>90822.524935</td>\n",
       "    </tr>\n",
       "    <tr>\n",
       "      <td>26</td>\n",
       "      <td>85899.758454</td>\n",
       "    </tr>\n",
       "    <tr>\n",
       "      <td>27</td>\n",
       "      <td>70312.500000</td>\n",
       "    </tr>\n",
       "    <tr>\n",
       "      <td>28</td>\n",
       "      <td>82555.820746</td>\n",
       "    </tr>\n",
       "    <tr>\n",
       "      <td>29</td>\n",
       "      <td>56976.744186</td>\n",
       "    </tr>\n",
       "  </tbody>\n",
       "</table>\n",
       "</div>"
      ],
      "text/plain": [
       "                         price_sq_m\n",
       "city_centers_nearest               \n",
       "0                     113932.072819\n",
       "1                     114635.875108\n",
       "2                     111070.527169\n",
       "3                     108749.176375\n",
       "4                     118345.562036\n",
       "5                     117466.062282\n",
       "6                     119909.219188\n",
       "7                     116331.967741\n",
       "8                     109271.918208\n",
       "9                     105083.645884\n",
       "10                    105249.369896\n",
       "11                    103541.802428\n",
       "12                    105363.631017\n",
       "13                    105564.439832\n",
       "14                    103086.385849\n",
       "15                    100404.600935\n",
       "16                     98094.096540\n",
       "17                     94543.512830\n",
       "18                     93807.283187\n",
       "19                     93687.109133\n",
       "20                    102029.093124\n",
       "21                     90821.758784\n",
       "22                     87061.814945\n",
       "23                     92536.061289\n",
       "24                     82440.343912\n",
       "25                     90822.524935\n",
       "26                     85899.758454\n",
       "27                     70312.500000\n",
       "28                     82555.820746\n",
       "29                     56976.744186"
      ]
     },
     "metadata": {},
     "output_type": "display_data"
    },
    {
     "data": {
      "image/png": "[encoded data removed]",
      "text/plain": [
       "<Figure size 720x360 with 1 Axes>"
      ]
     },
     "metadata": {
      "needs_background": "light"
     },
     "output_type": "display_data"
    }
   ],
   "source": [
    "df_sp = df.query('locality_name in \"Санкт-Петербург\"') # оставляем данные только по Питеру\n",
    "\n",
    "#df_sp = df_sp.drop(df_sp.columns[[0, 9, 10, 11, 18, 19, 20, 26, 27]], axis=1) # удаляем несколько ненужных пока столбцов\n",
    "\n",
    "df_sp['city_centers_nearest'] = (df_sp['city_centers_nearest'] / 1000).astype(int)# переводим расстояния в \"целые\" километры\n",
    "\n",
    "min_nearest = df_sp['city_centers_nearest'].min()#на всякий случай проверяем min и max\n",
    "max_nearest = df_sp['city_centers_nearest'].max()\n",
    "\n",
    "df_nearest_sq_m = df_sp.pivot_table(index='city_centers_nearest', values='price_sq_m', aggfunc='mean')#создаем табличку км-кв.м\n",
    "display(df_sp.head())\n",
    "#print(min_nearest)\n",
    "#print(max_nearest)\n",
    "df_sort = df_nearest_sq_m.sort_values(by='city_centers_nearest', ascending = True)# сортируем по возрастанию\n",
    "display(df_sort)\n",
    "df_sort.plot(kind = 'bar', title = 'Весь город', figsize = (10,5)) # ну и график для наглядности\n",
    "plt.show()"
   ]
  },
  {
   "cell_type": "markdown",
   "metadata": {},
   "source": [
    "**Цена за кв.м сильно меняется после 7-го километра от центра, отсюда делаем вывод , что центральная зона в радиусе 7км.** "
   ]
  },
  {
   "cell_type": "code",
   "execution_count": 26,
   "metadata": {},
   "outputs": [
    {
     "data": {
      "text/html": [
       "<div>\n",
       "<style scoped>\n",
       "    .dataframe tbody tr th:only-of-type {\n",
       "        vertical-align: middle;\n",
       "    }\n",
       "\n",
       "    .dataframe tbody tr th {\n",
       "        vertical-align: top;\n",
       "    }\n",
       "\n",
       "    .dataframe thead th {\n",
       "        text-align: right;\n",
       "    }\n",
       "</style>\n",
       "<table border=\"1\" class=\"dataframe\">\n",
       "  <thead>\n",
       "    <tr style=\"text-align: right;\">\n",
       "      <th></th>\n",
       "      <th>total_images</th>\n",
       "      <th>last_price</th>\n",
       "      <th>total_area</th>\n",
       "      <th>first_day_exposition</th>\n",
       "      <th>rooms</th>\n",
       "      <th>ceiling_height</th>\n",
       "      <th>floors_total</th>\n",
       "      <th>living_area</th>\n",
       "      <th>floor</th>\n",
       "      <th>is_apartment</th>\n",
       "      <th>...</th>\n",
       "      <th>days_exposition</th>\n",
       "      <th>price_sq_m</th>\n",
       "      <th>day_of_week_of_publication</th>\n",
       "      <th>month_of_publication</th>\n",
       "      <th>year_of_publication</th>\n",
       "      <th>floor_group</th>\n",
       "      <th>ratio_living_total</th>\n",
       "      <th>ratio_kitchen_total</th>\n",
       "      <th>too_fast_sale</th>\n",
       "      <th>too_slow_sale</th>\n",
       "    </tr>\n",
       "  </thead>\n",
       "  <tbody>\n",
       "    <tr>\n",
       "      <td>24</td>\n",
       "      <td>8</td>\n",
       "      <td>6500000.0</td>\n",
       "      <td>97.2</td>\n",
       "      <td>2015-10-31</td>\n",
       "      <td>2</td>\n",
       "      <td>2.65</td>\n",
       "      <td>3</td>\n",
       "      <td>46.5</td>\n",
       "      <td>1</td>\n",
       "      <td>False</td>\n",
       "      <td>...</td>\n",
       "      <td>265</td>\n",
       "      <td>66872.427984</td>\n",
       "      <td>5</td>\n",
       "      <td>10</td>\n",
       "      <td>2015</td>\n",
       "      <td>первый</td>\n",
       "      <td>0.478395</td>\n",
       "      <td>0.201646</td>\n",
       "      <td>False</td>\n",
       "      <td>False</td>\n",
       "    </tr>\n",
       "    <tr>\n",
       "      <td>94</td>\n",
       "      <td>3</td>\n",
       "      <td>3500000.0</td>\n",
       "      <td>29.5</td>\n",
       "      <td>2019-04-26</td>\n",
       "      <td>1</td>\n",
       "      <td>2.50</td>\n",
       "      <td>5</td>\n",
       "      <td>15.6</td>\n",
       "      <td>2</td>\n",
       "      <td>False</td>\n",
       "      <td>...</td>\n",
       "      <td>4</td>\n",
       "      <td>118644.067797</td>\n",
       "      <td>4</td>\n",
       "      <td>4</td>\n",
       "      <td>2019</td>\n",
       "      <td>другой</td>\n",
       "      <td>0.528814</td>\n",
       "      <td>0.186441</td>\n",
       "      <td>True</td>\n",
       "      <td>False</td>\n",
       "    </tr>\n",
       "    <tr>\n",
       "      <td>99</td>\n",
       "      <td>32</td>\n",
       "      <td>9600000.0</td>\n",
       "      <td>90.0</td>\n",
       "      <td>2017-09-26</td>\n",
       "      <td>4</td>\n",
       "      <td>2.65</td>\n",
       "      <td>5</td>\n",
       "      <td>67.0</td>\n",
       "      <td>2</td>\n",
       "      <td>False</td>\n",
       "      <td>...</td>\n",
       "      <td>104</td>\n",
       "      <td>106666.666667</td>\n",
       "      <td>1</td>\n",
       "      <td>9</td>\n",
       "      <td>2017</td>\n",
       "      <td>другой</td>\n",
       "      <td>0.744444</td>\n",
       "      <td>0.088889</td>\n",
       "      <td>False</td>\n",
       "      <td>False</td>\n",
       "    </tr>\n",
       "    <tr>\n",
       "      <td>111</td>\n",
       "      <td>4</td>\n",
       "      <td>4590000.0</td>\n",
       "      <td>40.0</td>\n",
       "      <td>2017-05-29</td>\n",
       "      <td>1</td>\n",
       "      <td>2.65</td>\n",
       "      <td>6</td>\n",
       "      <td>18.0</td>\n",
       "      <td>1</td>\n",
       "      <td>False</td>\n",
       "      <td>...</td>\n",
       "      <td>31</td>\n",
       "      <td>114750.000000</td>\n",
       "      <td>0</td>\n",
       "      <td>5</td>\n",
       "      <td>2017</td>\n",
       "      <td>первый</td>\n",
       "      <td>0.450000</td>\n",
       "      <td>0.250000</td>\n",
       "      <td>True</td>\n",
       "      <td>False</td>\n",
       "    </tr>\n",
       "    <tr>\n",
       "      <td>138</td>\n",
       "      <td>8</td>\n",
       "      <td>4800000.0</td>\n",
       "      <td>40.0</td>\n",
       "      <td>2017-11-18</td>\n",
       "      <td>2</td>\n",
       "      <td>2.65</td>\n",
       "      <td>3</td>\n",
       "      <td>29.0</td>\n",
       "      <td>2</td>\n",
       "      <td>False</td>\n",
       "      <td>...</td>\n",
       "      <td>80</td>\n",
       "      <td>120000.000000</td>\n",
       "      <td>5</td>\n",
       "      <td>11</td>\n",
       "      <td>2017</td>\n",
       "      <td>другой</td>\n",
       "      <td>0.725000</td>\n",
       "      <td>0.150000</td>\n",
       "      <td>False</td>\n",
       "      <td>False</td>\n",
       "    </tr>\n",
       "  </tbody>\n",
       "</table>\n",
       "<p>5 rows × 31 columns</p>\n",
       "</div>"
      ],
      "text/plain": [
       "     total_images  last_price  total_area first_day_exposition  rooms  \\\n",
       "24              8   6500000.0        97.2           2015-10-31      2   \n",
       "94              3   3500000.0        29.5           2019-04-26      1   \n",
       "99             32   9600000.0        90.0           2017-09-26      4   \n",
       "111             4   4590000.0        40.0           2017-05-29      1   \n",
       "138             8   4800000.0        40.0           2017-11-18      2   \n",
       "\n",
       "     ceiling_height  floors_total  living_area  floor  is_apartment  ...  \\\n",
       "24             2.65             3         46.5      1         False  ...   \n",
       "94             2.50             5         15.6      2         False  ...   \n",
       "99             2.65             5         67.0      2         False  ...   \n",
       "111            2.65             6         18.0      1         False  ...   \n",
       "138            2.65             3         29.0      2         False  ...   \n",
       "\n",
       "     days_exposition     price_sq_m  day_of_week_of_publication  \\\n",
       "24               265   66872.427984                           5   \n",
       "94                 4  118644.067797                           4   \n",
       "99               104  106666.666667                           1   \n",
       "111               31  114750.000000                           0   \n",
       "138               80  120000.000000                           5   \n",
       "\n",
       "     month_of_publication year_of_publication  floor_group  \\\n",
       "24                     10                2015       первый   \n",
       "94                      4                2019       другой   \n",
       "99                      9                2017       другой   \n",
       "111                     5                2017       первый   \n",
       "138                    11                2017       другой   \n",
       "\n",
       "     ratio_living_total  ratio_kitchen_total  too_fast_sale  too_slow_sale  \n",
       "24             0.478395             0.201646          False          False  \n",
       "94             0.528814             0.186441           True          False  \n",
       "99             0.744444             0.088889          False          False  \n",
       "111            0.450000             0.250000           True          False  \n",
       "138            0.725000             0.150000          False          False  \n",
       "\n",
       "[5 rows x 31 columns]"
      ]
     },
     "metadata": {},
     "output_type": "display_data"
    }
   ],
   "source": [
    "df_sp_centre = df_sp.query('city_centers_nearest<=7')\n",
    "\n",
    "display(df_sp_centre.head())"
   ]
  },
  {
   "cell_type": "code",
   "execution_count": 27,
   "metadata": {},
   "outputs": [
    {
     "data": {
      "text/plain": [
       "count    1157.000000\n",
       "mean       60.987632\n",
       "std        19.764764\n",
       "min        13.200000\n",
       "25%        45.000000\n",
       "50%        59.400000\n",
       "75%        74.200000\n",
       "max       112.700000\n",
       "Name: total_area, dtype: float64"
      ]
     },
     "metadata": {},
     "output_type": "display_data"
    },
    {
     "data": {
      "image/png": "[encoded data removed]",
      "text/plain": [
       "<Figure size 432x288 with 1 Axes>"
      ]
     },
     "metadata": {
      "needs_background": "light"
     },
     "output_type": "display_data"
    }
   ],
   "source": [
    "display(df_sp_centre['total_area'].describe())\n",
    "\n",
    "df_sp_centre.plot(y='total_area', kind='hist', title='Общие значения площади',bins=50)\n",
    "plt.show()"
   ]
  },
  {
   "cell_type": "markdown",
   "metadata": {},
   "source": [
    "**В отличие от общего массива, медиана практически совпадает со средним значением,очень большой сегмент квартир с плошадью 40-80 кв.м, согласно теоретического курса, здесь нормальное распределение.**"
   ]
  },
  {
   "cell_type": "code",
   "execution_count": 28,
   "metadata": {},
   "outputs": [
    {
     "data": {
      "text/plain": [
       "count      1157.0\n",
       "mean     116225.0\n",
       "std       23890.0\n",
       "min       26250.0\n",
       "25%       98888.0\n",
       "50%      114416.0\n",
       "75%      132911.0\n",
       "max      170312.0\n",
       "Name: price_sq_m, dtype: float64"
      ]
     },
     "metadata": {},
     "output_type": "display_data"
    },
    {
     "data": {
      "image/png": "[encoded data removed]",
      "text/plain": [
       "<Figure size 432x288 with 1 Axes>"
      ]
     },
     "metadata": {
      "needs_background": "light"
     },
     "output_type": "display_data"
    }
   ],
   "source": [
    "display(df_sp_centre['price_sq_m'].describe().round(0))\n",
    "\n",
    "df_sp_centre.plot(y='price_sq_m', kind='hist', title='Общие значения цены кв.м',bins=100)\n",
    "plt.show()"
   ]
  },
  {
   "cell_type": "markdown",
   "metadata": {},
   "source": [
    "**Здесь также в отличие от общего массива, медиана практически совпадает со средним значением,очень большой сегмент квартир с ценой 80000-140000 р. за кв.м, согласно теоретического курса, здесь нормальное распределение.**"
   ]
  },
  {
   "cell_type": "code",
   "execution_count": 29,
   "metadata": {},
   "outputs": [
    {
     "data": {
      "text/plain": [
       "count    1157.000000\n",
       "mean        2.653933\n",
       "std         0.072537\n",
       "min         2.460000\n",
       "25%         2.650000\n",
       "50%         2.650000\n",
       "75%         2.650000\n",
       "max         2.840000\n",
       "Name: ceiling_height, dtype: float64"
      ]
     },
     "metadata": {},
     "output_type": "display_data"
    },
    {
     "data": {
      "image/png": "[encoded data removed]",
      "text/plain": [
       "<Figure size 432x288 with 1 Axes>"
      ]
     },
     "metadata": {
      "needs_background": "light"
     },
     "output_type": "display_data"
    }
   ],
   "source": [
    "display(df_sp_centre['ceiling_height'].describe())\n",
    "df_sp_centre.plot(y='ceiling_height', kind='hist', title='Общие значения высоты потолков', bins=100)\n",
    "plt.show()"
   ]
  },
  {
   "cell_type": "markdown",
   "metadata": {},
   "source": [
    "**Здесь тоже ничего выбивающегося из нормального распределения**"
   ]
  },
  {
   "cell_type": "code",
   "execution_count": 30,
   "metadata": {},
   "outputs": [
    {
     "data": {
      "image/png": "[encoded data removed]",
      "text/plain": [
       "<Figure size 720x360 with 1 Axes>"
      ]
     },
     "metadata": {
      "needs_background": "light"
     },
     "output_type": "display_data"
    }
   ],
   "source": [
    "df_sp_centre.pivot_table(index = 'rooms', values = 'price_sq_m').plot(kind = 'bar', title = 'Количество комнат', figsize = (10,5))\n",
    "# строим график зависимости количества комнат цены кв.м\n",
    "plt.show()"
   ]
  },
  {
   "cell_type": "markdown",
   "metadata": {},
   "source": [
    "**Цена квадратного метра c увеличением числа комнат снижается на 20,15,10 тыс.р соответственно**"
   ]
  },
  {
   "cell_type": "code",
   "execution_count": 31,
   "metadata": {},
   "outputs": [
    {
     "data": {
      "image/png": "[encoded data removed]",
      "text/plain": [
       "<Figure size 720x360 with 1 Axes>"
      ]
     },
     "metadata": {
      "needs_background": "light"
     },
     "output_type": "display_data"
    }
   ],
   "source": [
    "df_sp_centre.pivot_table(index = 'floor_group', values = 'price_sq_m').plot(kind = 'bar', title = 'Группы этажей', figsize = (10,5))\n",
    "# строим график зависимости  этажа и цены кв.м \n",
    "plt.show()"
   ]
  },
  {
   "cell_type": "markdown",
   "metadata": {},
   "source": [
    "**Судя по графику , на первых этажах цена кв.м ниже на 15%, а на последних на 10% чем на других этажах. Такая же тенденция наблюдается в общем массиве.**"
   ]
  },
  {
   "cell_type": "code",
   "execution_count": 32,
   "metadata": {},
   "outputs": [
    {
     "name": "stdout",
     "output_type": "stream",
     "text": [
      "0.07903528328113396\n"
     ]
    },
    {
     "data": {
      "image/png": "[encoded data removed]",
      "text/plain": [
       "<Figure size 720x360 with 1 Axes>"
      ]
     },
     "metadata": {
      "needs_background": "light"
     },
     "output_type": "display_data"
    }
   ],
   "source": [
    "df_sp_centre.pivot_table(index = 'city_centers_nearest', values = 'price_sq_m').plot(kind = 'bar', title = 'Удаленность от центра', figsize = (10,5))\n",
    "# строим график зависимости удаленности от центра и цены кв.м \n",
    "print(df_sp_centre['city_centers_nearest'].corr(df_sp_centre['price_sq_m'])) # также проверяем кореляцию"
   ]
  },
  {
   "cell_type": "markdown",
   "metadata": {},
   "source": [
    "**В пределах выделеной центральной зоны , цены после 3-го километра немного поползли вверх, но по объяснению преподавателя, это какой-то \"ржавый пояс\" Питера.**"
   ]
  },
  {
   "cell_type": "code",
   "execution_count": 33,
   "metadata": {},
   "outputs": [
    {
     "data": {
      "image/png": "[encoded data removed]",
      "text/plain": [
       "<Figure size 720x360 with 1 Axes>"
      ]
     },
     "metadata": {
      "needs_background": "light"
     },
     "output_type": "display_data"
    },
    {
     "data": {
      "image/png": "[encoded data removed]",
      "text/plain": [
       "<Figure size 720x360 with 1 Axes>"
      ]
     },
     "metadata": {
      "needs_background": "light"
     },
     "output_type": "display_data"
    },
    {
     "data": {
      "image/png": "[encoded data removed]",
      "text/plain": [
       "<Figure size 720x360 with 1 Axes>"
      ]
     },
     "metadata": {
      "needs_background": "light"
     },
     "output_type": "display_data"
    }
   ],
   "source": [
    "df_sp_centre.pivot_table(index = 'day_of_week_of_publication', values = 'price_sq_m').plot(kind = 'bar', title = 'Дни недели публикации', figsize = (10,5))\n",
    "# строим график зависимости дня недели \n",
    "plt.show()\n",
    "\n",
    "df_sp_centre.pivot_table(index = 'month_of_publication', values = 'price_sq_m').plot(kind = 'bar', title = 'Месяцы публикации', figsize = (10,5))\n",
    "# строим график зависимости месяца размещения объявления и цены кв.м\n",
    "plt.show()\n",
    "\n",
    "df_sp_centre.pivot_table(index = 'year_of_publication', values = 'price_sq_m').plot(kind = 'bar', title = 'Годы публикации', figsize = (10,5))\n",
    "# строим график зависимости года размещения объявления и цены кв.м\n",
    "plt.show()"
   ]
  },
  {
   "cell_type": "markdown",
   "metadata": {},
   "source": [
    "**От дня недели, когда разместили объявление цена кв.м не зависит, от месяца, небольшое снижение замечено в мае-июле,  и с каждым годом цена растет примерно на 5%.**"
   ]
  },
  {
   "cell_type": "markdown",
   "metadata": {},
   "source": [
    "## Общий вывод"
   ]
  },
  {
   "cell_type": "markdown",
   "metadata": {},
   "source": [
    "**На этапе предобработки данных было устранено много пропусков в значениях, датафрейм был приведен к виду, который уже можно было анализировать.**"
   ]
  },
  {
   "cell_type": "markdown",
   "metadata": {},
   "source": [
    "**Согласно ТЗ в таблицу были добавлены новые столбцы с данными.**"
   ]
  },
  {
   "cell_type": "markdown",
   "metadata": {},
   "source": [
    "**На этапе исследовательского анализа был очищен датафрейм от выбросов согласно межквартильному размаху:**"
   ]
  },
  {
   "cell_type": "markdown",
   "metadata": {},
   "source": [
    "**Почти очевидно, что пиковые значения - это 1,2,3-х комнатные квартиры.**\n",
    "\n",
    "**Пиковые значения - это 30-60 кв.м , довольно большой массив 60-90 кв.м, заметное количество 18-30 кв.м и 90-100 кв.м,\n",
    "квартиры площадью более 113 кв.м, согласно диаграмме размаха , являются выбросами .**\n",
    "\n",
    "**Среднее значение почти в 1,5 раза больше медианы, значит есть длинный хвост с высокими значениями или несколько очень больших значений.\n",
    "Разница между Q1 и Q3 3390000, значит квартиры стоимостью более 11875000р. являются выбросами. \n",
    "По значению цены довольно сложно что-то понять, думаю лучше обратиться к цене квадратного метра.**\n",
    "\n",
    "**Пик значений по потолкам 2,6-2,7 м, Разница между Q1 и Q3 0,1м, значит согласно диаграмме рассеивания , потолки выше 2,85 и ниже 2,45 это выбросы.**\n",
    "\n",
    "**Основной разбег цены за кв.м от 75000 р. до 120000 р.Согласно диаграмме рассеивания, выбросы начинаются до цены 20096р. за кв.м и после цены 170683р. за кв.м**\n",
    "\n",
    "**Среднее время продажи квартиры в 2,5 раза больше медианы,значит есть длинный хвост с высокими значениями или несколько очень больших значений.\n",
    "Обычно продажи занимают от 0 до 528 дней согласно \"диаграмме размаха\". Все что больше, можно считать выбросами, т.е. необычно долго.Быстрыми ,возможно, можно считать продажи в пределах 1-го квартиля, т.е. до 43 дней.**\n",
    "\n"
   ]
  },
  {
   "cell_type": "markdown",
   "metadata": {},
   "source": [
    "***На этапе исследования были получены следующие выводы для общего массива данных:***"
   ]
  },
  {
   "cell_type": "markdown",
   "metadata": {},
   "source": [
    "**По кореляции особой связи между площадью квартиры и цены кв.м не замечено. а по графику снижение после 80кв.м**"
   ]
  },
  {
   "cell_type": "markdown",
   "metadata": {},
   "source": [
    "**В зависимости от количества комнат цена кв.м с добавлением каждой комнаты снижается. У 2-х комнатных квартир снижение по отношению к однокомнатной на 10%, далее по 5% .**"
   ]
  },
  {
   "cell_type": "markdown",
   "metadata": {},
   "source": [
    "**С увеличением дальности от центра , цена кв.м снижается.**"
   ]
  },
  {
   "cell_type": "markdown",
   "metadata": {},
   "source": [
    "**Цена кв.м почти не зависит от дня недели, месяца размещения объявления, но с 2016 года наблюдается с каждым годом рост цены примерно на 2%, и в 2019 году цены подросли примерно на 7%.**"
   ]
  },
  {
   "cell_type": "markdown",
   "metadata": {},
   "source": [
    "**Судя по кореляции зависимости нет, но если смотреть график , на первых этажах цена кв.м ниже на 15%, а на последних на 10% чем на других этажах.**"
   ]
  },
  {
   "cell_type": "markdown",
   "metadata": {},
   "source": [
    "***По 10-ти населенным пунктам, где наибольшее количество объявлений:***"
   ]
  },
  {
   "cell_type": "markdown",
   "metadata": {},
   "source": [
    "**В населенных пунктах, где больше всего обьявлений, самая высокая цена кв.м в Санкт-Петербурге(103692.273995 р. за кв.м).**  \n",
    "\n",
    "**Самая низкая цена в Выборге(57881.332646 р. за кв.м)**"
   ]
  },
  {
   "cell_type": "markdown",
   "metadata": {},
   "source": [
    "***Для центральной части Санкт-Петербурга сделал следующие выводы:***"
   ]
  },
  {
   "cell_type": "markdown",
   "metadata": {},
   "source": [
    "**Цена за кв.м сильно меняется после 7-го километра от центра, отсюда делаем вывод , что центральная зона в радиусе 7км.**"
   ]
  },
  {
   "cell_type": "markdown",
   "metadata": {},
   "source": [
    "**В отличие от общего массива, медиана площади квартир практически совпадает со средним значением,очень большой сегмент квартир с плошадью 40-80 кв.м, согласно теоретического курса, здесь нормальное распределение.**"
   ]
  },
  {
   "cell_type": "markdown",
   "metadata": {},
   "source": [
    "**Для цены за кв.м также в отличие от общего массива, медиана практически совпадает со средним значением,очень большой сегмент квартир с ценой 80000-140000 р. за кв.м, согласно теоретического курса, здесь нормальное распределение.**"
   ]
  },
  {
   "cell_type": "markdown",
   "metadata": {},
   "source": [
    "**Для высоты потолков тоже ничего выбивающегося из нормального распределения**"
   ]
  },
  {
   "cell_type": "markdown",
   "metadata": {},
   "source": [
    "**Цена квадратного метра c увеличением числа комнат снижается на 20,15,10 тыс.р соответственно**"
   ]
  },
  {
   "cell_type": "markdown",
   "metadata": {},
   "source": [
    "**Судя по графику , на первых этажах цена кв.м ниже на 15%, а на последних на 10% чем на других этажах. Такая же тенденция наблюдается в общем массиве.**"
   ]
  },
  {
   "cell_type": "markdown",
   "metadata": {},
   "source": [
    "**В пределах выделеной центральной зоны , цены после 3-го километра немного поползли вверх, это так называемый  \"ржавый пояс\" Питера.**"
   ]
  },
  {
   "cell_type": "markdown",
   "metadata": {},
   "source": [
    "**От дня недели, когда разместили объявление цена кв.м не зависит, от месяца, небольшое снижение замечено в мае-июле, и с каждым годом цена растет примерно на 5%.**"
   ]
  },
  {
   "cell_type": "markdown",
   "metadata": {},
   "source": [
    "### Обобщенный вывод(рекомендация):"
   ]
  },
  {
   "cell_type": "markdown",
   "metadata": {},
   "source": [
    "***На цену кв.м квартиры сильнее всего влияет количество комнат(чем больше комнат,тем кв.м дешевле), общая площадь квартиры(заметное снижение цены кв.м начинается с площади 80 кв.м), также с увеличением дальности от центра Питера(после 7-го км) цена линейно снижается, на 1-м этаже квартиры дешевле на 15%, а на последних на 10% относительно других этажей. По Ленинградской области самые дорогие квартиры в Санкт-Петербурге, самые дешевые в Выборге.Отдельно по Питеру, в радиусе 7км самые дорогие квартиры,причем с 0-го км до 3-го цена немного снижается, на 4-м происходит скачок вверх. Несмотря на все это , независимо от расположения с каждым годом цены растут примерно на 5%.***\n",
    "\n",
    "***P.S. Самая дешевая квартира(с точки зрения цены кв.м) будет 4-х комнатная, на первом этаже, площадью 100 кв.м , в Выборге.***"
   ]
  }
 ],
 "metadata": {
  "ExecuteTimeLog": [
   {
    "duration": 846,
    "start_time": "2021-12-19T08:17:57.043Z"
   },
   {
    "duration": 81,
    "start_time": "2021-12-19T08:19:23.288Z"
   },
   {
    "duration": 94,
    "start_time": "2021-12-19T09:00:42.359Z"
   },
   {
    "duration": 133,
    "start_time": "2021-12-19T09:16:56.152Z"
   },
   {
    "duration": 10,
    "start_time": "2021-12-19T10:04:41.737Z"
   },
   {
    "duration": 11,
    "start_time": "2021-12-19T10:10:56.426Z"
   },
   {
    "duration": 8229,
    "start_time": "2021-12-19T10:15:50.147Z"
   },
   {
    "duration": 7321,
    "start_time": "2021-12-19T10:17:46.622Z"
   },
   {
    "duration": 17,
    "start_time": "2021-12-19T10:19:12.366Z"
   },
   {
    "duration": 17,
    "start_time": "2021-12-19T10:28:06.858Z"
   },
   {
    "duration": 16,
    "start_time": "2021-12-19T10:59:59.781Z"
   },
   {
    "duration": 16,
    "start_time": "2021-12-19T11:00:17.536Z"
   },
   {
    "duration": 330,
    "start_time": "2021-12-19T11:12:42.628Z"
   },
   {
    "duration": 969,
    "start_time": "2021-12-19T11:13:07.995Z"
   },
   {
    "duration": 408,
    "start_time": "2021-12-19T11:13:08.967Z"
   },
   {
    "duration": 291,
    "start_time": "2021-12-19T11:13:18.448Z"
   },
   {
    "duration": 15,
    "start_time": "2021-12-19T11:16:30.839Z"
   },
   {
    "duration": 18,
    "start_time": "2021-12-19T11:19:37.419Z"
   },
   {
    "duration": 20,
    "start_time": "2021-12-19T11:46:26.800Z"
   },
   {
    "duration": 302,
    "start_time": "2021-12-19T11:52:13.126Z"
   },
   {
    "duration": 303,
    "start_time": "2021-12-19T11:54:37.399Z"
   },
   {
    "duration": 43,
    "start_time": "2021-12-19T11:55:34.847Z"
   },
   {
    "duration": 313,
    "start_time": "2021-12-19T11:57:27.047Z"
   },
   {
    "duration": 59,
    "start_time": "2021-12-19T11:58:56.016Z"
   },
   {
    "duration": 85,
    "start_time": "2021-12-19T12:00:30.527Z"
   },
   {
    "duration": 22,
    "start_time": "2021-12-19T13:29:16.512Z"
   },
   {
    "duration": 67,
    "start_time": "2021-12-19T13:30:09.435Z"
   },
   {
    "duration": 67,
    "start_time": "2021-12-19T13:35:20.089Z"
   },
   {
    "duration": 67,
    "start_time": "2021-12-19T13:36:55.664Z"
   },
   {
    "duration": 101,
    "start_time": "2021-12-19T13:40:19.884Z"
   },
   {
    "duration": 32,
    "start_time": "2021-12-19T14:00:44.597Z"
   },
   {
    "duration": 322,
    "start_time": "2021-12-19T14:15:12.694Z"
   },
   {
    "duration": 325,
    "start_time": "2021-12-19T14:16:19.696Z"
   },
   {
    "duration": 42,
    "start_time": "2021-12-19T14:17:12.226Z"
   },
   {
    "duration": 321,
    "start_time": "2021-12-19T14:20:11.308Z"
   },
   {
    "duration": 373,
    "start_time": "2021-12-19T14:21:11.954Z"
   },
   {
    "duration": 652,
    "start_time": "2021-12-21T03:16:51.809Z"
   },
   {
    "duration": 27,
    "start_time": "2021-12-21T03:17:02.414Z"
   },
   {
    "duration": 20,
    "start_time": "2021-12-21T03:19:46.731Z"
   },
   {
    "duration": 300,
    "start_time": "2021-12-21T03:32:06.916Z"
   },
   {
    "duration": 269,
    "start_time": "2021-12-21T03:33:58.420Z"
   },
   {
    "duration": 299,
    "start_time": "2021-12-21T03:38:13.573Z"
   },
   {
    "duration": 20,
    "start_time": "2021-12-21T04:32:17.929Z"
   },
   {
    "duration": 64,
    "start_time": "2021-12-21T04:37:50.034Z"
   },
   {
    "duration": 53,
    "start_time": "2021-12-21T04:39:20.037Z"
   },
   {
    "duration": 51,
    "start_time": "2021-12-21T04:49:28.340Z"
   },
   {
    "duration": 61,
    "start_time": "2021-12-21T04:50:13.356Z"
   },
   {
    "duration": 59,
    "start_time": "2021-12-21T04:52:48.615Z"
   },
   {
    "duration": 60,
    "start_time": "2021-12-21T04:55:10.899Z"
   },
   {
    "duration": 66,
    "start_time": "2021-12-21T04:56:57.390Z"
   },
   {
    "duration": 619,
    "start_time": "2021-12-21T04:57:50.913Z"
   },
   {
    "duration": 69,
    "start_time": "2021-12-21T04:57:51.534Z"
   },
   {
    "duration": 68,
    "start_time": "2021-12-21T04:58:54.636Z"
   },
   {
    "duration": 57,
    "start_time": "2021-12-21T04:59:29.454Z"
   },
   {
    "duration": 59,
    "start_time": "2021-12-21T04:59:43.157Z"
   },
   {
    "duration": 55,
    "start_time": "2021-12-21T05:00:11.973Z"
   },
   {
    "duration": 72,
    "start_time": "2021-12-21T05:00:53.291Z"
   },
   {
    "duration": 74,
    "start_time": "2021-12-21T05:13:09.225Z"
   },
   {
    "duration": 32,
    "start_time": "2021-12-21T05:26:45.822Z"
   },
   {
    "duration": 80,
    "start_time": "2021-12-21T06:51:06.723Z"
   },
   {
    "duration": 158,
    "start_time": "2021-12-21T06:51:58.742Z"
   },
   {
    "duration": 150,
    "start_time": "2021-12-21T06:53:14.673Z"
   },
   {
    "duration": 185,
    "start_time": "2021-12-21T06:55:16.140Z"
   },
   {
    "duration": 725,
    "start_time": "2021-12-21T06:56:19.830Z"
   },
   {
    "duration": 193,
    "start_time": "2021-12-21T06:56:20.561Z"
   },
   {
    "duration": 167,
    "start_time": "2021-12-21T06:56:38.777Z"
   },
   {
    "duration": 178,
    "start_time": "2021-12-21T06:59:21.714Z"
   },
   {
    "duration": 189,
    "start_time": "2021-12-21T07:00:02.727Z"
   },
   {
    "duration": 194,
    "start_time": "2021-12-21T07:01:04.332Z"
   },
   {
    "duration": 177,
    "start_time": "2021-12-21T07:03:26.176Z"
   },
   {
    "duration": 180,
    "start_time": "2021-12-21T07:05:07.078Z"
   },
   {
    "duration": 181,
    "start_time": "2021-12-21T07:06:04.941Z"
   },
   {
    "duration": 175,
    "start_time": "2021-12-21T07:07:31.041Z"
   },
   {
    "duration": 401,
    "start_time": "2021-12-21T07:08:38.129Z"
   },
   {
    "duration": 457,
    "start_time": "2021-12-21T07:09:04.429Z"
   },
   {
    "duration": 361,
    "start_time": "2021-12-21T07:09:42.978Z"
   },
   {
    "duration": 174,
    "start_time": "2021-12-21T07:10:09.093Z"
   },
   {
    "duration": 355,
    "start_time": "2021-12-21T07:11:18.643Z"
   },
   {
    "duration": 1036,
    "start_time": "2021-12-21T07:11:45.130Z"
   },
   {
    "duration": 163,
    "start_time": "2021-12-21T07:12:07.321Z"
   },
   {
    "duration": 373,
    "start_time": "2021-12-21T07:17:37.013Z"
   },
   {
    "duration": 382,
    "start_time": "2021-12-21T07:20:30.272Z"
   },
   {
    "duration": 177,
    "start_time": "2021-12-21T07:22:30.353Z"
   },
   {
    "duration": 169,
    "start_time": "2021-12-21T07:24:05.625Z"
   },
   {
    "duration": 168,
    "start_time": "2021-12-21T07:39:06.248Z"
   },
   {
    "duration": 214,
    "start_time": "2021-12-21T07:39:33.586Z"
   },
   {
    "duration": 217,
    "start_time": "2021-12-21T07:40:59.096Z"
   },
   {
    "duration": 740,
    "start_time": "2021-12-21T07:41:26.365Z"
   },
   {
    "duration": 217,
    "start_time": "2021-12-21T07:41:27.107Z"
   },
   {
    "duration": 212,
    "start_time": "2021-12-21T07:42:11.462Z"
   },
   {
    "duration": 212,
    "start_time": "2021-12-21T07:43:53.700Z"
   },
   {
    "duration": 219,
    "start_time": "2021-12-21T07:44:18.260Z"
   },
   {
    "duration": 90,
    "start_time": "2021-12-21T07:44:37.596Z"
   },
   {
    "duration": 218,
    "start_time": "2021-12-21T07:44:44.876Z"
   },
   {
    "duration": 214,
    "start_time": "2021-12-21T07:45:24.775Z"
   },
   {
    "duration": 187,
    "start_time": "2021-12-21T07:51:23.534Z"
   },
   {
    "duration": 198,
    "start_time": "2021-12-21T07:55:05.639Z"
   },
   {
    "duration": 216,
    "start_time": "2021-12-21T07:56:08.307Z"
   },
   {
    "duration": 229,
    "start_time": "2021-12-21T07:57:24.023Z"
   },
   {
    "duration": 93,
    "start_time": "2021-12-21T07:58:15.254Z"
   },
   {
    "duration": 224,
    "start_time": "2021-12-21T07:58:25.085Z"
   },
   {
    "duration": 228,
    "start_time": "2021-12-21T07:59:46.090Z"
   },
   {
    "duration": 336,
    "start_time": "2021-12-21T08:02:21.531Z"
   },
   {
    "duration": 268,
    "start_time": "2021-12-21T08:03:09.531Z"
   },
   {
    "duration": 92,
    "start_time": "2021-12-21T08:07:42.663Z"
   },
   {
    "duration": 267,
    "start_time": "2021-12-21T08:07:51.633Z"
   },
   {
    "duration": 217,
    "start_time": "2021-12-21T08:12:19.191Z"
   },
   {
    "duration": 212,
    "start_time": "2021-12-21T08:12:47.283Z"
   },
   {
    "duration": 330,
    "start_time": "2021-12-21T08:13:55.682Z"
   },
   {
    "duration": 90,
    "start_time": "2021-12-21T08:43:39.205Z"
   },
   {
    "duration": 1829,
    "start_time": "2021-12-21T08:43:48.656Z"
   },
   {
    "duration": 110,
    "start_time": "2021-12-21T08:47:02.563Z"
   },
   {
    "duration": 1783,
    "start_time": "2021-12-21T08:47:58.415Z"
   },
   {
    "duration": 118,
    "start_time": "2021-12-21T08:57:46.836Z"
   },
   {
    "duration": 247,
    "start_time": "2021-12-21T08:57:57.249Z"
   },
   {
    "duration": 124,
    "start_time": "2021-12-21T09:00:17.845Z"
   },
   {
    "duration": 512,
    "start_time": "2021-12-21T09:00:28.222Z"
   },
   {
    "duration": 427,
    "start_time": "2021-12-21T09:01:11.583Z"
   },
   {
    "duration": 109,
    "start_time": "2021-12-21T09:04:22.075Z"
   },
   {
    "duration": 443,
    "start_time": "2021-12-21T09:04:29.665Z"
   },
   {
    "duration": 109,
    "start_time": "2021-12-21T09:25:54.484Z"
   },
   {
    "duration": 168,
    "start_time": "2021-12-21T09:27:09.438Z"
   },
   {
    "duration": 467,
    "start_time": "2021-12-21T09:27:45.787Z"
   },
   {
    "duration": 129,
    "start_time": "2021-12-21T13:09:38.128Z"
   },
   {
    "duration": 1640,
    "start_time": "2021-12-21T13:09:59.980Z"
   },
   {
    "duration": 675,
    "start_time": "2021-12-21T13:10:42.945Z"
   },
   {
    "duration": 134,
    "start_time": "2021-12-21T13:51:32.365Z"
   },
   {
    "duration": 487,
    "start_time": "2021-12-21T13:51:40.198Z"
   },
   {
    "duration": 111,
    "start_time": "2021-12-21T14:08:05.882Z"
   },
   {
    "duration": 226,
    "start_time": "2021-12-21T14:08:14.701Z"
   },
   {
    "duration": 899,
    "start_time": "2021-12-21T17:01:21.054Z"
   },
   {
    "duration": 326,
    "start_time": "2021-12-21T17:01:21.956Z"
   },
   {
    "duration": 152,
    "start_time": "2021-12-21T17:01:32.064Z"
   },
   {
    "duration": 212,
    "start_time": "2021-12-21T17:02:09.403Z"
   },
   {
    "duration": 2594,
    "start_time": "2021-12-21T17:02:40.850Z"
   },
   {
    "duration": 752,
    "start_time": "2021-12-21T17:04:38.275Z"
   },
   {
    "duration": 2061,
    "start_time": "2021-12-21T17:04:39.029Z"
   },
   {
    "duration": 123,
    "start_time": "2021-12-21T17:04:51.899Z"
   },
   {
    "duration": 2230,
    "start_time": "2021-12-21T17:05:04.459Z"
   },
   {
    "duration": 4623,
    "start_time": "2021-12-21T17:10:53.825Z"
   },
   {
    "duration": 2141,
    "start_time": "2021-12-21T17:15:50.655Z"
   },
   {
    "duration": 150,
    "start_time": "2021-12-21T17:44:11.061Z"
   },
   {
    "duration": 2255,
    "start_time": "2021-12-21T17:44:27.819Z"
   },
   {
    "duration": 759,
    "start_time": "2021-12-21T17:48:26.518Z"
   },
   {
    "duration": 2519,
    "start_time": "2021-12-21T17:48:27.280Z"
   },
   {
    "duration": 144,
    "start_time": "2021-12-21T17:50:45.961Z"
   },
   {
    "duration": 212,
    "start_time": "2021-12-21T17:50:55.307Z"
   },
   {
    "duration": 222,
    "start_time": "2021-12-21T17:52:15.267Z"
   },
   {
    "duration": 1703,
    "start_time": "2021-12-21T17:53:25.593Z"
   },
   {
    "duration": 131,
    "start_time": "2021-12-21T17:55:07.392Z"
   },
   {
    "duration": 333,
    "start_time": "2021-12-21T17:57:04.971Z"
   },
   {
    "duration": 1965,
    "start_time": "2021-12-21T17:57:17.500Z"
   },
   {
    "duration": 1796,
    "start_time": "2021-12-21T17:58:09.863Z"
   },
   {
    "duration": 1946,
    "start_time": "2021-12-21T18:00:40.549Z"
   },
   {
    "duration": 109,
    "start_time": "2021-12-22T02:47:27.324Z"
   },
   {
    "duration": 346,
    "start_time": "2021-12-22T02:48:23.802Z"
   },
   {
    "duration": 939,
    "start_time": "2021-12-22T02:50:39.014Z"
   },
   {
    "duration": 347,
    "start_time": "2021-12-22T02:50:46.081Z"
   },
   {
    "duration": 316,
    "start_time": "2021-12-22T02:51:09.176Z"
   },
   {
    "duration": 2201,
    "start_time": "2021-12-22T02:51:20.963Z"
   },
   {
    "duration": 257,
    "start_time": "2021-12-22T02:52:01.990Z"
   },
   {
    "duration": 315,
    "start_time": "2021-12-22T02:52:10.413Z"
   },
   {
    "duration": 2221,
    "start_time": "2021-12-22T02:52:14.668Z"
   },
   {
    "duration": 2052,
    "start_time": "2021-12-22T02:53:01.517Z"
   },
   {
    "duration": 2025,
    "start_time": "2021-12-22T02:53:15.938Z"
   },
   {
    "duration": 2330,
    "start_time": "2021-12-22T02:58:42.139Z"
   },
   {
    "duration": 2063,
    "start_time": "2021-12-22T02:59:37.807Z"
   },
   {
    "duration": 2148,
    "start_time": "2021-12-22T03:01:05.439Z"
   },
   {
    "duration": 352,
    "start_time": "2021-12-22T03:04:13.918Z"
   },
   {
    "duration": 300,
    "start_time": "2021-12-22T03:10:43.766Z"
   },
   {
    "duration": 328,
    "start_time": "2021-12-22T03:25:22.423Z"
   },
   {
    "duration": 7,
    "start_time": "2021-12-22T03:25:39.186Z"
   },
   {
    "duration": 92,
    "start_time": "2021-12-22T03:27:21.702Z"
   },
   {
    "duration": 12,
    "start_time": "2021-12-22T03:29:10.708Z"
   },
   {
    "duration": 296,
    "start_time": "2021-12-22T03:36:58.129Z"
   },
   {
    "duration": 310,
    "start_time": "2021-12-22T03:41:53.180Z"
   },
   {
    "duration": 341,
    "start_time": "2021-12-22T03:44:57.969Z"
   },
   {
    "duration": 281,
    "start_time": "2021-12-22T03:46:14.765Z"
   },
   {
    "duration": 567,
    "start_time": "2021-12-22T03:48:25.596Z"
   },
   {
    "duration": 299,
    "start_time": "2021-12-22T03:58:56.065Z"
   },
   {
    "duration": 302,
    "start_time": "2021-12-22T04:03:50.049Z"
   },
   {
    "duration": 118,
    "start_time": "2021-12-22T04:06:09.081Z"
   },
   {
    "duration": 957,
    "start_time": "2021-12-22T04:06:47.286Z"
   },
   {
    "duration": 325,
    "start_time": "2021-12-22T04:06:48.246Z"
   },
   {
    "duration": 1943,
    "start_time": "2021-12-22T04:06:48.574Z"
   },
   {
    "duration": 94,
    "start_time": "2021-12-22T04:06:50.519Z"
   },
   {
    "duration": -214,
    "start_time": "2021-12-22T04:06:50.830Z"
   },
   {
    "duration": 153,
    "start_time": "2021-12-22T04:07:12.956Z"
   },
   {
    "duration": 313,
    "start_time": "2021-12-22T04:07:18.506Z"
   },
   {
    "duration": 1923,
    "start_time": "2021-12-22T04:07:25.579Z"
   },
   {
    "duration": 93,
    "start_time": "2021-12-22T04:07:35.923Z"
   },
   {
    "duration": 110,
    "start_time": "2021-12-22T04:08:37.226Z"
   },
   {
    "duration": 6,
    "start_time": "2021-12-22T04:09:16.829Z"
   },
   {
    "duration": 383,
    "start_time": "2021-12-22T04:15:25.970Z"
   },
   {
    "duration": 12,
    "start_time": "2021-12-22T04:36:53.407Z"
   },
   {
    "duration": 164,
    "start_time": "2021-12-22T04:37:09.755Z"
   },
   {
    "duration": 309,
    "start_time": "2021-12-22T04:37:20.050Z"
   },
   {
    "duration": 1964,
    "start_time": "2021-12-22T04:37:26.536Z"
   },
   {
    "duration": 41,
    "start_time": "2021-12-22T04:38:10.520Z"
   },
   {
    "duration": 384,
    "start_time": "2021-12-22T04:43:52.022Z"
   },
   {
    "duration": 14,
    "start_time": "2021-12-22T04:44:20.345Z"
   },
   {
    "duration": 41,
    "start_time": "2021-12-22T04:45:57.997Z"
   },
   {
    "duration": 12,
    "start_time": "2021-12-22T04:53:44.792Z"
   },
   {
    "duration": 317,
    "start_time": "2021-12-22T04:58:57.285Z"
   },
   {
    "duration": 80,
    "start_time": "2021-12-22T04:59:25.407Z"
   },
   {
    "duration": 85,
    "start_time": "2021-12-22T05:05:38.450Z"
   },
   {
    "duration": 15,
    "start_time": "2021-12-22T05:08:08.642Z"
   },
   {
    "duration": 87,
    "start_time": "2021-12-22T05:08:14.274Z"
   },
   {
    "duration": 353,
    "start_time": "2021-12-22T05:17:17.274Z"
   },
   {
    "duration": 164,
    "start_time": "2021-12-22T05:18:29.183Z"
   },
   {
    "duration": 319,
    "start_time": "2021-12-22T05:18:33.902Z"
   },
   {
    "duration": 1975,
    "start_time": "2021-12-22T05:18:39.481Z"
   },
   {
    "duration": 20,
    "start_time": "2021-12-22T05:18:44.010Z"
   },
   {
    "duration": 358,
    "start_time": "2021-12-22T05:19:00.381Z"
   },
   {
    "duration": 180,
    "start_time": "2021-12-22T05:23:16.861Z"
   },
   {
    "duration": 8308,
    "start_time": "2021-12-22T05:36:18.920Z"
   },
   {
    "duration": 156,
    "start_time": "2021-12-22T05:37:18.615Z"
   },
   {
    "duration": 325,
    "start_time": "2021-12-22T05:37:24.629Z"
   },
   {
    "duration": 2223,
    "start_time": "2021-12-22T05:37:30.222Z"
   },
   {
    "duration": 20,
    "start_time": "2021-12-22T05:37:33.968Z"
   },
   {
    "duration": 72,
    "start_time": "2021-12-22T05:37:39.861Z"
   },
   {
    "duration": 180,
    "start_time": "2021-12-22T06:35:13.294Z"
   },
   {
    "duration": 354,
    "start_time": "2021-12-22T06:35:34.353Z"
   },
   {
    "duration": 3027,
    "start_time": "2021-12-22T06:35:44.350Z"
   },
   {
    "duration": 32,
    "start_time": "2021-12-22T06:35:49.280Z"
   },
   {
    "duration": 87,
    "start_time": "2021-12-22T06:35:57.344Z"
   },
   {
    "duration": 42,
    "start_time": "2021-12-22T06:54:04.253Z"
   },
   {
    "duration": 42,
    "start_time": "2021-12-22T06:55:29.984Z"
   },
   {
    "duration": 6,
    "start_time": "2021-12-22T06:55:57.442Z"
   },
   {
    "duration": 49,
    "start_time": "2021-12-22T07:05:07.923Z"
   },
   {
    "duration": 60,
    "start_time": "2021-12-22T07:06:26.963Z"
   },
   {
    "duration": 9,
    "start_time": "2021-12-22T07:09:20.199Z"
   },
   {
    "duration": 44,
    "start_time": "2021-12-22T07:12:18.157Z"
   },
   {
    "duration": 49,
    "start_time": "2021-12-22T07:57:05.646Z"
   },
   {
    "duration": 17,
    "start_time": "2021-12-22T08:32:58.017Z"
   },
   {
    "duration": 951,
    "start_time": "2021-12-22T08:39:54.261Z"
   },
   {
    "duration": 964,
    "start_time": "2021-12-22T08:40:23.819Z"
   },
   {
    "duration": 975,
    "start_time": "2021-12-22T08:42:14.547Z"
   },
   {
    "duration": 40,
    "start_time": "2021-12-22T08:46:59.902Z"
   },
   {
    "duration": 39,
    "start_time": "2021-12-22T08:50:09.999Z"
   },
   {
    "duration": 7,
    "start_time": "2021-12-22T08:50:41.921Z"
   },
   {
    "duration": 759,
    "start_time": "2021-12-22T09:48:57.484Z"
   },
   {
    "duration": 618,
    "start_time": "2021-12-22T09:51:10.151Z"
   },
   {
    "duration": 627,
    "start_time": "2021-12-22T09:51:36.780Z"
   },
   {
    "duration": 335,
    "start_time": "2021-12-22T09:51:56.994Z"
   },
   {
    "duration": 315,
    "start_time": "2021-12-22T09:54:32.966Z"
   },
   {
    "duration": 381,
    "start_time": "2021-12-22T09:57:47.812Z"
   },
   {
    "duration": 307,
    "start_time": "2021-12-22T10:00:07.972Z"
   },
   {
    "duration": 602,
    "start_time": "2021-12-22T10:07:20.932Z"
   },
   {
    "duration": 3488,
    "start_time": "2021-12-22T10:08:07.050Z"
   },
   {
    "duration": 318,
    "start_time": "2021-12-22T10:09:01.846Z"
   },
   {
    "duration": 455,
    "start_time": "2021-12-22T10:09:10.807Z"
   },
   {
    "duration": 450,
    "start_time": "2021-12-22T10:10:21.370Z"
   },
   {
    "duration": 438,
    "start_time": "2021-12-22T10:10:49.115Z"
   },
   {
    "duration": 462,
    "start_time": "2021-12-22T10:11:27.890Z"
   },
   {
    "duration": 506,
    "start_time": "2021-12-22T10:11:52.586Z"
   },
   {
    "duration": 363,
    "start_time": "2021-12-22T10:12:18.803Z"
   },
   {
    "duration": 303,
    "start_time": "2021-12-22T10:13:42.859Z"
   },
   {
    "duration": 605,
    "start_time": "2021-12-22T10:13:55.138Z"
   },
   {
    "duration": 116,
    "start_time": "2021-12-22T11:01:25.940Z"
   },
   {
    "duration": 465,
    "start_time": "2021-12-22T11:10:56.886Z"
   },
   {
    "duration": 319,
    "start_time": "2021-12-22T11:11:27.312Z"
   },
   {
    "duration": 630,
    "start_time": "2021-12-22T11:11:52.272Z"
   },
   {
    "duration": 459,
    "start_time": "2021-12-22T11:16:27.253Z"
   },
   {
    "duration": 747,
    "start_time": "2021-12-22T11:16:50.952Z"
   },
   {
    "duration": 933,
    "start_time": "2021-12-22T11:17:17.441Z"
   },
   {
    "duration": 636,
    "start_time": "2021-12-22T11:17:34.718Z"
   },
   {
    "duration": 639,
    "start_time": "2021-12-23T02:49:31.544Z"
   },
   {
    "duration": 188,
    "start_time": "2021-12-23T02:49:38.351Z"
   },
   {
    "duration": 1264,
    "start_time": "2021-12-23T02:49:43.051Z"
   },
   {
    "duration": 16,
    "start_time": "2021-12-23T02:49:54.942Z"
   },
   {
    "duration": 50,
    "start_time": "2021-12-23T02:50:24.993Z"
   },
   {
    "duration": 4,
    "start_time": "2021-12-23T02:50:36.271Z"
   },
   {
    "duration": 14,
    "start_time": "2021-12-23T02:50:37.496Z"
   },
   {
    "duration": 550,
    "start_time": "2021-12-23T02:50:39.020Z"
   },
   {
    "duration": 5,
    "start_time": "2021-12-23T02:50:40.725Z"
   },
   {
    "duration": 348,
    "start_time": "2021-12-23T02:50:54.898Z"
   },
   {
    "duration": 237,
    "start_time": "2021-12-23T02:52:02.432Z"
   },
   {
    "duration": 286,
    "start_time": "2021-12-23T03:01:38.245Z"
   },
   {
    "duration": 294,
    "start_time": "2021-12-23T03:03:22.901Z"
   },
   {
    "duration": 243,
    "start_time": "2021-12-23T03:09:50.529Z"
   },
   {
    "duration": 202,
    "start_time": "2021-12-23T03:14:39.657Z"
   },
   {
    "duration": 292,
    "start_time": "2021-12-23T03:15:44.984Z"
   },
   {
    "duration": 381,
    "start_time": "2021-12-23T03:17:03.271Z"
   },
   {
    "duration": 296,
    "start_time": "2021-12-23T03:18:46.830Z"
   },
   {
    "duration": 202,
    "start_time": "2021-12-23T03:19:09.065Z"
   },
   {
    "duration": 467,
    "start_time": "2021-12-23T03:19:55.748Z"
   },
   {
    "duration": 402,
    "start_time": "2021-12-23T03:20:49.376Z"
   },
   {
    "duration": 387,
    "start_time": "2021-12-23T03:48:35.645Z"
   },
   {
    "duration": 2318,
    "start_time": "2021-12-23T04:15:47.802Z"
   },
   {
    "duration": 1350,
    "start_time": "2021-12-23T04:17:49.420Z"
   },
   {
    "duration": 396,
    "start_time": "2021-12-23T04:18:15.831Z"
   },
   {
    "duration": 116,
    "start_time": "2021-12-23T05:29:46.669Z"
   },
   {
    "duration": 186,
    "start_time": "2021-12-23T05:29:58.740Z"
   },
   {
    "duration": 1314,
    "start_time": "2021-12-23T05:30:04.516Z"
   },
   {
    "duration": 17,
    "start_time": "2021-12-23T05:30:25.581Z"
   },
   {
    "duration": 50,
    "start_time": "2021-12-23T05:30:31.087Z"
   },
   {
    "duration": 5,
    "start_time": "2021-12-23T05:30:41.200Z"
   },
   {
    "duration": 12,
    "start_time": "2021-12-23T05:30:42.081Z"
   },
   {
    "duration": 534,
    "start_time": "2021-12-23T05:30:42.930Z"
   },
   {
    "duration": 6,
    "start_time": "2021-12-23T05:30:43.776Z"
   },
   {
    "duration": 257,
    "start_time": "2021-12-23T05:30:48.124Z"
   },
   {
    "duration": 280,
    "start_time": "2021-12-23T05:30:55.074Z"
   },
   {
    "duration": 280,
    "start_time": "2021-12-23T05:30:58.779Z"
   },
   {
    "duration": 526,
    "start_time": "2021-12-23T05:31:06.040Z"
   },
   {
    "duration": 396,
    "start_time": "2021-12-23T05:31:24.040Z"
   },
   {
    "duration": 410,
    "start_time": "2021-12-23T05:31:31.184Z"
   },
   {
    "duration": 30,
    "start_time": "2021-12-23T06:13:25.437Z"
   },
   {
    "duration": 26,
    "start_time": "2021-12-23T06:27:00.688Z"
   },
   {
    "duration": 26,
    "start_time": "2021-12-23T06:29:44.351Z"
   },
   {
    "duration": 27,
    "start_time": "2021-12-23T06:36:29.326Z"
   },
   {
    "duration": 29,
    "start_time": "2021-12-23T06:43:50.172Z"
   },
   {
    "duration": 38,
    "start_time": "2021-12-23T06:57:50.915Z"
   },
   {
    "duration": 438,
    "start_time": "2021-12-23T07:16:15.653Z"
   },
   {
    "duration": 351,
    "start_time": "2021-12-23T07:17:01.598Z"
   },
   {
    "duration": 260,
    "start_time": "2021-12-23T07:17:43.618Z"
   },
   {
    "duration": 460,
    "start_time": "2021-12-23T07:30:58.581Z"
   },
   {
    "duration": 3656,
    "start_time": "2021-12-23T07:35:50.530Z"
   },
   {
    "duration": 518,
    "start_time": "2021-12-23T07:36:40.530Z"
   },
   {
    "duration": 492,
    "start_time": "2021-12-23T07:41:40.358Z"
   },
   {
    "duration": 42,
    "start_time": "2021-12-23T07:48:19.340Z"
   },
   {
    "duration": 474,
    "start_time": "2021-12-23T07:50:30.181Z"
   },
   {
    "duration": 493,
    "start_time": "2021-12-23T07:59:40.216Z"
   },
   {
    "duration": 522,
    "start_time": "2021-12-23T08:03:39.516Z"
   },
   {
    "duration": 696,
    "start_time": "2021-12-23T08:08:02.160Z"
   },
   {
    "duration": 51,
    "start_time": "2021-12-23T08:11:55.228Z"
   },
   {
    "duration": 160,
    "start_time": "2021-12-23T08:14:49.724Z"
   },
   {
    "duration": 639,
    "start_time": "2021-12-23T08:27:08.316Z"
   },
   {
    "duration": 196,
    "start_time": "2021-12-23T08:27:08.957Z"
   },
   {
    "duration": 1289,
    "start_time": "2021-12-23T08:27:09.155Z"
   },
   {
    "duration": 14,
    "start_time": "2021-12-23T08:27:10.446Z"
   },
   {
    "duration": 59,
    "start_time": "2021-12-23T08:27:10.461Z"
   },
   {
    "duration": 4,
    "start_time": "2021-12-23T08:27:10.522Z"
   },
   {
    "duration": 17,
    "start_time": "2021-12-23T08:27:10.527Z"
   },
   {
    "duration": 563,
    "start_time": "2021-12-23T08:27:10.546Z"
   },
   {
    "duration": 5,
    "start_time": "2021-12-23T08:27:11.111Z"
   },
   {
    "duration": 384,
    "start_time": "2021-12-23T08:27:11.117Z"
   },
   {
    "duration": 9,
    "start_time": "2021-12-23T08:27:11.502Z"
   },
   {
    "duration": 306,
    "start_time": "2021-12-23T08:27:11.513Z"
   },
   {
    "duration": 314,
    "start_time": "2021-12-23T08:27:11.821Z"
   },
   {
    "duration": 404,
    "start_time": "2021-12-23T08:27:12.137Z"
   },
   {
    "duration": 413,
    "start_time": "2021-12-23T08:27:12.543Z"
   },
   {
    "duration": 416,
    "start_time": "2021-12-23T08:27:12.957Z"
   },
   {
    "duration": 36,
    "start_time": "2021-12-23T08:27:13.375Z"
   },
   {
    "duration": 288,
    "start_time": "2021-12-23T08:27:13.413Z"
   },
   {
    "duration": 542,
    "start_time": "2021-12-23T08:27:13.703Z"
   },
   {
    "duration": 514,
    "start_time": "2021-12-23T08:27:14.247Z"
   },
   {
    "duration": 492,
    "start_time": "2021-12-23T08:27:14.762Z"
   },
   {
    "duration": 214,
    "start_time": "2021-12-23T08:27:15.256Z"
   },
   {
    "duration": 128,
    "start_time": "2021-12-23T08:27:37.286Z"
   },
   {
    "duration": 195,
    "start_time": "2021-12-23T08:27:48.768Z"
   },
   {
    "duration": 1312,
    "start_time": "2021-12-23T08:27:57.200Z"
   },
   {
    "duration": 16,
    "start_time": "2021-12-23T08:27:58.744Z"
   },
   {
    "duration": 46,
    "start_time": "2021-12-23T08:28:00.045Z"
   },
   {
    "duration": 4,
    "start_time": "2021-12-23T08:28:06.322Z"
   },
   {
    "duration": 12,
    "start_time": "2021-12-23T08:28:06.777Z"
   },
   {
    "duration": 555,
    "start_time": "2021-12-23T08:28:07.295Z"
   },
   {
    "duration": 5,
    "start_time": "2021-12-23T08:28:07.852Z"
   },
   {
    "duration": 249,
    "start_time": "2021-12-23T08:28:16.947Z"
   },
   {
    "duration": 9,
    "start_time": "2021-12-23T08:28:27.779Z"
   },
   {
    "duration": 288,
    "start_time": "2021-12-23T08:35:42.603Z"
   },
   {
    "duration": 8,
    "start_time": "2021-12-23T08:41:00.592Z"
   },
   {
    "duration": 308,
    "start_time": "2021-12-23T08:50:31.018Z"
   },
   {
    "duration": 9,
    "start_time": "2021-12-23T08:59:33.958Z"
   },
   {
    "duration": 8,
    "start_time": "2021-12-23T09:06:46.835Z"
   },
   {
    "duration": 404,
    "start_time": "2021-12-23T09:07:23.050Z"
   },
   {
    "duration": 9,
    "start_time": "2021-12-23T09:14:40.151Z"
   },
   {
    "duration": 26,
    "start_time": "2021-12-23T09:15:43.267Z"
   },
   {
    "duration": 341,
    "start_time": "2021-12-23T09:17:21.419Z"
   },
   {
    "duration": 283,
    "start_time": "2021-12-23T09:19:58.494Z"
   },
   {
    "duration": 282,
    "start_time": "2021-12-23T09:20:41.683Z"
   },
   {
    "duration": 482,
    "start_time": "2021-12-23T09:26:07.195Z"
   },
   {
    "duration": 496,
    "start_time": "2021-12-23T09:27:07.697Z"
   },
   {
    "duration": 503,
    "start_time": "2021-12-23T09:28:06.790Z"
   },
   {
    "duration": 525,
    "start_time": "2021-12-23T09:31:57.323Z"
   },
   {
    "duration": 541,
    "start_time": "2021-12-23T09:35:03.428Z"
   },
   {
    "duration": 4044,
    "start_time": "2021-12-23T09:37:32.381Z"
   },
   {
    "duration": 1031,
    "start_time": "2021-12-23T09:38:26.652Z"
   },
   {
    "duration": 1590,
    "start_time": "2021-12-23T09:41:13.812Z"
   },
   {
    "duration": 2074,
    "start_time": "2021-12-23T09:57:13.935Z"
   },
   {
    "duration": 519,
    "start_time": "2021-12-23T10:06:26.680Z"
   },
   {
    "duration": 712,
    "start_time": "2021-12-23T10:10:29.191Z"
   },
   {
    "duration": 215,
    "start_time": "2021-12-23T10:10:29.904Z"
   },
   {
    "duration": 1365,
    "start_time": "2021-12-23T10:10:30.121Z"
   },
   {
    "duration": 16,
    "start_time": "2021-12-23T10:10:31.488Z"
   },
   {
    "duration": 53,
    "start_time": "2021-12-23T10:10:31.506Z"
   },
   {
    "duration": 31,
    "start_time": "2021-12-23T10:10:31.561Z"
   },
   {
    "duration": 19,
    "start_time": "2021-12-23T10:10:31.594Z"
   },
   {
    "duration": 569,
    "start_time": "2021-12-23T10:10:31.615Z"
   },
   {
    "duration": 7,
    "start_time": "2021-12-23T10:10:32.186Z"
   },
   {
    "duration": 398,
    "start_time": "2021-12-23T10:10:32.195Z"
   },
   {
    "duration": 9,
    "start_time": "2021-12-23T10:10:32.595Z"
   },
   {
    "duration": 324,
    "start_time": "2021-12-23T10:10:32.606Z"
   },
   {
    "duration": 8,
    "start_time": "2021-12-23T10:10:32.931Z"
   },
   {
    "duration": 321,
    "start_time": "2021-12-23T10:10:32.941Z"
   },
   {
    "duration": 8,
    "start_time": "2021-12-23T10:10:33.264Z"
   },
   {
    "duration": 433,
    "start_time": "2021-12-23T10:10:33.273Z"
   },
   {
    "duration": 8,
    "start_time": "2021-12-23T10:10:33.707Z"
   },
   {
    "duration": 429,
    "start_time": "2021-12-23T10:10:33.717Z"
   },
   {
    "duration": 8,
    "start_time": "2021-12-23T10:10:34.148Z"
   },
   {
    "duration": 448,
    "start_time": "2021-12-23T10:10:34.157Z"
   },
   {
    "duration": 28,
    "start_time": "2021-12-23T10:10:34.608Z"
   },
   {
    "duration": 299,
    "start_time": "2021-12-23T10:10:34.638Z"
   },
   {
    "duration": 566,
    "start_time": "2021-12-23T10:10:34.939Z"
   },
   {
    "duration": 503,
    "start_time": "2021-12-23T10:10:35.507Z"
   },
   {
    "duration": 550,
    "start_time": "2021-12-23T10:10:36.011Z"
   },
   {
    "duration": 1606,
    "start_time": "2021-12-23T10:10:36.563Z"
   },
   {
    "duration": 560,
    "start_time": "2021-12-23T10:10:38.171Z"
   },
   {
    "duration": 564,
    "start_time": "2021-12-23T10:19:44.255Z"
   },
   {
    "duration": 249,
    "start_time": "2021-12-23T10:24:52.824Z"
   },
   {
    "duration": 8,
    "start_time": "2021-12-23T10:33:29.506Z"
   },
   {
    "duration": 13,
    "start_time": "2021-12-23T10:36:42.671Z"
   },
   {
    "duration": 214,
    "start_time": "2021-12-23T11:13:31.789Z"
   },
   {
    "duration": 43,
    "start_time": "2021-12-23T11:16:46.349Z"
   },
   {
    "duration": 66,
    "start_time": "2021-12-23T11:17:37.568Z"
   },
   {
    "duration": 46,
    "start_time": "2021-12-23T11:20:46.627Z"
   },
   {
    "duration": 13,
    "start_time": "2021-12-23T11:31:35.285Z"
   },
   {
    "duration": 8,
    "start_time": "2021-12-23T11:32:26.015Z"
   },
   {
    "duration": 21,
    "start_time": "2021-12-23T14:12:02.710Z"
   },
   {
    "duration": 20,
    "start_time": "2021-12-23T14:13:11.356Z"
   },
   {
    "duration": 19,
    "start_time": "2021-12-23T14:15:53.503Z"
   },
   {
    "duration": 151,
    "start_time": "2021-12-23T14:17:02.648Z"
   },
   {
    "duration": 169,
    "start_time": "2021-12-23T14:19:18.434Z"
   },
   {
    "duration": 21,
    "start_time": "2021-12-23T14:20:23.102Z"
   },
   {
    "duration": 179,
    "start_time": "2021-12-23T14:21:42.240Z"
   },
   {
    "duration": 20,
    "start_time": "2021-12-23T14:22:48.859Z"
   },
   {
    "duration": 21,
    "start_time": "2021-12-23T14:25:40.983Z"
   },
   {
    "duration": 8,
    "start_time": "2021-12-23T14:29:18.033Z"
   },
   {
    "duration": 20,
    "start_time": "2021-12-23T14:34:27.326Z"
   },
   {
    "duration": 951,
    "start_time": "2021-12-24T02:11:05.848Z"
   },
   {
    "duration": 350,
    "start_time": "2021-12-24T02:11:06.801Z"
   },
   {
    "duration": 2013,
    "start_time": "2021-12-24T02:11:07.154Z"
   },
   {
    "duration": 20,
    "start_time": "2021-12-24T02:11:09.170Z"
   },
   {
    "duration": 89,
    "start_time": "2021-12-24T02:11:09.193Z"
   },
   {
    "duration": 5,
    "start_time": "2021-12-24T02:11:09.285Z"
   },
   {
    "duration": 24,
    "start_time": "2021-12-24T02:11:09.292Z"
   },
   {
    "duration": 971,
    "start_time": "2021-12-24T02:11:09.319Z"
   },
   {
    "duration": 7,
    "start_time": "2021-12-24T02:11:10.294Z"
   },
   {
    "duration": 579,
    "start_time": "2021-12-24T02:11:10.305Z"
   },
   {
    "duration": 14,
    "start_time": "2021-12-24T02:11:10.886Z"
   },
   {
    "duration": 493,
    "start_time": "2021-12-24T02:11:10.902Z"
   },
   {
    "duration": 12,
    "start_time": "2021-12-24T02:11:11.397Z"
   },
   {
    "duration": 529,
    "start_time": "2021-12-24T02:11:11.411Z"
   },
   {
    "duration": 24,
    "start_time": "2021-12-24T02:11:11.943Z"
   },
   {
    "duration": 662,
    "start_time": "2021-12-24T02:11:11.970Z"
   },
   {
    "duration": 12,
    "start_time": "2021-12-24T02:11:12.635Z"
   },
   {
    "duration": 682,
    "start_time": "2021-12-24T02:11:12.650Z"
   },
   {
    "duration": 11,
    "start_time": "2021-12-24T02:11:13.334Z"
   },
   {
    "duration": 786,
    "start_time": "2021-12-24T02:11:13.348Z"
   },
   {
    "duration": 53,
    "start_time": "2021-12-24T02:11:14.137Z"
   },
   {
    "duration": 449,
    "start_time": "2021-12-24T02:11:14.193Z"
   },
   {
    "duration": 787,
    "start_time": "2021-12-24T02:11:14.644Z"
   },
   {
    "duration": 759,
    "start_time": "2021-12-24T02:11:15.433Z"
   },
   {
    "duration": 738,
    "start_time": "2021-12-24T02:11:16.194Z"
   },
   {
    "duration": 2260,
    "start_time": "2021-12-24T02:11:16.935Z"
   },
   {
    "duration": 909,
    "start_time": "2021-12-24T02:11:19.199Z"
   },
   {
    "duration": 752,
    "start_time": "2021-12-24T02:11:20.111Z"
   },
   {
    "duration": 12,
    "start_time": "2021-12-24T02:11:20.867Z"
   },
   {
    "duration": 33,
    "start_time": "2021-12-24T02:11:20.881Z"
   },
   {
    "duration": 8,
    "start_time": "2021-12-24T02:12:17.030Z"
   },
   {
    "duration": 40,
    "start_time": "2021-12-24T03:25:22.121Z"
   },
   {
    "duration": 44,
    "start_time": "2021-12-24T03:34:33.181Z"
   },
   {
    "duration": 41,
    "start_time": "2021-12-24T03:34:58.076Z"
   },
   {
    "duration": 45,
    "start_time": "2021-12-24T03:38:03.044Z"
   },
   {
    "duration": 43,
    "start_time": "2021-12-24T03:38:55.464Z"
   },
   {
    "duration": 49,
    "start_time": "2021-12-24T03:40:50.172Z"
   },
   {
    "duration": 46,
    "start_time": "2021-12-24T03:41:28.982Z"
   },
   {
    "duration": 35,
    "start_time": "2021-12-24T03:43:44.739Z"
   },
   {
    "duration": 390,
    "start_time": "2021-12-24T09:16:53.872Z"
   },
   {
    "duration": 1016,
    "start_time": "2021-12-24T09:17:23.715Z"
   },
   {
    "duration": 331,
    "start_time": "2021-12-24T09:17:32.789Z"
   },
   {
    "duration": 2076,
    "start_time": "2021-12-24T09:17:35.208Z"
   },
   {
    "duration": 21,
    "start_time": "2021-12-24T09:17:37.287Z"
   },
   {
    "duration": 70,
    "start_time": "2021-12-24T09:17:39.177Z"
   },
   {
    "duration": 6,
    "start_time": "2021-12-24T09:17:51.651Z"
   },
   {
    "duration": 17,
    "start_time": "2021-12-24T09:17:52.699Z"
   },
   {
    "duration": 950,
    "start_time": "2021-12-24T09:17:53.585Z"
   },
   {
    "duration": 6,
    "start_time": "2021-12-24T09:17:54.537Z"
   },
   {
    "duration": 572,
    "start_time": "2021-12-24T09:18:00.133Z"
   },
   {
    "duration": 15,
    "start_time": "2021-12-24T09:18:06.442Z"
   },
   {
    "duration": 448,
    "start_time": "2021-12-24T09:18:07.651Z"
   },
   {
    "duration": 12,
    "start_time": "2021-12-24T09:18:11.390Z"
   },
   {
    "duration": 480,
    "start_time": "2021-12-24T09:18:12.439Z"
   },
   {
    "duration": 12,
    "start_time": "2021-12-24T09:18:15.473Z"
   },
   {
    "duration": 645,
    "start_time": "2021-12-24T09:18:16.451Z"
   },
   {
    "duration": 14,
    "start_time": "2021-12-24T09:18:19.414Z"
   },
   {
    "duration": 643,
    "start_time": "2021-12-24T09:18:20.734Z"
   },
   {
    "duration": 12,
    "start_time": "2021-12-24T09:18:24.054Z"
   },
   {
    "duration": 633,
    "start_time": "2021-12-24T09:18:25.256Z"
   },
   {
    "duration": 45,
    "start_time": "2021-12-24T09:18:28.178Z"
   },
   {
    "duration": 427,
    "start_time": "2021-12-24T09:18:30.801Z"
   },
   {
    "duration": 742,
    "start_time": "2021-12-24T09:18:33.367Z"
   },
   {
    "duration": 707,
    "start_time": "2021-12-24T09:18:36.894Z"
   },
   {
    "duration": 745,
    "start_time": "2021-12-24T09:18:41.450Z"
   },
   {
    "duration": 2144,
    "start_time": "2021-12-24T09:18:47.381Z"
   },
   {
    "duration": 1158,
    "start_time": "2021-12-24T09:18:55.532Z"
   },
   {
    "duration": 732,
    "start_time": "2021-12-24T09:18:59.044Z"
   },
   {
    "duration": 8,
    "start_time": "2021-12-24T09:19:05.787Z"
   },
   {
    "duration": 31,
    "start_time": "2021-12-24T09:19:08.891Z"
   },
   {
    "duration": 48,
    "start_time": "2021-12-24T09:19:16.141Z"
   },
   {
    "duration": 34,
    "start_time": "2021-12-24T09:21:08.073Z"
   },
   {
    "duration": 39,
    "start_time": "2021-12-24T09:26:46.234Z"
   },
   {
    "duration": 55,
    "start_time": "2021-12-24T09:52:45.918Z"
   },
   {
    "duration": 10115,
    "start_time": "2021-12-24T10:03:02.669Z"
   },
   {
    "duration": 56,
    "start_time": "2021-12-24T10:05:28.058Z"
   },
   {
    "duration": 68,
    "start_time": "2021-12-24T10:07:27.366Z"
   },
   {
    "duration": 9185,
    "start_time": "2021-12-24T10:08:01.187Z"
   },
   {
    "duration": 2098,
    "start_time": "2021-12-24T10:20:04.305Z"
   },
   {
    "duration": 718,
    "start_time": "2021-12-24T10:53:50.617Z"
   },
   {
    "duration": 650,
    "start_time": "2021-12-24T10:55:34.188Z"
   },
   {
    "duration": 645,
    "start_time": "2021-12-24T11:10:24.841Z"
   },
   {
    "duration": 9,
    "start_time": "2021-12-24T11:15:08.178Z"
   },
   {
    "duration": 30,
    "start_time": "2021-12-24T11:16:09.837Z"
   },
   {
    "duration": 36,
    "start_time": "2021-12-24T11:16:58.591Z"
   },
   {
    "duration": 31,
    "start_time": "2021-12-24T11:18:07.525Z"
   },
   {
    "duration": 11,
    "start_time": "2021-12-24T11:23:24.513Z"
   },
   {
    "duration": 14,
    "start_time": "2021-12-24T11:24:07.492Z"
   },
   {
    "duration": 452,
    "start_time": "2021-12-24T11:27:01.011Z"
   },
   {
    "duration": 700,
    "start_time": "2021-12-24T11:31:40.586Z"
   },
   {
    "duration": 652,
    "start_time": "2021-12-24T11:32:00.088Z"
   },
   {
    "duration": 16,
    "start_time": "2021-12-24T11:32:44.568Z"
   },
   {
    "duration": 533,
    "start_time": "2021-12-24T11:35:19.028Z"
   },
   {
    "duration": 953,
    "start_time": "2021-12-24T11:36:27.692Z"
   },
   {
    "duration": 359,
    "start_time": "2021-12-24T11:36:28.647Z"
   },
   {
    "duration": 2086,
    "start_time": "2021-12-24T11:36:29.010Z"
   },
   {
    "duration": 28,
    "start_time": "2021-12-24T11:36:31.100Z"
   },
   {
    "duration": 132,
    "start_time": "2021-12-24T11:36:31.131Z"
   },
   {
    "duration": 7,
    "start_time": "2021-12-24T11:36:31.266Z"
   },
   {
    "duration": 32,
    "start_time": "2021-12-24T11:36:31.277Z"
   },
   {
    "duration": 996,
    "start_time": "2021-12-24T11:36:31.314Z"
   },
   {
    "duration": 10,
    "start_time": "2021-12-24T11:36:32.314Z"
   },
   {
    "duration": 574,
    "start_time": "2021-12-24T11:36:32.327Z"
   },
   {
    "duration": 21,
    "start_time": "2021-12-24T11:36:32.904Z"
   },
   {
    "duration": 795,
    "start_time": "2021-12-24T11:36:32.928Z"
   },
   {
    "duration": 36,
    "start_time": "2021-12-24T11:36:33.726Z"
   },
   {
    "duration": 818,
    "start_time": "2021-12-24T11:36:33.766Z"
   },
   {
    "duration": 11,
    "start_time": "2021-12-24T11:36:34.587Z"
   },
   {
    "duration": 667,
    "start_time": "2021-12-24T11:36:34.600Z"
   },
   {
    "duration": 11,
    "start_time": "2021-12-24T11:36:35.269Z"
   },
   {
    "duration": 679,
    "start_time": "2021-12-24T11:36:35.283Z"
   },
   {
    "duration": 11,
    "start_time": "2021-12-24T11:36:35.964Z"
   },
   {
    "duration": 1146,
    "start_time": "2021-12-24T11:36:35.978Z"
   },
   {
    "duration": 79,
    "start_time": "2021-12-24T11:36:37.128Z"
   },
   {
    "duration": 455,
    "start_time": "2021-12-24T11:36:37.209Z"
   },
   {
    "duration": 802,
    "start_time": "2021-12-24T11:36:37.670Z"
   },
   {
    "duration": 760,
    "start_time": "2021-12-24T11:36:38.475Z"
   },
   {
    "duration": 781,
    "start_time": "2021-12-24T11:36:39.238Z"
   },
   {
    "duration": 2226,
    "start_time": "2021-12-24T11:36:40.022Z"
   },
   {
    "duration": 914,
    "start_time": "2021-12-24T11:36:42.251Z"
   },
   {
    "duration": 768,
    "start_time": "2021-12-24T11:36:43.167Z"
   },
   {
    "duration": 9,
    "start_time": "2021-12-24T11:36:43.937Z"
   },
   {
    "duration": 34,
    "start_time": "2021-12-24T11:36:43.959Z"
   },
   {
    "duration": 610,
    "start_time": "2021-12-24T11:36:43.995Z"
   },
   {
    "duration": 51,
    "start_time": "2021-12-24T11:36:44.608Z"
   },
   {
    "duration": 561,
    "start_time": "2021-12-24T11:36:44.662Z"
   },
   {
    "duration": 451,
    "start_time": "2021-12-24T11:42:04.388Z"
   },
   {
    "duration": 39,
    "start_time": "2021-12-24T11:50:55.880Z"
   },
   {
    "duration": 162,
    "start_time": "2021-12-24T11:51:20.571Z"
   },
   {
    "duration": 323,
    "start_time": "2021-12-24T11:51:29.910Z"
   },
   {
    "duration": 1977,
    "start_time": "2021-12-24T11:51:37.296Z"
   },
   {
    "duration": 22,
    "start_time": "2021-12-24T11:51:40.167Z"
   },
   {
    "duration": 69,
    "start_time": "2021-12-24T11:52:05.105Z"
   },
   {
    "duration": 5,
    "start_time": "2021-12-24T11:52:18.889Z"
   },
   {
    "duration": 18,
    "start_time": "2021-12-24T11:52:20.230Z"
   },
   {
    "duration": 951,
    "start_time": "2021-12-24T11:52:21.662Z"
   },
   {
    "duration": 7,
    "start_time": "2021-12-24T11:52:23.683Z"
   },
   {
    "duration": 400,
    "start_time": "2021-12-24T11:52:34.154Z"
   },
   {
    "duration": 15,
    "start_time": "2021-12-24T11:52:43.236Z"
   },
   {
    "duration": 512,
    "start_time": "2021-12-24T11:52:45.535Z"
   },
   {
    "duration": 13,
    "start_time": "2021-12-24T11:52:54.335Z"
   },
   {
    "duration": 793,
    "start_time": "2021-12-24T11:52:55.338Z"
   },
   {
    "duration": 17,
    "start_time": "2021-12-24T11:53:00.051Z"
   },
   {
    "duration": 1094,
    "start_time": "2021-12-24T11:53:01.592Z"
   },
   {
    "duration": 12,
    "start_time": "2021-12-24T11:53:13.842Z"
   },
   {
    "duration": 928,
    "start_time": "2021-12-24T11:53:18.837Z"
   },
   {
    "duration": 13,
    "start_time": "2021-12-24T11:53:27.530Z"
   },
   {
    "duration": 646,
    "start_time": "2021-12-24T11:53:33.338Z"
   },
   {
    "duration": 40,
    "start_time": "2021-12-24T11:53:42.061Z"
   },
   {
    "duration": 411,
    "start_time": "2021-12-24T11:53:58.279Z"
   },
   {
    "duration": 723,
    "start_time": "2021-12-24T11:54:09.155Z"
   },
   {
    "duration": 735,
    "start_time": "2021-12-24T11:54:18.239Z"
   },
   {
    "duration": 733,
    "start_time": "2021-12-24T11:54:24.428Z"
   },
   {
    "duration": 2187,
    "start_time": "2021-12-24T11:54:30.311Z"
   },
   {
    "duration": 36,
    "start_time": "2021-12-24T11:54:37.021Z"
   },
   {
    "duration": 8987,
    "start_time": "2021-12-24T11:54:58.668Z"
   },
   {
    "duration": 13,
    "start_time": "2021-12-24T12:01:07.294Z"
   },
   {
    "duration": 13,
    "start_time": "2021-12-24T12:01:54.692Z"
   },
   {
    "duration": 14,
    "start_time": "2021-12-24T12:02:40.538Z"
   },
   {
    "duration": 12,
    "start_time": "2021-12-24T12:03:03.152Z"
   },
   {
    "duration": 13,
    "start_time": "2021-12-24T12:03:22.228Z"
   },
   {
    "duration": 57,
    "start_time": "2021-12-24T12:04:05.568Z"
   },
   {
    "duration": 428,
    "start_time": "2021-12-24T12:05:29.144Z"
   },
   {
    "duration": 906,
    "start_time": "2021-12-24T12:06:19.036Z"
   },
   {
    "duration": 699,
    "start_time": "2021-12-24T12:10:16.655Z"
   },
   {
    "duration": 756,
    "start_time": "2021-12-24T12:13:24.657Z"
   },
   {
    "duration": 2141,
    "start_time": "2021-12-24T12:14:56.287Z"
   },
   {
    "duration": 839,
    "start_time": "2021-12-24T12:18:24.173Z"
   },
   {
    "duration": 733,
    "start_time": "2021-12-24T12:19:14.075Z"
   },
   {
    "duration": 13,
    "start_time": "2021-12-24T12:21:06.122Z"
   },
   {
    "duration": 11,
    "start_time": "2021-12-24T12:21:34.148Z"
   },
   {
    "duration": 9,
    "start_time": "2021-12-24T12:22:26.297Z"
   },
   {
    "duration": 29,
    "start_time": "2021-12-24T12:22:54.343Z"
   },
   {
    "duration": 657,
    "start_time": "2021-12-24T12:25:29.467Z"
   },
   {
    "duration": 37,
    "start_time": "2021-12-24T12:27:18.769Z"
   },
   {
    "duration": 515,
    "start_time": "2021-12-24T12:28:46.764Z"
   },
   {
    "duration": 518,
    "start_time": "2021-12-24T12:30:45.190Z"
   },
   {
    "duration": 12,
    "start_time": "2021-12-24T12:39:48.756Z"
   },
   {
    "duration": 15,
    "start_time": "2021-12-24T12:40:55.199Z"
   },
   {
    "duration": 13,
    "start_time": "2021-12-24T12:45:44.570Z"
   },
   {
    "duration": 2372,
    "start_time": "2021-12-24T12:49:57.543Z"
   },
   {
    "duration": 11,
    "start_time": "2021-12-24T12:51:20.879Z"
   },
   {
    "duration": 15,
    "start_time": "2021-12-24T12:58:21.392Z"
   },
   {
    "duration": 805,
    "start_time": "2021-12-24T13:00:06.116Z"
   },
   {
    "duration": 687,
    "start_time": "2021-12-24T13:01:31.892Z"
   },
   {
    "duration": 174,
    "start_time": "2021-12-24T13:02:05.241Z"
   },
   {
    "duration": 525,
    "start_time": "2021-12-24T13:02:14.006Z"
   },
   {
    "duration": 2974,
    "start_time": "2021-12-24T13:02:16.434Z"
   },
   {
    "duration": 42,
    "start_time": "2021-12-24T13:02:21.685Z"
   },
   {
    "duration": 78,
    "start_time": "2021-12-24T13:02:28.722Z"
   },
   {
    "duration": 6,
    "start_time": "2021-12-24T13:02:57.295Z"
   },
   {
    "duration": 20,
    "start_time": "2021-12-24T13:03:00.072Z"
   },
   {
    "duration": 928,
    "start_time": "2021-12-24T13:03:04.514Z"
   },
   {
    "duration": 8,
    "start_time": "2021-12-24T13:03:07.020Z"
   },
   {
    "duration": 391,
    "start_time": "2021-12-24T13:03:18.157Z"
   },
   {
    "duration": 16,
    "start_time": "2021-12-24T13:03:32.812Z"
   },
   {
    "duration": 481,
    "start_time": "2021-12-24T13:03:39.627Z"
   },
   {
    "duration": 17,
    "start_time": "2021-12-24T13:03:55.137Z"
   },
   {
    "duration": 455,
    "start_time": "2021-12-24T13:04:04.213Z"
   },
   {
    "duration": 158,
    "start_time": "2021-12-24T13:08:50.011Z"
   },
   {
    "duration": 411,
    "start_time": "2021-12-24T13:08:56.136Z"
   },
   {
    "duration": 2037,
    "start_time": "2021-12-24T13:08:57.472Z"
   },
   {
    "duration": 20,
    "start_time": "2021-12-24T13:08:59.512Z"
   },
   {
    "duration": 68,
    "start_time": "2021-12-24T13:08:59.961Z"
   },
   {
    "duration": 6,
    "start_time": "2021-12-24T13:09:12.933Z"
   },
   {
    "duration": 17,
    "start_time": "2021-12-24T13:09:17.001Z"
   },
   {
    "duration": 1078,
    "start_time": "2021-12-24T13:09:19.211Z"
   },
   {
    "duration": 7,
    "start_time": "2021-12-24T13:09:20.292Z"
   },
   {
    "duration": 382,
    "start_time": "2021-12-24T13:09:32.836Z"
   },
   {
    "duration": 449,
    "start_time": "2021-12-24T13:10:06.374Z"
   },
   {
    "duration": 487,
    "start_time": "2021-12-24T13:11:34.392Z"
   },
   {
    "duration": 686,
    "start_time": "2021-12-24T13:14:02.337Z"
   },
   {
    "duration": 800,
    "start_time": "2021-12-24T13:14:40.345Z"
   },
   {
    "duration": 668,
    "start_time": "2021-12-24T13:16:24.337Z"
   },
   {
    "duration": 738,
    "start_time": "2021-12-24T13:16:52.295Z"
   },
   {
    "duration": 439,
    "start_time": "2021-12-24T13:25:33.082Z"
   },
   {
    "duration": 609,
    "start_time": "2021-12-24T13:26:19.004Z"
   },
   {
    "duration": 819,
    "start_time": "2021-12-24T13:27:39.849Z"
   },
   {
    "duration": 731,
    "start_time": "2021-12-24T13:28:18.484Z"
   },
   {
    "duration": 757,
    "start_time": "2021-12-24T13:30:53.736Z"
   },
   {
    "duration": 2106,
    "start_time": "2021-12-24T13:31:56.763Z"
   },
   {
    "duration": 751,
    "start_time": "2021-12-24T13:32:38.594Z"
   },
   {
    "duration": 701,
    "start_time": "2021-12-24T13:33:18.783Z"
   },
   {
    "duration": 10,
    "start_time": "2021-12-24T13:34:10.136Z"
   },
   {
    "duration": 32,
    "start_time": "2021-12-24T13:35:02.423Z"
   },
   {
    "duration": 639,
    "start_time": "2021-12-24T13:36:43.033Z"
   },
   {
    "duration": 29,
    "start_time": "2021-12-24T13:38:02.436Z"
   },
   {
    "duration": 780,
    "start_time": "2021-12-24T13:51:19.359Z"
   },
   {
    "duration": 877,
    "start_time": "2021-12-24T13:59:31.324Z"
   },
   {
    "duration": 466,
    "start_time": "2021-12-24T14:06:28.509Z"
   },
   {
    "duration": 764,
    "start_time": "2021-12-24T14:13:04.872Z"
   },
   {
    "duration": 499,
    "start_time": "2021-12-24T14:13:52.950Z"
   },
   {
    "duration": 492,
    "start_time": "2021-12-24T14:17:56.120Z"
   },
   {
    "duration": 9906,
    "start_time": "2021-12-24T14:22:22.185Z"
   },
   {
    "duration": 639,
    "start_time": "2021-12-24T14:24:18.633Z"
   },
   {
    "duration": 10111,
    "start_time": "2021-12-24T14:24:32.272Z"
   },
   {
    "duration": 34,
    "start_time": "2021-12-24T14:26:38.942Z"
   },
   {
    "duration": 1049,
    "start_time": "2021-12-24T14:29:55.399Z"
   },
   {
    "duration": 32,
    "start_time": "2021-12-24T14:30:22.553Z"
   },
   {
    "duration": 175,
    "start_time": "2021-12-24T14:30:41.773Z"
   },
   {
    "duration": 359,
    "start_time": "2021-12-24T14:30:49.974Z"
   },
   {
    "duration": 2804,
    "start_time": "2021-12-24T14:30:51.562Z"
   },
   {
    "duration": 30,
    "start_time": "2021-12-24T14:30:54.370Z"
   },
   {
    "duration": 113,
    "start_time": "2021-12-24T14:30:57.343Z"
   },
   {
    "duration": 5,
    "start_time": "2021-12-24T14:31:07.326Z"
   },
   {
    "duration": 30,
    "start_time": "2021-12-24T14:31:09.761Z"
   },
   {
    "duration": 1038,
    "start_time": "2021-12-24T14:31:10.988Z"
   },
   {
    "duration": 8,
    "start_time": "2021-12-24T14:31:13.053Z"
   },
   {
    "duration": 427,
    "start_time": "2021-12-24T14:31:15.688Z"
   },
   {
    "duration": 5,
    "start_time": "2021-12-24T14:31:18.631Z"
   },
   {
    "duration": 548,
    "start_time": "2021-12-24T14:31:19.822Z"
   },
   {
    "duration": 4,
    "start_time": "2021-12-24T14:31:22.760Z"
   },
   {
    "duration": 805,
    "start_time": "2021-12-24T14:31:24.037Z"
   },
   {
    "duration": 4,
    "start_time": "2021-12-24T14:31:31.840Z"
   },
   {
    "duration": 1125,
    "start_time": "2021-12-24T14:31:33.566Z"
   },
   {
    "duration": 4,
    "start_time": "2021-12-24T14:31:38.485Z"
   },
   {
    "duration": 728,
    "start_time": "2021-12-24T14:31:40.993Z"
   },
   {
    "duration": 4,
    "start_time": "2021-12-24T14:31:45.812Z"
   },
   {
    "duration": 1148,
    "start_time": "2021-12-24T14:31:47.457Z"
   },
   {
    "duration": 49,
    "start_time": "2021-12-24T14:31:54.978Z"
   },
   {
    "duration": 552,
    "start_time": "2021-12-24T14:32:00.686Z"
   },
   {
    "duration": 932,
    "start_time": "2021-12-24T14:32:11.462Z"
   },
   {
    "duration": 757,
    "start_time": "2021-12-24T14:32:23.088Z"
   },
   {
    "duration": 1005,
    "start_time": "2021-12-24T14:32:37.049Z"
   },
   {
    "duration": 2480,
    "start_time": "2021-12-24T14:32:43.496Z"
   },
   {
    "duration": 853,
    "start_time": "2021-12-24T14:32:55.898Z"
   },
   {
    "duration": 1006,
    "start_time": "2021-12-24T14:32:58.941Z"
   },
   {
    "duration": 16,
    "start_time": "2021-12-24T14:33:07.576Z"
   },
   {
    "duration": 32,
    "start_time": "2021-12-24T14:33:09.379Z"
   },
   {
    "duration": 644,
    "start_time": "2021-12-24T14:33:13.734Z"
   },
   {
    "duration": 42,
    "start_time": "2021-12-24T14:33:23.794Z"
   },
   {
    "duration": 646,
    "start_time": "2021-12-24T14:33:26.092Z"
   },
   {
    "duration": 914,
    "start_time": "2021-12-24T14:33:29.145Z"
   },
   {
    "duration": 724,
    "start_time": "2021-12-24T14:33:32.091Z"
   },
   {
    "duration": 447,
    "start_time": "2021-12-24T14:33:37.900Z"
   },
   {
    "duration": 503,
    "start_time": "2021-12-24T14:33:43.464Z"
   },
   {
    "duration": 538,
    "start_time": "2021-12-24T14:33:59.215Z"
   },
   {
    "duration": 41,
    "start_time": "2021-12-24T14:34:18.445Z"
   },
   {
    "duration": 1404,
    "start_time": "2021-12-24T14:34:58.156Z"
   },
   {
    "duration": 744,
    "start_time": "2021-12-25T11:21:28.954Z"
   },
   {
    "duration": 217,
    "start_time": "2021-12-25T11:21:29.700Z"
   },
   {
    "duration": 1438,
    "start_time": "2021-12-25T11:21:29.919Z"
   },
   {
    "duration": 21,
    "start_time": "2021-12-25T11:21:31.362Z"
   },
   {
    "duration": 55,
    "start_time": "2021-12-25T11:21:31.385Z"
   },
   {
    "duration": 20,
    "start_time": "2021-12-25T11:21:31.441Z"
   },
   {
    "duration": 31,
    "start_time": "2021-12-25T11:21:31.464Z"
   },
   {
    "duration": 613,
    "start_time": "2021-12-25T11:21:31.497Z"
   },
   {
    "duration": 5,
    "start_time": "2021-12-25T11:21:32.112Z"
   },
   {
    "duration": 386,
    "start_time": "2021-12-25T11:21:32.119Z"
   },
   {
    "duration": 300,
    "start_time": "2021-12-25T11:21:32.507Z"
   },
   {
    "duration": 312,
    "start_time": "2021-12-25T11:21:32.809Z"
   },
   {
    "duration": 425,
    "start_time": "2021-12-25T11:21:33.123Z"
   },
   {
    "duration": 435,
    "start_time": "2021-12-25T11:21:33.549Z"
   },
   {
    "duration": 425,
    "start_time": "2021-12-25T11:21:33.986Z"
   },
   {
    "duration": 28,
    "start_time": "2021-12-25T11:21:34.414Z"
   },
   {
    "duration": 391,
    "start_time": "2021-12-25T11:21:34.445Z"
   },
   {
    "duration": 558,
    "start_time": "2021-12-25T11:21:34.838Z"
   },
   {
    "duration": 584,
    "start_time": "2021-12-25T11:21:35.398Z"
   },
   {
    "duration": 504,
    "start_time": "2021-12-25T11:21:35.984Z"
   },
   {
    "duration": 1426,
    "start_time": "2021-12-25T11:21:36.489Z"
   },
   {
    "duration": 478,
    "start_time": "2021-12-25T11:21:37.916Z"
   },
   {
    "duration": 526,
    "start_time": "2021-12-25T11:21:38.397Z"
   },
   {
    "duration": 5,
    "start_time": "2021-12-25T11:21:38.925Z"
   },
   {
    "duration": 31,
    "start_time": "2021-12-25T11:21:38.932Z"
   },
   {
    "duration": 383,
    "start_time": "2021-12-25T11:21:38.968Z"
   },
   {
    "duration": 32,
    "start_time": "2021-12-25T11:21:39.361Z"
   },
   {
    "duration": 408,
    "start_time": "2021-12-25T11:21:39.395Z"
   },
   {
    "duration": 603,
    "start_time": "2021-12-25T11:21:39.805Z"
   },
   {
    "duration": 424,
    "start_time": "2021-12-25T11:21:40.410Z"
   },
   {
    "duration": 364,
    "start_time": "2021-12-25T11:21:40.836Z"
   },
   {
    "duration": 314,
    "start_time": "2021-12-25T11:21:41.202Z"
   },
   {
    "duration": 381,
    "start_time": "2021-12-25T11:21:41.518Z"
   },
   {
    "duration": 976,
    "start_time": "2021-12-25T11:21:41.902Z"
   },
   {
    "duration": 661,
    "start_time": "2021-12-25T12:41:58.671Z"
   },
   {
    "duration": 268,
    "start_time": "2021-12-25T12:42:09.041Z"
   },
   {
    "duration": 1231,
    "start_time": "2021-12-25T12:42:11.719Z"
   },
   {
    "duration": 13,
    "start_time": "2021-12-25T12:42:12.951Z"
   },
   {
    "duration": 51,
    "start_time": "2021-12-25T12:42:13.934Z"
   },
   {
    "duration": 4,
    "start_time": "2021-12-25T12:42:26.015Z"
   },
   {
    "duration": 12,
    "start_time": "2021-12-25T12:42:26.597Z"
   },
   {
    "duration": 622,
    "start_time": "2021-12-25T12:42:28.950Z"
   },
   {
    "duration": 5,
    "start_time": "2021-12-25T12:42:29.639Z"
   },
   {
    "duration": 317,
    "start_time": "2021-12-25T12:42:35.586Z"
   },
   {
    "duration": 278,
    "start_time": "2021-12-25T12:42:42.722Z"
   },
   {
    "duration": 247,
    "start_time": "2021-12-25T12:42:53.710Z"
   },
   {
    "duration": 340,
    "start_time": "2021-12-25T12:43:01.566Z"
   },
   {
    "duration": 344,
    "start_time": "2021-12-25T12:43:07.407Z"
   },
   {
    "duration": 364,
    "start_time": "2021-12-25T12:43:13.676Z"
   },
   {
    "duration": 25,
    "start_time": "2021-12-25T12:43:18.363Z"
   },
   {
    "duration": 267,
    "start_time": "2021-12-25T12:43:24.429Z"
   },
   {
    "duration": 404,
    "start_time": "2021-12-25T12:43:37.035Z"
   },
   {
    "duration": 493,
    "start_time": "2021-12-25T12:43:52.852Z"
   },
   {
    "duration": 539,
    "start_time": "2021-12-25T12:44:02.717Z"
   },
   {
    "duration": 1576,
    "start_time": "2021-12-25T12:44:13.377Z"
   },
   {
    "duration": 485,
    "start_time": "2021-12-25T12:44:24.039Z"
   },
   {
    "duration": 200683,
    "start_time": "2021-12-25T12:44:25.544Z"
   },
   {
    "duration": 334,
    "start_time": "2021-12-25T12:53:40.056Z"
   },
   {
    "duration": 167,
    "start_time": "2021-12-25T12:54:30.036Z"
   },
   {
    "duration": 3,
    "start_time": "2021-12-25T13:03:27.257Z"
   },
   {
    "duration": 170,
    "start_time": "2021-12-25T13:03:34.632Z"
   },
   {
    "duration": 170,
    "start_time": "2021-12-25T13:06:32.328Z"
   },
   {
    "duration": 168,
    "start_time": "2021-12-25T13:12:52.412Z"
   },
   {
    "duration": 174,
    "start_time": "2021-12-25T13:18:13.350Z"
   },
   {
    "duration": 370,
    "start_time": "2021-12-25T13:20:14.951Z"
   },
   {
    "duration": 577,
    "start_time": "2021-12-25T13:21:55.023Z"
   },
   {
    "duration": 165,
    "start_time": "2021-12-25T13:29:09.729Z"
   },
   {
    "duration": 545,
    "start_time": "2021-12-25T13:32:16.644Z"
   },
   {
    "duration": 166,
    "start_time": "2021-12-25T13:43:21.442Z"
   },
   {
    "duration": 6,
    "start_time": "2021-12-25T13:45:53.597Z"
   },
   {
    "duration": 22,
    "start_time": "2021-12-25T13:45:56.122Z"
   },
   {
    "duration": 317,
    "start_time": "2021-12-25T13:46:06.068Z"
   },
   {
    "duration": 24,
    "start_time": "2021-12-25T13:46:25.022Z"
   },
   {
    "duration": 247,
    "start_time": "2021-12-25T13:46:39.944Z"
   },
   {
    "duration": 357,
    "start_time": "2021-12-25T13:46:51.475Z"
   },
   {
    "duration": 367,
    "start_time": "2021-12-25T13:47:01.394Z"
   },
   {
    "duration": 170,
    "start_time": "2021-12-25T13:47:15.790Z"
   },
   {
    "duration": 173,
    "start_time": "2021-12-25T13:52:46.247Z"
   },
   {
    "duration": 172,
    "start_time": "2021-12-25T13:56:57.847Z"
   },
   {
    "duration": 188,
    "start_time": "2021-12-25T13:59:48.139Z"
   },
   {
    "duration": 188,
    "start_time": "2021-12-25T14:05:25.353Z"
   },
   {
    "duration": 573,
    "start_time": "2021-12-25T14:07:59.225Z"
   },
   {
    "duration": 89,
    "start_time": "2021-12-25T14:17:12.120Z"
   },
   {
    "duration": 99,
    "start_time": "2021-12-25T14:17:44.601Z"
   },
   {
    "duration": 92,
    "start_time": "2021-12-25T14:18:00.901Z"
   },
   {
    "duration": 96,
    "start_time": "2021-12-25T14:18:17.834Z"
   },
   {
    "duration": 118,
    "start_time": "2021-12-25T14:19:00.821Z"
   },
   {
    "duration": 232,
    "start_time": "2021-12-25T14:27:12.015Z"
   },
   {
    "duration": 244,
    "start_time": "2021-12-25T14:27:45.690Z"
   },
   {
    "duration": 256,
    "start_time": "2021-12-25T14:28:07.988Z"
   },
   {
    "duration": 372,
    "start_time": "2021-12-25T14:28:24.532Z"
   },
   {
    "duration": 350,
    "start_time": "2021-12-25T14:28:41.563Z"
   },
   {
    "duration": 350,
    "start_time": "2021-12-25T14:28:52.992Z"
   },
   {
    "duration": 257,
    "start_time": "2021-12-25T14:29:29.378Z"
   },
   {
    "duration": 170,
    "start_time": "2021-12-25T14:30:05.318Z"
   },
   {
    "duration": 573,
    "start_time": "2021-12-25T14:30:56.576Z"
   },
   {
    "duration": 156,
    "start_time": "2021-12-25T14:31:11.687Z"
   },
   {
    "duration": 330,
    "start_time": "2021-12-25T14:31:38.432Z"
   },
   {
    "duration": 271,
    "start_time": "2021-12-25T14:32:03.207Z"
   },
   {
    "duration": 344,
    "start_time": "2021-12-25T14:32:14.479Z"
   },
   {
    "duration": 350,
    "start_time": "2021-12-25T14:32:28.937Z"
   },
   {
    "duration": 167,
    "start_time": "2021-12-25T14:32:58.447Z"
   },
   {
    "duration": 176,
    "start_time": "2021-12-25T14:33:10.686Z"
   },
   {
    "duration": 653,
    "start_time": "2021-12-25T14:42:41.869Z"
   },
   {
    "duration": 189,
    "start_time": "2021-12-25T14:42:42.527Z"
   },
   {
    "duration": 1273,
    "start_time": "2021-12-25T14:42:42.718Z"
   },
   {
    "duration": 13,
    "start_time": "2021-12-25T14:42:43.992Z"
   },
   {
    "duration": 62,
    "start_time": "2021-12-25T14:42:44.007Z"
   },
   {
    "duration": 4,
    "start_time": "2021-12-25T14:42:44.070Z"
   },
   {
    "duration": 13,
    "start_time": "2021-12-25T14:42:44.076Z"
   },
   {
    "duration": 536,
    "start_time": "2021-12-25T14:42:44.091Z"
   },
   {
    "duration": 5,
    "start_time": "2021-12-25T14:42:44.629Z"
   },
   {
    "duration": 320,
    "start_time": "2021-12-25T14:42:44.635Z"
   },
   {
    "duration": 245,
    "start_time": "2021-12-25T14:42:44.957Z"
   },
   {
    "duration": 258,
    "start_time": "2021-12-25T14:42:45.203Z"
   },
   {
    "duration": 349,
    "start_time": "2021-12-25T14:42:45.463Z"
   },
   {
    "duration": 340,
    "start_time": "2021-12-25T14:42:45.814Z"
   },
   {
    "duration": 353,
    "start_time": "2021-12-25T14:42:46.155Z"
   },
   {
    "duration": 33,
    "start_time": "2021-12-25T14:42:46.509Z"
   },
   {
    "duration": 267,
    "start_time": "2021-12-25T14:42:46.544Z"
   },
   {
    "duration": 434,
    "start_time": "2021-12-25T14:42:46.813Z"
   },
   {
    "duration": 234,
    "start_time": "2021-12-25T14:42:47.249Z"
   },
   {
    "duration": 478,
    "start_time": "2021-12-25T14:42:47.485Z"
   },
   {
    "duration": 564,
    "start_time": "2021-12-25T14:42:47.965Z"
   },
   {
    "duration": 172,
    "start_time": "2021-12-25T14:42:48.530Z"
   },
   {
    "duration": 5,
    "start_time": "2021-12-25T14:42:48.704Z"
   },
   {
    "duration": 28,
    "start_time": "2021-12-25T14:42:48.711Z"
   },
   {
    "duration": 373,
    "start_time": "2021-12-25T14:42:48.741Z"
   },
   {
    "duration": 39,
    "start_time": "2021-12-25T14:42:49.116Z"
   },
   {
    "duration": 321,
    "start_time": "2021-12-25T14:42:49.157Z"
   },
   {
    "duration": 350,
    "start_time": "2021-12-25T14:42:49.480Z"
   },
   {
    "duration": 416,
    "start_time": "2021-12-25T14:42:49.832Z"
   },
   {
    "duration": 178,
    "start_time": "2021-12-25T14:42:50.249Z"
   },
   {
    "duration": 169,
    "start_time": "2021-12-25T14:42:50.428Z"
   },
   {
    "duration": 197,
    "start_time": "2021-12-25T14:42:50.598Z"
   },
   {
    "duration": 539,
    "start_time": "2021-12-25T14:57:13.651Z"
   },
   {
    "duration": 759,
    "start_time": "2021-12-25T16:18:54.613Z"
   },
   {
    "duration": 197,
    "start_time": "2021-12-25T16:18:55.374Z"
   },
   {
    "duration": 1227,
    "start_time": "2021-12-25T16:18:55.573Z"
   },
   {
    "duration": 14,
    "start_time": "2021-12-25T16:18:56.802Z"
   },
   {
    "duration": 56,
    "start_time": "2021-12-25T16:18:56.818Z"
   },
   {
    "duration": 4,
    "start_time": "2021-12-25T16:18:56.875Z"
   },
   {
    "duration": 13,
    "start_time": "2021-12-25T16:18:56.881Z"
   },
   {
    "duration": 560,
    "start_time": "2021-12-25T16:18:56.897Z"
   },
   {
    "duration": 5,
    "start_time": "2021-12-25T16:18:57.459Z"
   },
   {
    "duration": 368,
    "start_time": "2021-12-25T16:18:57.466Z"
   },
   {
    "duration": 265,
    "start_time": "2021-12-25T16:18:57.835Z"
   },
   {
    "duration": 267,
    "start_time": "2021-12-25T16:18:58.102Z"
   },
   {
    "duration": 364,
    "start_time": "2021-12-25T16:18:58.371Z"
   },
   {
    "duration": 362,
    "start_time": "2021-12-25T16:18:58.737Z"
   },
   {
    "duration": 365,
    "start_time": "2021-12-25T16:18:59.101Z"
   },
   {
    "duration": 25,
    "start_time": "2021-12-25T16:18:59.468Z"
   },
   {
    "duration": 281,
    "start_time": "2021-12-25T16:18:59.494Z"
   },
   {
    "duration": 460,
    "start_time": "2021-12-25T16:18:59.777Z"
   },
   {
    "duration": 396,
    "start_time": "2021-12-25T16:19:00.238Z"
   },
   {
    "duration": 556,
    "start_time": "2021-12-25T16:19:00.635Z"
   },
   {
    "duration": 581,
    "start_time": "2021-12-25T16:19:01.193Z"
   },
   {
    "duration": 172,
    "start_time": "2021-12-25T16:19:01.776Z"
   },
   {
    "duration": 5,
    "start_time": "2021-12-25T16:19:01.952Z"
   },
   {
    "duration": 22,
    "start_time": "2021-12-25T16:19:01.959Z"
   },
   {
    "duration": 344,
    "start_time": "2021-12-25T16:19:01.983Z"
   },
   {
    "duration": 27,
    "start_time": "2021-12-25T16:19:02.329Z"
   },
   {
    "duration": 260,
    "start_time": "2021-12-25T16:19:02.358Z"
   },
   {
    "duration": 633,
    "start_time": "2021-12-25T16:19:02.619Z"
   },
   {
    "duration": 703,
    "start_time": "2021-12-25T16:19:03.255Z"
   },
   {
    "duration": 219,
    "start_time": "2021-12-25T16:19:03.960Z"
   },
   {
    "duration": 179,
    "start_time": "2021-12-25T16:19:04.181Z"
   },
   {
    "duration": 289,
    "start_time": "2021-12-25T16:19:04.362Z"
   },
   {
    "duration": 563,
    "start_time": "2021-12-25T16:19:04.653Z"
   },
   {
    "duration": 678,
    "start_time": "2021-12-26T07:57:51.056Z"
   },
   {
    "duration": 203,
    "start_time": "2021-12-26T07:57:51.736Z"
   },
   {
    "duration": 1313,
    "start_time": "2021-12-26T07:57:51.941Z"
   },
   {
    "duration": 14,
    "start_time": "2021-12-26T07:57:53.256Z"
   },
   {
    "duration": 59,
    "start_time": "2021-12-26T07:57:53.272Z"
   },
   {
    "duration": 4,
    "start_time": "2021-12-26T07:57:53.332Z"
   },
   {
    "duration": 15,
    "start_time": "2021-12-26T07:57:53.338Z"
   },
   {
    "duration": 569,
    "start_time": "2021-12-26T07:57:53.355Z"
   },
   {
    "duration": 5,
    "start_time": "2021-12-26T07:57:53.927Z"
   },
   {
    "duration": 353,
    "start_time": "2021-12-26T07:57:53.934Z"
   },
   {
    "duration": 285,
    "start_time": "2021-12-26T07:57:54.292Z"
   },
   {
    "duration": 303,
    "start_time": "2021-12-26T07:57:54.578Z"
   },
   {
    "duration": 393,
    "start_time": "2021-12-26T07:57:54.882Z"
   },
   {
    "duration": 414,
    "start_time": "2021-12-26T07:57:55.277Z"
   },
   {
    "duration": 399,
    "start_time": "2021-12-26T07:57:55.693Z"
   },
   {
    "duration": 26,
    "start_time": "2021-12-26T07:57:56.093Z"
   },
   {
    "duration": 307,
    "start_time": "2021-12-26T07:57:56.121Z"
   },
   {
    "duration": 483,
    "start_time": "2021-12-26T07:57:56.429Z"
   },
   {
    "duration": 258,
    "start_time": "2021-12-26T07:57:56.913Z"
   },
   {
    "duration": 465,
    "start_time": "2021-12-26T07:57:57.172Z"
   },
   {
    "duration": 617,
    "start_time": "2021-12-26T07:57:57.638Z"
   },
   {
    "duration": 186,
    "start_time": "2021-12-26T07:57:58.256Z"
   },
   {
    "duration": 5,
    "start_time": "2021-12-26T07:57:58.444Z"
   },
   {
    "duration": 38,
    "start_time": "2021-12-26T07:57:58.451Z"
   },
   {
    "duration": 357,
    "start_time": "2021-12-26T07:57:58.490Z"
   },
   {
    "duration": 23,
    "start_time": "2021-12-26T07:57:58.848Z"
   },
   {
    "duration": 288,
    "start_time": "2021-12-26T07:57:58.872Z"
   },
   {
    "duration": 410,
    "start_time": "2021-12-26T07:57:59.162Z"
   },
   {
    "duration": 475,
    "start_time": "2021-12-26T07:57:59.574Z"
   },
   {
    "duration": 202,
    "start_time": "2021-12-26T07:58:00.050Z"
   },
   {
    "duration": 198,
    "start_time": "2021-12-26T07:58:00.254Z"
   },
   {
    "duration": 224,
    "start_time": "2021-12-26T07:58:00.454Z"
   },
   {
    "duration": 640,
    "start_time": "2021-12-26T07:58:00.680Z"
   }
  ],
  "kernelspec": {
   "display_name": "Python 3 (ipykernel)",
   "language": "python",
   "name": "python3"
  },
  "language_info": {
   "codemirror_mode": {
    "name": "ipython",
    "version": 3
   },
   "file_extension": ".py",
   "mimetype": "text/x-python",
   "name": "python",
   "nbconvert_exporter": "python",
   "pygments_lexer": "ipython3",
   "version": "3.9.5"
  },
  "toc": {
   "base_numbering": 1,
   "nav_menu": {},
   "number_sections": true,
   "sideBar": true,
   "skip_h1_title": true,
   "title_cell": "Содержание",
   "title_sidebar": "Contents",
   "toc_cell": true,
   "toc_position": {
    "height": "789px",
    "left": "0px",
    "top": "111.125px",
    "width": "328.812px"
   },
   "toc_section_display": false,
   "toc_window_display": false
  }
 },
 "nbformat": 4,
 "nbformat_minor": 2
}
